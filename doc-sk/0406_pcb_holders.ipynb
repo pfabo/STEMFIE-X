{
 "cells": [
  {
   "cell_type": "markdown",
   "id": "c517c831-31c0-4a8b-b80c-502238557c25",
   "metadata": {},
   "source": [
    "# <font color='teal'> <b> STEMFIE-X Držiaky plošných spojov</b></font>\n",
    "\n",
    "<img src=\"./img/banner_02.png\" width=\"800\">"
   ]
  },
  {
   "cell_type": "markdown",
   "id": "b8d24f91-647e-48bb-b39d-9abb1a435bfe",
   "metadata": {},
   "source": [
    "### <font color='teal'> <b> Parametre </b></font>\n",
    "\n",
    "Univerzálne držiaky pre upevnenie plošných spojov v rastri BU.  Otvory pre montáž sú v zdrojovom kóde upravené na priemer 3.8mm zmenou hodnoty globálnej premennej *HoleRadius*. \n",
    "\n",
    "Držiaky sú navrhnuté pre menšie plošné spoje (obvody na univerzálnych pcb, drivery, senzory) a pre použitie v demonštračných pomôckach pre výuku elektroniky.\n",
    "\n",
    "### <font color='purple'> <b> Implementácia </b></font>\n",
    "\n",
    "Držiaky sú navrhnuté pre upevnenie menších plošných spojov so šírkou 35,45 a 55mm.\n",
    "\n",
    "<img src=\"./img/img_0328_holder_all.png\" width=\"400\">\n",
    "\n",
    "<img src=\"./img/img_0326_holder_5U.png\" width=\"400\">\n",
    "\n",
    "### <font color='teal'> <b> Použitie</b></font>\n",
    "\n",
    "OBRAZOK - ToDO\n",
    "\n",
    "<img src=\"./img/banner_02.png\" width=\"800\">"
   ]
  }
 ],
 "metadata": {
  "kernelspec": {
   "display_name": "Python 3 (ipykernel)",
   "language": "python",
   "name": "python3"
  },
  "language_info": {
   "codemirror_mode": {
    "name": "ipython",
    "version": 3
   },
   "file_extension": ".py",
   "mimetype": "text/x-python",
   "name": "python",
   "nbconvert_exporter": "python",
   "pygments_lexer": "ipython3",
   "version": "3.8.10"
  }
 },
 "nbformat": 4,
 "nbformat_minor": 5
}
