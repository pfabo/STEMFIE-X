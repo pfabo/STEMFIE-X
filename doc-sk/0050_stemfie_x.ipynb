{
 "cells": [
  {
   "cell_type": "markdown",
   "metadata": {
    "jupyter": {
     "source_hidden": true
    },
    "tags": []
   },
   "source": [
    "<!-- <script>\n",
    "  function code_toggle() {\n",
    "    if (code_shown){\n",
    "      $('div.input').hide('500');\n",
    "      $('#toggleButton').val('Show Code')\n",
    "    } else {\n",
    "      $('div.input').show('500');\n",
    "      $('#toggleButton').val('Hide Code')\n",
    "    }\n",
    "    code_shown = !code_shown\n",
    "  }\n",
    "\n",
    "  $( document ).ready(function(){\n",
    "    code_shown=false;\n",
    "    $('div.input').hide()\n",
    "  });\n",
    "</script>\n",
    "<form action=\"javascript:code_toggle()\">\n",
    "  <input type=\"submit\" id=\"toggleButton\" value=\"Show Code\">\n",
    "</form> -->"
   ]
  },
  {
   "cell_type": "markdown",
   "metadata": {},
   "source": [
    "# <font color='teal'> <b> STEMFIE</b></font>\n",
    "\n",
    "<img src=\"./img/banner_02.png\" width=\"800\">\n",
    "\n",
    "[STEMFIE](https://www.stemfie.org/) je konštrukčná stavebnica pre deti, ktorej autorom je [Paulo Kiefe](https://www.stemfie.org/about). Idea projektu je založená na návrhu a 3D tlači univerzálnych komponentov a spojovacích prvkov a následnej konštrukcii vlastných modelov.\n",
    "\n",
    "Pre parametrický návrh komponentov stavebnice (nosníky, spojky ...) rôznych tvarov a veľkostí vytvoril [Brendon Collecutt](https://github.com/Cantareus/Stemfie_OpenSCAD/blob/main/docs/stemfie.scad.md) parametrickú knižnicu pre program openSCAD. Pre návrh a konštrukciu modelov je možné využiť aj ďaľšie grafické programy a CAD návrhové systémy, ako sú FreeCAD, Blender a Tinkercad.\n"
   ]
  },
  {
   "cell_type": "markdown",
   "metadata": {
    "tags": []
   },
   "source": [
    "<img src=\"./img/stemfie.png\" width=\"800\">"
   ]
  },
  {
   "cell_type": "markdown",
   "metadata": {},
   "source": [
    "## <font color='Chocolate'>  <b> STEMFIE-X </b> </font>\n",
    "\n",
    "Konštrukčná stavebnica STEMFIE-X využíva základné princípy projektu STEMFIE s úpravami pre použitie ako platformy pre tvorbu komplexnejších konštrukcií a modelov využívajúcich mechanické a elektronické prvky - motory, serva, elektronické obvody a riadenie mikrokontrolérmi. Stavebnica je primárne určená pre polytechnickú výuku na stredných školách a prvých semestroch vysokých škôl pri výuke parametrického modelovania, CAD systémov, konštrukcií strojov a mechanizmov."
   ]
  },
  {
   "cell_type": "markdown",
   "metadata": {
    "tags": []
   },
   "source": [
    "<!-- Image(filename='./img/img_0130.png', width=420) -->\n",
    "<img src=\"./img/img_0130.png\" width=\"400\">"
   ]
  },
  {
   "cell_type": "markdown",
   "metadata": {},
   "source": [
    "### <font color='Chocolate'> Základné ciele a oblasti využitia projektu STEMFIE-X  </font>\n",
    "\n",
    "Zámerom vývoja konštrukčnej stavebnice bola podpora polytechnického vzdelávania pre stredné školy, podpora kreatívneho myslenia, ziskanie základných zručností pri návrhu a konštrukcii vlastných zariadení od náčrtu až po fyzickú realizáciu pomocou 3D tlače.\n",
    "\n",
    "Oblasti použitia:\n",
    "\n",
    "- medzistupeň vo výuke medzi konštrukciami zo stavebníc a samostatným konštruovaním v profesionálnych CAD systémoch, s priamym fyzickým vystupom 3D tlače vlastných konštruovaných zariadení a systémov, primárne určený pre vekovú kategóriu stredoškolákov\n",
    "- robotika, robotické diely a komponenty, ramená, manipulátory, robotické podvozky\n",
    "- modely strojov a zariadení\n",
    "- modely a učebné pomôcky pre predmety so zameraním na konštrukcie častí strojov\n",
    "- učebné a demonštračné pomôcky pre fyziku, elektroniku, zostavy pokusov, zostavy pre demonštrácie elektrických motorov, stavebnica pre ukážkové elektrické obvody\n",
    "- funkčné mechatronické a elektromechanické celky – napríklad ploter, zavlažovací systém, CNC fréza\n",
    "\n",
    "### <font color='Chocolate'>Vlastnosti stavebnice STEMFIE-X </font>\n",
    "\n",
    "* základná dĺžková jednotka BU (Base Unit) bola upravená na veľkosť **10mm** (pôvodne 12.5mm v STEMFIE). Táto veľkosť umožňuje súčasné použitie kovových prvkov zo stavebníc Merkur, Meccano (a príbuzných) a zjednodušuje náčrty, pre ktoré je možné využiť bežný štvorčekový papier s rastrom 5mm\n",
    "\n",
    "* priemer montážnych otvorov bol upravený na veľkosť 4mm (pôvodne 5mm). Táto úprava umožňuje použitie štandardných kovových a plastových skrutiek M4 (prípadne M3.5 z Merkuru) na spájanie dielov, ako aj hriadelov  a tyčí s týmto priemerom  pre konštrukciu pohyblivé časti \n",
    "\n",
    "* povodná knižnica pre OpenSCAD obsiahnutá v jednom [súbore](https://github.com/Cantareus/Stemfie_OpenSCAD/blob/main/docs/stemfie.scad.md) bola rozdelená na samostatné časti podľa typu komponentu (beams, braces, holes, transformations, common ...). Niektoré časti pôvodnej knižnice boli upravené, na rozdiel od originálu sú povrchy všetkých komponentov sú ploché a bez zahĺbení.\n",
    "\n",
    "* pre tvorbu ozubených prevodov bola do projektu bez úprav zahrnutá knižnica [OpenSCAD Library for Gear Racks, Involute and Worm Gears](https://www.thingiverse.com/thing:1604369) od autora Joerg Janssen \n",
    "\n"
   ]
  },
  {
   "cell_type": "markdown",
   "metadata": {
    "tags": []
   },
   "source": [
    "<!-- from IPython.display import Image\n",
    "Image(filename='./img/kompatibilita.jpg', width=400) -->\n",
    "<img src=\"./img/img_0348_kompatibilita.jpeg\" width=\"400\">"
   ]
  },
  {
   "cell_type": "markdown",
   "metadata": {},
   "source": [
    "### <font color='Chocolate'> Licencie </font>\n",
    "\n",
    "Open-source projekt STEMFIE-X využíva rovnaké licenčné podmienky (CC) ako pôvodný projekt STEMFIE. Názov modifikovanej verzie STEMFIE-X bol schválený autorom projektu STEMFIE.\n",
    "\n",
    "### <font color='Chocolate'>Zdrojové kódy, download </font>\n",
    "\n",
    "Dokumentácia, knižnice a návody k stavebnici STEMFIE-X sú dostupné na github-e \n",
    "\n",
    "[https://github.com/pfabo/STEMFIE-X](https://github.com/pfabo/STEMFIE-X)\n",
    "\n",
    "Dokumentácia je formáte [jupyter](https://jupyter.org/), môžete si ju stiahnuť a voľne upravovať, rovnako ako aj všetky zdrojové kódy, príklady a ukážkové projekty. Pri publikovaní Vašich odvodenín (na www stránkach škôl, odvodených projektov a pod.) uvedte ako zdroj www stránky projektu [STEMFIE](https://www.stemfie.org/) a [STEMFIE-X](https://github.com/pfabo/STEMFIE-X).\n",
    "\n",
    "<img src=\"./img/banner_02.png\" width=\"800\">"
   ]
  }
 ],
 "metadata": {
  "kernelspec": {
   "display_name": "Python 3 (ipykernel)",
   "language": "python",
   "name": "python3"
  },
  "language_info": {
   "codemirror_mode": {
    "name": "ipython",
    "version": 3
   },
   "file_extension": ".py",
   "mimetype": "text/x-python",
   "name": "python",
   "nbconvert_exporter": "python",
   "pygments_lexer": "ipython3",
   "version": "3.8.10"
  }
 },
 "nbformat": 4,
 "nbformat_minor": 4
}
