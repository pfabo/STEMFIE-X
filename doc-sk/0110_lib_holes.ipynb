{
 "cells": [
  {
   "cell_type": "markdown",
   "metadata": {
    "tags": []
   },
   "source": [
    "<!-- <script>\n",
    "  function code_toggle() {\n",
    "    if (code_shown){\n",
    "      $('div.input').hide('500');\n",
    "      $('#toggleButton').val('Show Code')\n",
    "    } else {\n",
    "      $('div.input').show('500');\n",
    "      $('#toggleButton').val('Hide Code')\n",
    "    }\n",
    "    code_shown = !code_shown\n",
    "  }\n",
    "\n",
    "  $( document ).ready(function(){\n",
    "    code_shown=false;\n",
    "    $('div.input').hide()\n",
    "  });\n",
    "</script>\n",
    "<form action=\"javascript:code_toggle()\">\n",
    "  <input type=\"submit\" id=\"toggleButton\" value=\"Show Code\">\n",
    "</form> -->"
   ]
  },
  {
   "cell_type": "markdown",
   "metadata": {
    "jupyter": {
     "source_hidden": true
    },
    "tags": []
   },
   "source": [
    "# <font color='teal'> <b> STEMFIE-X holes.scad</b></font>\n",
    "\n",
    "<img src=\"./img/banner_02.png\" width=\"800\">\n",
    "\n",
    "Knižnica *holes* slúži na vytváranie objektov otvorov, ktoré sa vytvoria na finálnom objekte pomocou operácie *difference()*. Parametre otvorov sú definované konštantou ***HoleRadius*** v súbore **./lib/constants.scad**.\n",
    "<br>  \n",
    "\n",
    "## <font color='navy'> <b> hole() </b></font>\n",
    "\n",
    "Vytvorenie objektu otvoru, rozmeru sú v BU.\n",
    "\n",
    "```C\n",
    "hole(depth = 1, center = true);\n",
    "```\n",
    "    \n",
    "### <font color='teal'> <b> Parametre </b></font>\n",
    "\n",
    "    depth = 1        - skalárna hodnota, vytvorí kocku s hranou o veľkosti zadanej hodnoty\n"
   ]
  },
  {
   "cell_type": "markdown",
   "metadata": {},
   "source": [
    "### <font color='purple'> <b> Príklady </b></font>\n",
    "\n",
    "```C\n",
    "hole(1);\n",
    "```"
   ]
  },
  {
   "cell_type": "markdown",
   "metadata": {
    "tags": []
   },
   "source": [
    "<!-- # from IPython.display import Image\n",
    "# Image(filename='./img/img_0118.png', width=400) -->\n",
    "\n",
    "<img src=\"./img/img_0118.png\" width=\"400\">"
   ]
  },
  {
   "cell_type": "markdown",
   "metadata": {},
   "source": [
    "```C\n",
    "diffrence(){\n",
    "    BU_cube([1,1,.5]);\n",
    "    hole(1);\n",
    "    }\n",
    "```"
   ]
  },
  {
   "cell_type": "markdown",
   "metadata": {
    "tags": []
   },
   "source": [
    "<!-- Image(filename='./img/img_0119.png', width=400) -->\n",
    "\n",
    "<img src=\"./img/img_0119.png\" width=\"400\">"
   ]
  },
  {
   "cell_type": "markdown",
   "metadata": {},
   "source": [
    "<br>\n",
    "    \n",
    "## <font color='navy'> <b> hole_grid() </b></font>\n",
    "\n",
    "Vytvorí mriežku objektov pre tvorbu otvorov. \n",
    "\n",
    "```C\n",
    "hole_grid(size = [1,1], l = 1);\n",
    "```\n",
    "    \n",
    "### <font color='teal'> <b> Parametre </b></font>\n",
    "\n",
    "    size = [x,y]    - rozmery mriežky    \n",
    "    l=1             - výška objektov, default hodnota 1 BU\n",
    "\n",
    "\n",
    "### <font color='purple'> <b> Príklady </b></font>\n",
    "\n",
    "```C\n",
    "hole_grid([4,5]);\n",
    "```"
   ]
  },
  {
   "cell_type": "markdown",
   "metadata": {},
   "source": [
    "<!-- Image(filename='./img/img_0120.png', width=400) -->\n",
    "\n",
    "<img src=\"./img/img_0120.png\" width=\"400\">"
   ]
  },
  {
   "cell_type": "markdown",
   "metadata": {},
   "source": [
    "```C\n",
    "difference()\n",
    "   {\n",
    "     BU_cube([4, 5, 0.5]);\n",
    "     hole_grid([4,5]);\n",
    "   }\n",
    "```"
   ]
  },
  {
   "cell_type": "markdown",
   "metadata": {},
   "source": [
    "<!-- Image(filename='./img/img_0121.png', width=400) -->\n",
    "\n",
    "<img src=\"./img/img_0121.png\" width=\"400\">"
   ]
  },
  {
   "cell_type": "markdown",
   "metadata": {},
   "source": [
    "<br>\n",
    "\n",
    "## <font color='navy'> <b> hole_list() </b></font>\n",
    "\n",
    "Vytvorí objektov pre tvorbu otvorov podľa súradníc zadaných zoznamom.\n",
    "\n",
    "```C\n",
    "hole_list(list = [[0,0]], l = 1);\n",
    "```\n",
    "    \n",
    "### <font color='teal'> <b> Parametre </b></font>\n",
    "\n",
    "    list=[ [x,y], ...] - zoznam x,y suradnic    \n",
    "    l=1                - výška objektov, default hodnota 1 BU\n",
    "        \n",
    "### <font color='purple'> <b> Príklady </b></font>\n",
    "\n",
    "```C\n",
    "hole_list([[0,0], [1,1], [3,1], [4,0]], l = 0.25);\n",
    "```"
   ]
  },
  {
   "cell_type": "markdown",
   "metadata": {},
   "source": [
    "<!-- Image(filename='./img/img_0122.png', width=400) -->\n",
    "\n",
    "<img src=\"./img/img_0112.png\" width=\"400\">"
   ]
  },
  {
   "cell_type": "markdown",
   "metadata": {},
   "source": [
    "```C\n",
    " difference()\n",
    "   {\n",
    "     brace(5, holes = false);\n",
    "     hole_list([[0,0],[4,0]], l = 0.25);\n",
    "   }\n",
    "```"
   ]
  },
  {
   "cell_type": "markdown",
   "metadata": {},
   "source": [
    "<!-- Image(filename='./img/img_0123.png', width=400) -->\n",
    "\n",
    "<img src=\"./img/img_0123.png\" width=\"400\">"
   ]
  },
  {
   "cell_type": "markdown",
   "metadata": {},
   "source": [
    "<br>\n",
    "\n",
    "## <font color='navy'> <b> hole_slot() </b></font>\n",
    "\n",
    "Vytvorenie objektu pre drážku\n",
    "\n",
    "```C\n",
    "hole_slot(position=[x,y], length=1, h=1);\n",
    "```\n",
    "    \n",
    "### <font color='teal'> <b> Parametre </b></font>\n",
    "\n",
    "    position  - poloha stredu drážky\n",
    "    length    - dĺžka drážky v BU  \n",
    "    h=1       - výška objektu drážky\n",
    "\n",
    "### <font color='purple'> <b> Príklady </b></font>\n",
    "\n",
    "```C\n",
    "hole_slot(2);\n",
    "```"
   ]
  },
  {
   "cell_type": "markdown",
   "metadata": {
    "tags": []
   },
   "source": [
    "<!-- Image(filename='./img/img_0124.png', width=400) -->\n",
    "\n",
    "<img src=\"./img/img_0124.png\" width=\"400\">"
   ]
  },
  {
   "cell_type": "markdown",
   "metadata": {},
   "source": [
    "\n",
    "```C\n",
    " difference()\n",
    "   {\n",
    "     brace(5, holes = false);\n",
    "     {\n",
    "     hole_list([[0,0],[4,0]], l = 0.25);\n",
    "     hole_slot([2,0], 3, h=0.5);\n",
    "     }\n",
    "   }\n",
    "```"
   ]
  },
  {
   "cell_type": "markdown",
   "metadata": {
    "tags": []
   },
   "source": [
    "<!-- Image(filename='./img/img_0125.png', width=400) -->\n",
    "\n",
    "<img src=\"./img/img_0125.png\" width=\"400\">\n",
    "\n",
    "<img src=\"./img/banner_02.png\" width=\"800\">"
   ]
  }
 ],
 "metadata": {
  "kernelspec": {
   "display_name": "Python 3 (ipykernel)",
   "language": "python",
   "name": "python3"
  },
  "language_info": {
   "codemirror_mode": {
    "name": "ipython",
    "version": 3
   },
   "file_extension": ".py",
   "mimetype": "text/x-python",
   "name": "python",
   "nbconvert_exporter": "python",
   "pygments_lexer": "ipython3",
   "version": "3.8.10"
  }
 },
 "nbformat": 4,
 "nbformat_minor": 4
}
