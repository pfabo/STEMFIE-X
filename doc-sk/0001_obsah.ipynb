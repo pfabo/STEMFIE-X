{
 "cells": [
  {
   "cell_type": "markdown",
   "id": "7239b823-f2ce-4f0e-abf3-228591491fe4",
   "metadata": {
    "tags": []
   },
   "source": [
    "<!-- <script>\n",
    "  function code_toggle() {\n",
    "    if (code_shown){\n",
    "      $('div.input').hide('500');\n",
    "      $('#toggleButton').val('Show Code')\n",
    "    } else {\n",
    "      $('div.input').show('500');\n",
    "      $('#toggleButton').val('Hide Code')\n",
    "    }\n",
    "    code_shown = !code_shown\n",
    "  }\n",
    "\n",
    "  $( document ).ready(function(){\n",
    "    code_shown=false;\n",
    "    $('div.input').hide()\n",
    "  });\n",
    "</script>\n",
    "<form action=\"javascript:code_toggle()\">\n",
    "  <input type=\"submit\" id=\"toggleButton\" value=\"Show Code\">\n",
    "</form> -->"
   ]
  },
  {
   "cell_type": "markdown",
   "id": "5bece043-0247-4e87-a5d5-2c93eb4c247b",
   "metadata": {},
   "source": [
    "# <font color='teal'> <b> STEMFIE-X </b></font>"
   ]
  },
  {
   "cell_type": "markdown",
   "id": "d45131e1-fca7-44b6-add7-b070ba38e82f",
   "metadata": {
    "tags": []
   },
   "source": [
    "<!-- from IPython.display import Image\n",
    "Image(filename='./img/banner_02.png', width=800) -->\n",
    "<img src=\"./img/banner_02.png\" width=\"800\">"
   ]
  },
  {
   "cell_type": "markdown",
   "id": "1a068ebf-9d9b-4ab9-89ca-11fd09b4f6f3",
   "metadata": {
    "tags": []
   },
   "source": [
    "<!-- Image(filename='./img/img_demo.png', width=800) -->\n",
    "<img src=\"./img/img_demo.png\" width=\"600\">"
   ]
  },
  {
   "cell_type": "markdown",
   "id": "c7a6aa4c-abac-4877-9825-cd0468d5985f",
   "metadata": {},
   "source": [
    "###  <font color='Chocolate'> Konštrukčná stavebnica <b> STEMFIE-X </b> </font>\n",
    "\n",
    "- [Vlastnosti STEMFIE-X](./0050_stemfie_x.ipynb) \n",
    "- [Prostredie openSCAD](./0052_openscad.ipynb) \n",
    " \n",
    "    \n",
    "### <font color='Chocolate'> Základné knižnice  </font>\n",
    " \n",
    "- [Nosníky (beams)](./0100_lib_beams.ipynb)\n",
    "- [Spojky (braces)](./0105_lib_braces.ipynb)\n",
    "- [Montážne otvory (holes)](./0110_lib_holes.ipynb)\n",
    "- [Ozubené kolesá (gears)](./0115_lib_gears.ipynb)\n",
    "- [Transformácie objektov](./0120_lib_transform.ipynb)\n",
    "\n",
    "### <font color='Chocolate'> Mechanika - Konštrukčné prvky </font>\n",
    "\n",
    "- [Pevné spoje](./0200_spoje_skrutky.ipynb)\n",
    "- [Pohyblivé spoje](./0205_pohyblive_spoje.ipynb)\n",
    "- Rotačné spoje a hriadele\n",
    "\n",
    "### <font color='Chocolate'> Projektovanie - Základné konštrukcie a mechanizmy </font>\n",
    "\n",
    "- [Jednoduché konštrukčné prvky](./0300_jednoduche_konstrukcie.ipynb)\n",
    "- Motory a prevodovky\n",
    "- Serva\n",
    "- Modely častí strojov a mechanizmov\n",
    "\n",
    "### <font color='Chocolate'> Elektronika - Podporné prvky </font>\n",
    "\n",
    "- [Držiaky plošných spojov (PCB Holders)](./0406_pcb_holders.ipynb)\n",
    "\n",
    "- [Držiak pre dosku kitu STM-NUCLEO64](./0402_stm_nucleo64.ipynb)\n",
    "- [Interface pre kit STM_NUCLEO32](./0404_stm_nucleo32.ipynb)\n",
    "\n",
    "- [Držiak pre modul displeja TM1638](./0407_modul_1638.ipynb)"
   ]
  },
  {
   "cell_type": "markdown",
   "id": "37b9763a-a6be-498f-bf68-99b7dd07e51c",
   "metadata": {},
   "source": [
    "### <font color='Chocolate'> 3D tlač </font>\n",
    "\n",
    "- generovanie podkladov pre tlač\n",
    "- nastavenie parametrov tlače\n",
    "- úprava a finalizácia komponentov\n",
    "\n",
    "\n",
    "### <font color='Chocolate'> Projekty </font>\n",
    "\n",
    "- [Jednoduchá prevodovka (simple gearbox)](./0302_project_simple_gearbox.ipynb)\n",
    "- [Stavebnica s ozubenými kolesami](./0304_project_gear_toys.ipynb)\n",
    "\n"
   ]
  },
  {
   "cell_type": "markdown",
   "id": "dd04bc44-12f5-4101-b98a-e53751b76165",
   "metadata": {
    "tags": []
   },
   "source": [
    "<!-- Image(filename='./img/banner_02.png', width=800) -->\n",
    "<img src=\"./img/banner_02.png\" width=\"800\">"
   ]
  }
 ],
 "metadata": {
  "kernelspec": {
   "display_name": "Python 3 (ipykernel)",
   "language": "python",
   "name": "python3"
  },
  "language_info": {
   "codemirror_mode": {
    "name": "ipython",
    "version": 3
   },
   "file_extension": ".py",
   "mimetype": "text/x-python",
   "name": "python",
   "nbconvert_exporter": "python",
   "pygments_lexer": "ipython3",
   "version": "3.8.10"
  }
 },
 "nbformat": 4,
 "nbformat_minor": 5
}
