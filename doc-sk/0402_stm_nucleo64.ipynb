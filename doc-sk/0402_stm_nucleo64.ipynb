{
 "cells": [
  {
   "cell_type": "markdown",
   "id": "4375e149-4f9a-454c-8871-d3b79cbf820a",
   "metadata": {},
   "source": [
    "# <font color='teal'> <b> STEMFIE-X Držiak kitu STM32 NUCLEO64</b></font>\n",
    "\n",
    "<img src=\"./img/banner_02.png\" width=\"800\">\n",
    "\n",
    "Piny pre montáž kitu NUCLEO64sú umiestnené podľa výkresu dosky z dokumentácie ku kitu. Vnútorný otvor pinov je 2.5mm, doska kitu je upevnená pomocou samorezných skrutiek.\n",
    "\n",
    "<img src=\"./img/nucleo_rozmery.png\" width=\"400\">"
   ]
  },
  {
   "cell_type": "markdown",
   "id": "4977a8df-9b1d-4e71-a909-c471fef3329c",
   "metadata": {},
   "source": [
    "## <font color='Chocolate'> Konštrukcia </font>"
   ]
  },
  {
   "cell_type": "markdown",
   "id": "6f8a294f-835d-403d-8be4-e0a5263ee498",
   "metadata": {},
   "source": [
    "```C\n",
    "include <../../lib/stemfie-10.scad>\n",
    "\n",
    "module pin(){                 // konicky pin pre samoreznu skrutku\n",
    "    D(){\n",
    "       cylinder(r2=2.54, r1=3.9, h=10);\n",
    "       cylinder(r=1.25, h=10);\n",
    "    }\n",
    "}\n",
    "\n",
    "Tx(33)    Ty(-2.54) pin();    // piny pre prisrobovanie dosky\n",
    "Tx(0)     Ty(5*2.54 + 5.08 + 7*2.54 + 13.97) pin();\n",
    "Tx(48.26) Ty(7*2.54 + 4.06 + 9*2.54 +  3.56) pin();\n",
    "\n",
    "color(\"RoyalBlue\") Tx(-5) Ty(-5) Tz(2.5) \n",
    "U(){                         // spodna doska s vystuhami\n",
    "    beam_block([3,2,.25], holes = [false, false, true], center = false);\n",
    "    BU_Tx(3) beam_block([2,2,.25], holes = [false, false, false], center = false);\n",
    "    BU_Tx(5) beam_block([2,2,.25], holes = [false, false, true], center = false);\n",
    "    \n",
    "    BU_Ty(2) beam_block([7,3,.25], holes = [false, false, true], center = false);\n",
    "    \n",
    "    BU_Ty(5) beam_block([2,2,.25], holes = [false, false, false], center = false);\n",
    "    BU_Ty(5) BU_Tx(2) beam_block([3,2,.25], holes = [false, false, true], center = false);\n",
    "    BU_Ty(5) BU_Tx(5) beam_block([2,2,.25], holes = [false, false, false], center = false);\n",
    "}\n",
    "```\n",
    "\n",
    "<img src=\"./img/img_0141.png\" width=\"400\">\n",
    "\n",
    "\n",
    "## <font color='Chocolate'> Realizácia </font>\n",
    "\n",
    "<img src=\"./img/nucleo64_drziak.jpeg\" width=\"400\">\n",
    "\n",
    "<img src=\"./img/banner_02.png\" width=\"800\">\n"
   ]
  }
 ],
 "metadata": {
  "kernelspec": {
   "display_name": "Python 3 (ipykernel)",
   "language": "python",
   "name": "python3"
  },
  "language_info": {
   "codemirror_mode": {
    "name": "ipython",
    "version": 3
   },
   "file_extension": ".py",
   "mimetype": "text/x-python",
   "name": "python",
   "nbconvert_exporter": "python",
   "pygments_lexer": "ipython3",
   "version": "3.8.10"
  }
 },
 "nbformat": 4,
 "nbformat_minor": 5
}
