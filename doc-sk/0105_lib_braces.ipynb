{
 "cells": [
  {
   "cell_type": "markdown",
   "metadata": {
    "tags": []
   },
   "source": [
    "<!-- <script>\n",
    "  function code_toggle() {\n",
    "    if (code_shown){\n",
    "      $('div.input').hide('500');\n",
    "      $('#toggleButton').val('Show Code')\n",
    "    } else {\n",
    "      $('div.input').show('500');\n",
    "      $('#toggleButton').val('Hide Code')\n",
    "    }\n",
    "    code_shown = !code_shown\n",
    "  }\n",
    "\n",
    "  $( document ).ready(function(){\n",
    "    code_shown=false;\n",
    "    $('div.input').hide()\n",
    "  });\n",
    "</script>\n",
    "<form action=\"javascript:code_toggle()\">\n",
    "  <input type=\"submit\" id=\"toggleButton\" value=\"Show Code\">\n",
    "</form> -->"
   ]
  },
  {
   "cell_type": "markdown",
   "metadata": {},
   "source": [
    "# <font color='teal'> <b> STEMFIE-X   braces.scad</b></font>\n",
    "\n",
    "<img src=\"./img/banner_02.png\" width=\"800\">\n",
    "\n",
    "Knižnica pre tvorbu plochých spojok. Zdrojový kód knižnice je v súbore **./lib/braces.scad**. Parametre spojok sú definované konštantami ***BU*** a ***HoleRadius*** v súbore **./lib/constants.scad**.\n",
    "\n",
    "<br>\n",
    "\n",
    "## <font color='navy'> <b> brace() </b></font>\n",
    "\n",
    "Vytvorí spojku o stanovenej veľkosti a hrúbke. Rozmery sú udávané v jednotkách BU. \n",
    "\n",
    "```C\n",
    "brace(size, h = 0.25, holes = true)\n",
    "```\n",
    "    \n",
    "### <font color='teal'> <b> Parametre </b></font>\n",
    "\n",
    "    size = x        - skalárna hodnota, vytvorí spojku o dĺžke podľa zadanej hodnoty v BU\n",
    "    h = 0.25        - (default) vytvorí spojku o stanovenej hrúbke v BU\n",
    "    holes = true    - ak je true, vygeneruje otvory, inak vytvorí spojku bez otvorov, \n",
    "                      otvory je možné dodefinovať pomocou knižnice holes.scad\n"
   ]
  },
  {
   "cell_type": "markdown",
   "metadata": {},
   "source": [
    "### <font color='purple'> <b> Príklady </b></font>\n",
    "\n",
    "```C\n",
    "brace(3, h = 0.5, holes = false);\n",
    "```"
   ]
  },
  {
   "cell_type": "markdown",
   "metadata": {
    "tags": []
   },
   "source": [
    "<!-- from IPython.display import Image\n",
    "Image(filename='./img/img_0110.png', width=400) -->\n",
    "\n",
    "<img src=\"./img/img_0110.png\" width=\"400\">"
   ]
  },
  {
   "cell_type": "markdown",
   "metadata": {},
   "source": [
    "```C\n",
    "brace(5, h = 0.25, holes = true);\n",
    "```"
   ]
  },
  {
   "cell_type": "markdown",
   "metadata": {
    "tags": []
   },
   "source": [
    "<!-- Image(filename='./img/img_0111.png', width=400) -->\n",
    "\n",
    "<img src=\"./img/img_0111.png\" width=\"400\">"
   ]
  },
  {
   "cell_type": "markdown",
   "metadata": {},
   "source": [
    "<br>\n",
    "\n",
    "## <font color='navy'> <b> brace_cross () </b></font>\n",
    "\n",
    "Prekryje dve štandardné spojky. Príkaz môže byť použitý na vytvorenie spojok v tvare V, L, T a X.  \n",
    "\n",
    "```C\n",
    "brace_cross(size = [x,y], h=1);\n",
    "brace_cross(size = [x,y,z], h=1);\n",
    "brace_cross(size = [x,y,z,w], h=1);\n",
    "```\n",
    "\n",
    "### <font color='teal'> <b> Parametre </b></font>\n",
    "\n",
    "    size = [x,y]    - vytvorí spojku v tvare V alebo L\n",
    "    size = [x,y,z]  - vytvorí spojku v tvare T\n",
    "    size = [x,y,z,w]- vytvorí spojku v tvare X\n",
    "    \n",
    "    h=0.25          - výška spojky, default hodnota 0.25 BU\n",
    "        \n",
    "### <font color='purple'> <b> Príklady </b></font>\n",
    "\n",
    "```C\n",
    "brace_cross([3,3]);\n",
    "brace_cross(size=[3,3], h=0.25);\n",
    "```"
   ]
  },
  {
   "cell_type": "markdown",
   "metadata": {
    "tags": []
   },
   "source": [
    "<!-- from IPython.display import Image\n",
    "Image(filename='./img/img_0112.png', width=400) --> \n",
    "\n",
    "<img src=\"./img/img_0112.png\" width=\"400\">"
   ]
  },
  {
   "cell_type": "markdown",
   "metadata": {},
   "source": [
    "```C\n",
    "brace_cross([2,3,2], h=0.5);\n",
    "```"
   ]
  },
  {
   "cell_type": "markdown",
   "metadata": {
    "tags": []
   },
   "source": [
    "<!-- Image(filename='./img/img_0113.png', width=400) -->\n",
    "\n",
    "<img src=\"./img/img_0113.png\" width=\"400\">"
   ]
  },
  {
   "cell_type": "markdown",
   "metadata": {},
   "source": [
    "```C\n",
    "brace_cross([2,3,1,1], h=0.25);\n",
    "```"
   ]
  },
  {
   "cell_type": "markdown",
   "metadata": {
    "tags": []
   },
   "source": [
    "<!-- Image(filename='./img/img_0114.png', width=400) -->\n",
    "\n",
    "<img src=\"./img/img_0114.png\" width=\"400\">"
   ]
  },
  {
   "cell_type": "markdown",
   "metadata": {},
   "source": [
    "<br>\n",
    "    \n",
    "## <font color='navy'> <b> brace_arc() </b></font>\n",
    "\n",
    "Vytvorí spojku v tvare oblúku podla zadaneho polomeru, uhla, hrubky a počtu otvorov.  \n",
    "\n",
    "```C\n",
    "brace_arc(r, angle, h = 0.25, holes = 2);\n",
    "```\n",
    "    \n",
    "### <font color='teal'> <b> Parametre </b></font>\n",
    "\n",
    "    r               - polomer spojky v BU\n",
    "    angle           - uhol spojky, v stupnoch   \n",
    "    h=0.25          - výška spojky, default hodnota 0.25 BU\n",
    "    holes=2         - pocet otovorov - 0, 2(default), 3, ...\n",
    "        \n",
    "        \n",
    "### <font color='purple'> <b> Príklady </b></font>\n",
    "\n",
    "```C\n",
    "brace_arc(r=3, angle=90, h = 0.5, holes = 4);\n",
    "```"
   ]
  },
  {
   "cell_type": "markdown",
   "metadata": {
    "tags": []
   },
   "source": [
    "<!-- Image(filename='./img/img_0115.png', width=400) -->\n",
    "\n",
    "<img src=\"./img/img_0115.png\" width=\"400\">"
   ]
  },
  {
   "cell_type": "markdown",
   "metadata": {},
   "source": [
    "```C\n",
    "brace_arc(r=4, angle=135, h = 0.25, holes = 10);\n",
    "```"
   ]
  },
  {
   "cell_type": "markdown",
   "metadata": {
    "tags": []
   },
   "source": [
    "<!-- Image(filename='./img/img_0116.png', width=400) -->\n",
    "\n",
    "<img src=\"./img/img_0116.png\" width=\"400\">"
   ]
  },
  {
   "cell_type": "markdown",
   "metadata": {},
   "source": [
    "```C\n",
    "brace_arc(r=3.5, angle=360, h = 0.25, holes = 10);\n",
    "```"
   ]
  },
  {
   "cell_type": "markdown",
   "metadata": {
    "tags": []
   },
   "source": [
    "<!-- Image(filename='./img/img_0117.png', width=400)\n",
    " -->\n",
    " \n",
    " <img src=\"./img/img_0117.png\" width=\"400\">\n"
   ]
  },
  {
   "cell_type": "markdown",
   "metadata": {},
   "source": [
    "<br>\n",
    "\n",
    "## <font color='navy'> <b> brace_plate() </b></font>\n",
    "\n",
    "Doska so zaoblenými rohmi s rovnakými parametrami ako *brace()*. Minimálne rozmery platne sú 2x2 BU.  \n",
    "\n",
    "```C\n",
    "brace_plate(size=[x,y], h=1/2, holes = true);\n",
    "```\n",
    "    \n",
    "### <font color='teal'> <b> Parametre </b></font>\n",
    "\n",
    "    x,y             - rozmery BU \n",
    "    h=1/4           - výška spojky, default hodnota 0.25 BU\n",
    "    holes=true      - voľba otvorov true/false.\n",
    "        \n",
    "### <font color='purple'> <b> Príklady </b></font>\n",
    "\n",
    "```C\n",
    "brace_plate([5,3], h = 1/4, holes = true);\n",
    "```"
   ]
  },
  {
   "cell_type": "markdown",
   "metadata": {},
   "source": [
    "<!-- Image(filename='./img/img_0145.png', width=400) -->\n",
    "\n",
    "<img src=\"./img/img_0145.png\" width=\"400\">\n",
    "\n",
    "\n",
    "<img src=\"./img/banner_02.png\" width=\"800\">"
   ]
  }
 ],
 "metadata": {
  "kernelspec": {
   "display_name": "Python 3 (ipykernel)",
   "language": "python",
   "name": "python3"
  },
  "language_info": {
   "codemirror_mode": {
    "name": "ipython",
    "version": 3
   },
   "file_extension": ".py",
   "mimetype": "text/x-python",
   "name": "python",
   "nbconvert_exporter": "python",
   "pygments_lexer": "ipython3",
   "version": "3.8.10"
  }
 },
 "nbformat": 4,
 "nbformat_minor": 4
}
