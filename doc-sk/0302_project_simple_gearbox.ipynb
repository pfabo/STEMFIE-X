{
 "cells": [
  {
   "cell_type": "markdown",
   "id": "3fdd4d83-0a76-4c1c-8185-32c63dd8e80b",
   "metadata": {},
   "source": [
    "# <font color='teal'> <b> STEMFIE-X  Jednoduchá prevodovka</b></font>\n",
    "\n",
    "<img src=\"./img/banner_02.png\" width=\"800\">\n",
    "\n",
    "Prevodové mechanizmy sú základom prevažnej väčšiny mechanických sústav. Jednoduché elektromotory majú zvyčajne vysoký počet otáčok za minutu a malý moment sily, jednoduchou prevdovkou vieme tieto parametre upraviť. Pri návrhu prevodovky budeme využívať v maximálnej možnej miere štandardné konštrukčné prvky *STEMFIE-X*. Projekt služi na demonštráciu konštrukcie a postupu výroby a ako inšpirácia pre tvorbu vlastných prevodových mechanizmov.\n",
    "\n",
    "<img src=\"./img/img_0311_gearbox_01.png\" width=\"400\">"
   ]
  },
  {
   "cell_type": "markdown",
   "id": "5862305d-e96b-4272-b332-d2b0358cceb5",
   "metadata": {},
   "source": [
    "## <font color='navy'> <b> Návrh prevodovky</b></font>\n",
    "\n",
    "Pri návrhu prevodovky vychádajme z požiadavky, aby vertikálnym rozmer bol 3BU. Pre tento rozmer musíme zvoliť správne priemery ozubených kolies, pričom priemer závisí od počtu a modulu zubov. Zároveň vzdialenosti osí ozubených kolies musia byť v násobkoch BU. Jednoduchým pokusom v openSCAD, testovacím programom, si overíme vzájomnú polohu ozubených kolies.\n",
    "\n",
    "\n",
    "\n",
    "```C\n",
    "beam_block([5, 3, 1/4], holes=[false, false, true]);\n",
    "\n",
    "BU_Tx(2) Rz(360/12/2) color(\"blue\") \n",
    "spur_gear (modul=1, tooth_number=12, width=10, bore=4, pressure_angle=20, helix_angle=0, optimized=false);\n",
    "\n",
    "color(\"red\") \n",
    "spur_gear (modul=1, tooth_number=28, width=5, bore=4, pressure_angle=20, helix_angle=0, optimized=false);\n",
    "```\n",
    "\n",
    "\n",
    "Zistíme, že do profilu 3BU nám vyhovuje počet zubov 28 pre väčšie ozubené koleso a 12 pre menšie - osová vzdialenosť je potom \n",
    "\n",
    "\\begin{equation*}\n",
    "\\frac{28+12}{20} = 2 BU \n",
    "\\end{equation*}\n",
    "\n",
    "a prevodový pomer pre jeden stupeň \n",
    "\n",
    "\\begin{equation*}\n",
    "28 : 12= 2.33 : 1\n",
    "\\end{equation*}\n",
    "\n",
    "<img src=\"./img/img_0318_rozmery.png\" width=\"500\">"
   ]
  },
  {
   "cell_type": "markdown",
   "id": "858aff58-6614-49df-a77e-dd091d86f628",
   "metadata": {},
   "source": [
    "## <font color='navy'> <b> Konštrukcia </b></font>\n",
    "\n",
    "Pri konštrukcii použijeme štandardné prvky *STEMFIE-X*, pri rozmiestňovaní si pomôžeme platňou v rovine XY. Komplikovanejším prvkom je držiak motora, v ktorom sú otvory pre motor, štrbina a diery pre upevňovaciu skrutku. Zdrojový kód celého projektu je dostupný v adresári **/projects/simple_gearbox**\n",
    "\n",
    "<img src=\"./img/img_0310_gearbox_02.png\" width=\"500\">"
   ]
  },
  {
   "cell_type": "markdown",
   "id": "fe956b6b-fc67-4830-bfe9-d37ff581867e",
   "metadata": {},
   "source": [
    "Po návrhu konštrukcie je vhodné si zdrojový kód skopírovať a v kópii postupne zakomentovať časti projektu tak, aby sme získali samostatné komponenty bez posunov a rotácií vhodné pre generovanie *stl* súborov, napr. kód pre držiak motora (využíva model motora z knižnice):\n",
    "\n",
    "\n",
    "```C\n",
    "D()\n",
    "{\n",
    "    // blok v základnej polohe\n",
    "    beam_block([1, 3, 3], [false, false, false]);  \n",
    "    // vytvorenie otvorov a strbiny - operacie diferencie\n",
    "    {\n",
    "        BU_Tx(-1.9) Rz()  Rx() motor_dc();                            // motor, 21mm \n",
    "        BU_Tz(-1.5) beam_block([2, .1, 1.5], [false, false, false]);  // strbina\n",
    "        BU_Tz( 1) hole_list([[0,-1], [0,1] ], l=1);                   // upevnovacie otvory\n",
    "        BU_Ty(2) BU_Tz( -1.2) Rx() cylinder(r=1, h=40);               // diera pre skrutku\n",
    "        BU_Ty(-.8) BU_Tz( -1.2) Rx() cylinder(r=2.5, h=8);            // zapustenie skrutky\n",
    "    }\n",
    "}\n",
    "```\n",
    "\n",
    "\n",
    "V prípade, že v budúcnosti budete takýto komponent používať častejšie, vytvorte si z kódu modul a zaradte si ho do vlastnej knižnice používaných dielov.\n",
    "\n",
    "<img src=\"./img/img_0316_motor.png\" width=\"500\">"
   ]
  },
  {
   "cell_type": "markdown",
   "id": "af507052-f212-4108-aabc-346337485bd4",
   "metadata": {},
   "source": [
    "## <font color='navy'> <b> Tlač </b></font>\n",
    "\n",
    "Pre jednotlivé častí prevodovky vygenerujeme samostaté *stl* súbory (zakomentujeme nepodstatné časti kódu), z ktorých v programe Slicer vygenerujeme podklady pre tlač. Celá prevodovka pozostáva (bez motora) z 8 tlačených dielov, môžeme ich vytlačiť naraz. Pre tlač bol použitý štandardný PLA materiál.\n",
    "\n",
    "<img src=\"./img/img_0319_slicer.png\" width=\"600\">\n",
    "\n",
    "\n",
    "<img src=\"./img/img_0320.jpeg\" width=\"600\">\n"
   ]
  },
  {
   "cell_type": "markdown",
   "id": "4aaf98bb-1928-45ac-843d-3bebe7dfaa0e",
   "metadata": {},
   "source": [
    "## <font color='navy'> <b> Montáž </b></font>\n",
    "\n",
    "Vytlačené diely majú v rámci tolerancií 3D tlače otvory zvyčajne o trochu menšie, čo závisí od samotnej tlačiarne, materiálu, teploty, rýchlosti tlače a pod. Menší priemer je vhodný, keď chceme použiť na montáž dielov skrutky, niektoré typy s rezanými závitmi si v plaste vyrežú vlastný závit a držia celom dobre (treba vyskúšať). Pre drobné úpravy priemeru pre hriadele, kolíky a pod. je dobré opatrne upraviť priemer otvoru vrtákom alebo ručným výstružníkom. Menší priemer a mierne deformovaný tvar majú zvyčajne aj otvory, ktoré sú v dieloch tlačené na ležato.\n",
    "\n",
    "Hriadele ozubených kolies sú kovové, o dĺžke 2 a 4 BU. Do ozubených kolies sú hriadele natlačené na tesno, otáčajú sa v bočniciach prevodovky. Bude zrejme potrebné upraviť aj priemer diery v ozubenom kolese pre motor, použitý motor mal priemer hriadele 2mm.  \n",
    "\n",
    "<img src=\"./img/img_0321.jpeg\" width=\"400\">"
   ]
  },
  {
   "cell_type": "markdown",
   "id": "73716ce7-fe40-4c8a-8438-698899c82547",
   "metadata": {},
   "source": [
    "Pre spájanie dielov môžeme použiť skrutky, pre niektoré spoje môžeme použiť kolíky z tyčiniek s priemerom 4mm pre lízatká, tieto sú z plastu alebo lisovaného papiera a dajú sa rezať nožom. Pre pevnejší spoj môžeme kolíky do dielov zalepiť disperzným lepidlom (Herkules a pod.), rozobrať sa spoje dajú ponorením do vody.\n",
    "\n",
    "<img src=\"./img/img_0322.jpeg\" width=\"300\">\n",
    "\n",
    "<img src=\"./img/img_0323.jpeg\" width=\"300\">"
   ]
  },
  {
   "cell_type": "markdown",
   "id": "4958bae9-5ccf-4aa2-aaa9-b56d3394705e",
   "metadata": {},
   "source": [
    "## <font color='navy'> <b> Finálna zostava </b></font>\n",
    "\n",
    "Po montáži sa musia ozubené kolesá otáčať voľne. Pretože ozubené kolesá nemôžu kvalitou súťažiť s profesionálne vyrobenými kolesami, naša prevodovka je mierne hlučná, hlučnosť môžete skúsiť znížit experimentami so šikmým ozubením, zábehom a miernym namazaním silikónovým olejom. Odolnosť ozubených prevodov voči opotrebovaniu z materiálu PLA je prekvapujúco veľmi dobrá, ani po niekoľkých hodinách prevádzky nevykazovali ozubené kolesá známky opotrebenia.\n",
    "\n",
    "<img src=\"./img/img_0324.jpeg\" width=\"400\">\n",
    "\n",
    "<img src=\"./img/banner_02.png\" width=\"800\">"
   ]
  }
 ],
 "metadata": {
  "kernelspec": {
   "display_name": "Python 3 (ipykernel)",
   "language": "python",
   "name": "python3"
  },
  "language_info": {
   "codemirror_mode": {
    "name": "ipython",
    "version": 3
   },
   "file_extension": ".py",
   "mimetype": "text/x-python",
   "name": "python",
   "nbconvert_exporter": "python",
   "pygments_lexer": "ipython3",
   "version": "3.8.10"
  }
 },
 "nbformat": 4,
 "nbformat_minor": 5
}
