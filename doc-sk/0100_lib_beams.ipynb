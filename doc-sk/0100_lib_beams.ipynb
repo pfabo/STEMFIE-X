{
 "cells": [
  {
   "cell_type": "markdown",
   "metadata": {
    "jupyter": {
     "source_hidden": true
    },
    "tags": []
   },
   "source": [
    "<!-- <script>\n",
    "  function code_toggle() {\n",
    "    if (code_shown){\n",
    "      $('div.input').hide('500');\n",
    "      $('#toggleButton').val('Show Code')\n",
    "    } else {\n",
    "      $('div.input').show('500');\n",
    "      $('#toggleButton').val('Hide Code')\n",
    "    }\n",
    "    code_shown = !code_shown\n",
    "  }\n",
    "\n",
    "  $( document ).ready(function(){\n",
    "    code_shown=false;\n",
    "    $('div.input').hide()\n",
    "  });\n",
    "</script>\n",
    "<form action=\"javascript:code_toggle()\">\n",
    "  <input type=\"submit\" id=\"toggleButton\" value=\"Show Code\">\n",
    "</form> -->"
   ]
  },
  {
   "cell_type": "markdown",
   "metadata": {},
   "source": [
    "# <font color='teal'> <b> STEMFIE-X  beams.scad</b></font>"
   ]
  },
  {
   "cell_type": "markdown",
   "metadata": {
    "tags": []
   },
   "source": [
    "<!-- from IPython.display import Image\n",
    "Image(filename='./img/banner_02.png', width=800) -->\n",
    "<img src=\"./img/banner_02.png\" width=\"800\">"
   ]
  },
  {
   "cell_type": "markdown",
   "metadata": {
    "tags": []
   },
   "source": [
    "Knižnica je určená pre vytváranie elementárnych telies a nosníkov s montážnymi otvormi. Rozmery nosníkov sú zadávané v jednotkách BU. Zdrojový kód knižnice je v súbore **./lib/beams.scad**. Parametre nosníkov sú definované konštantami ***BU*** a ***HoleRadius*** v súbore **./lib/constants.scad**.\n",
    "\n",
    "<br>\n",
    "\n",
    "## <font color='navy'> <b> BU_cube() </b></font>\n",
    "\n",
    "Vytvorí kocku alebo hranol v prvom oktante. Rozmery objektu sú udávané v jednotkách BU. Ak parameter *center* má hodnoty *true*, objekt je centrovaný na stred súradnicovej sústavy.\n",
    "\n",
    "```C\n",
    "BU_cube(size = [x,y,z], center=true/false);\n",
    "BU_cube(size = x, center=true/false);\n",
    "BU_cube(x, y, z, center=true/false);\n",
    "```\n",
    "    \n",
    "### <font color='teal'> <b> Parametre </b></font>\n",
    "\n",
    "    size = [x,y,z]  - vytvorí hranol so zadanými rozmermi\n",
    "    size = x        - skalárna hodnota, vytvorí kocku s hranou o veľkosti zadanej hodnoty\n",
    "    x, y, x         - skalárne hodnoty vytvoria hranol so zadanými rozmermi    \n",
    "\n",
    "    center = false  - (default) vytvorí kocku alebo hranol v prvom oktante, \n",
    "                      jeden roh je v súradnici (0,0,0)\n",
    "    center = true   - kocka je centrovaná v strede súradnicovej sústavy (0,0,0)\n"
   ]
  },
  {
   "cell_type": "markdown",
   "metadata": {},
   "source": [
    "### <font color='purple'> <b> Príklady </b></font>\n",
    "\n",
    "```C\n",
    "BU_cube(2, center=true);\n",
    "BU_cube(size = 2, center=true);\n",
    "```"
   ]
  },
  {
   "cell_type": "markdown",
   "metadata": {
    "tags": []
   },
   "source": [
    "<!-- from IPython.display import Image\n",
    "Image(filename='./img/img_0100.png', width=400) -->\n",
    "\n",
    "<img src=\"./img/img_0100.png\" width=\"400\">\n"
   ]
  },
  {
   "cell_type": "markdown",
   "metadata": {},
   "source": [
    "```C\n",
    "BU_cube();\n",
    "BU_cube(center=false);\n",
    "BU_cube(1, center=false);\n",
    "BU_cube([1,1,1], center=false);\n",
    "BU_cube(1,1,1);\n",
    "```"
   ]
  },
  {
   "cell_type": "markdown",
   "metadata": {
    "tags": []
   },
   "source": [
    "<!-- Image(filename='./img/img_0101.png', width=400) -->\n",
    "<img src=\"./img/img_0101.png\" width=\"400\">"
   ]
  },
  {
   "cell_type": "markdown",
   "metadata": {},
   "source": [
    "```C\n",
    "BU_cube([3, 2, 1/4]);\n",
    "BU_cube(3, 2, 1/4, center=false);\n",
    "```"
   ]
  },
  {
   "cell_type": "markdown",
   "metadata": {
    "tags": []
   },
   "source": [
    "<!-- Image(filename='./img/img_0102.png', width=400) -->\n",
    "<img src=\"./img/img_0102.png\" width=\"400\">"
   ]
  },
  {
   "cell_type": "markdown",
   "metadata": {},
   "source": [
    "<br>\n",
    "<br>\n",
    "\n",
    "## <font color='navy'> <b> beam_block() </b></font>\n",
    "\n",
    "Vytvorí nosník so stanovenými rozmermi v BU s otvormi vo zvolených smeroch.\n",
    "\n",
    "```C\n",
    "beam_block(size = [x,y,z], holes=[true/false, true/false, true/false], center=true/false);\n",
    "beam_block(size = x, holes=[true/false, true/false, true/false], center=true/false);\n",
    "```"
   ]
  },
  {
   "cell_type": "markdown",
   "metadata": {},
   "source": [
    "### <font color='teal'> <b> Parametre </b></font>\n",
    "\n",
    "    size = [x,y,z]  - vytvorí nosník so zadanými rozmermi\n",
    "    size = x        - skalárna hodnota, vytvorí lineárny nosník o zadanej dĺžke   \n",
    "    \n",
    "    holes=[true/false, true/false, true/false]\n",
    "                    - otvory v smeroch x,y,z\n",
    "\n",
    "    center = false  - (default) vytvorí nosník v prvom oktante, \n",
    "                      jeden otvor je v súradnici (0,0,0)\n",
    "    center = true   - nosník je centrovaný v strede súradnicovej sústavy (0,0,0)\n",
    "    \n",
    "### <font color='purple'> <b> Príklady </b></font>\n",
    "\n",
    "```C\n",
    "beam_block(5);\n",
    "beam_block([5,1,1]);\n",
    "beam_block(size = [5,1,1], holes=[true, true, true], center=true);\n",
    "```"
   ]
  },
  {
   "cell_type": "markdown",
   "metadata": {
    "tags": []
   },
   "source": [
    "<!-- Image(filename='./img/img_0103.png', width=400) -->\n",
    "\n",
    "<img src=\"./img/img_0103.png\" width=\"400\">"
   ]
  },
  {
   "cell_type": "markdown",
   "metadata": {},
   "source": [
    "```C\n",
    "beam_block(size = [5, 3, 1/4], holes=[false, false, true], center=false);\n",
    "```"
   ]
  },
  {
   "cell_type": "markdown",
   "metadata": {
    "tags": []
   },
   "source": [
    "<!-- Image(filename='./img/img_0104.png', width=400) -->\n",
    "<img src=\"./img/img_0104.png\" width=\"400\">"
   ]
  },
  {
   "cell_type": "markdown",
   "metadata": {},
   "source": [
    "```C\n",
    "beam_block(size = [3, 1, 2], holes=[true, true, true], center=false);\n",
    "```"
   ]
  },
  {
   "cell_type": "markdown",
   "metadata": {
    "tags": []
   },
   "source": [
    "<!-- Image(filename='./img/img_0105.png', width=400) -->\n",
    "<img src=\"./img/img_0105.png\" width=\"400\">"
   ]
  },
  {
   "cell_type": "markdown",
   "metadata": {},
   "source": [
    "<br>\n",
    "<br>\n",
    "\n",
    "## <font color='navy'> <b> beam_cross() </b></font>\n",
    "\n",
    "Modul spojí dva štandardné nosníky pod pravým uhlom. Podľa zadaných parametrov môže byť modul použitý na vytvorenie nosníkov v tvare V, L, T a X.  \n",
    "\n",
    "```C\n",
    "beam_cross(size = [x,y], h=1, holes=[true/false, true/false, true/false]);\n",
    "beam_cross(size = [x,y,z], h=1, holes=[true/false, true/false, true/false]);\n",
    "beam_cross(size = [x,y,z,w], h=1, holes=[true/false, true/false, true/false]);\n",
    "```\n",
    "    \n",
    "### <font color='teal'> <b> Parametre </b></font>\n",
    "\n",
    "    size = [x,y]    - vytvorí nosník v tvare V alebo L\n",
    "    size = [x,y,z]  - vytvorí nosník v tvare T\n",
    "    size = [x,y,z,w]- vytvorí nosník v tvare X\n",
    "    \n",
    "    h=1             - výška nosníka, default hodnota 1 BU\n",
    "    \n",
    "    holes=[true/false, true/false, true/false]\n",
    "                    - otvory v smeroch x,y,z\n",
    "    \n",
    "### <font color='purple'> <b> Príklady </b></font>\n",
    "\n",
    "```C\n",
    "beam_cross([3,3]);\n",
    "beam_cross([3,3], holes=[true, true, true]);\n",
    "beam_cross(size=[3,3], holes=[true, true, true]);\n",
    "```"
   ]
  },
  {
   "cell_type": "markdown",
   "metadata": {},
   "source": [
    "<!-- Image(filename='./img/img_0106.png', width=400) -->\n",
    "\n",
    "<img src=\"./img/img_0106.png\" width=\"400\">"
   ]
  },
  {
   "cell_type": "markdown",
   "metadata": {},
   "source": [
    "```C\n",
    "beam_cross([5,3], holes=[false, false, true]);\n",
    "```"
   ]
  },
  {
   "cell_type": "markdown",
   "metadata": {},
   "source": [
    "<!-- Image(filename='./img/img_0107.png', width=400) -->\n",
    "\n",
    "<img src=\"./img/img_0107.png\" width=\"400\">"
   ]
  },
  {
   "cell_type": "markdown",
   "metadata": {},
   "source": [
    "```C\n",
    "beam_cross([2,3,3], h=1/2, holes=[false, false, true]);\n",
    "```"
   ]
  },
  {
   "cell_type": "markdown",
   "metadata": {
    "tags": []
   },
   "source": [
    "<!-- Image(filename='./img/img_0108.png', width=400) -->\n",
    "\n",
    "<img src=\"./img/img_0108.png\" width=\"400\">"
   ]
  },
  {
   "cell_type": "markdown",
   "metadata": {},
   "source": [
    "```C\n",
    "beam_cross([2,3,3,1], holes=[false, true, true]);\n",
    "```"
   ]
  },
  {
   "cell_type": "markdown",
   "metadata": {
    "tags": []
   },
   "source": [
    "<!-- Image(filename='./img/img_0109.png', width=400) -->\n",
    "\n",
    "<img src=\"./img/img_0109.png\" width=\"400\">\n",
    "\n",
    "<img src=\"./img/banner_02.png\" width=\"800\">"
   ]
  }
 ],
 "metadata": {
  "kernelspec": {
   "display_name": "Python 3 (ipykernel)",
   "language": "python",
   "name": "python3"
  },
  "language_info": {
   "codemirror_mode": {
    "name": "ipython",
    "version": 3
   },
   "file_extension": ".py",
   "mimetype": "text/x-python",
   "name": "python",
   "nbconvert_exporter": "python",
   "pygments_lexer": "ipython3",
   "version": "3.8.10"
  }
 },
 "nbformat": 4,
 "nbformat_minor": 4
}
