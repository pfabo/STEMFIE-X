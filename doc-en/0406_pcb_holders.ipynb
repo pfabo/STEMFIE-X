{
 "cells": [
  {
   "cell_type": "markdown",
   "id": "c517c831-31c0-4a8b-b80c-502238557c25",
   "metadata": {},
   "source": [
    "# <font color='teal'> <b> STEMFIE-X Universal PCB Holder</b></font>\n",
    "\n",
    "<img src=\"./img/banner_02.png\" width=\"800\">"
   ]
  },
  {
   "cell_type": "markdown",
   "id": "b8d24f91-647e-48bb-b39d-9abb1a435bfe",
   "metadata": {},
   "source": [
    "### <font color='teal'> <b> Description </b></font>\n",
    "\n",
    "Universal holders for fixing printed circuit boards in the BU grid. The mounting holes are adjusted to a diameter of 3.8mm in the source code by changing the value of the HoleRadius global variable.\n",
    "\n",
    "The holders are designed for smaller printed circuit boards (circuits on universal pcbs, drivers, sensors) and for use in demonstration aids for teaching electronics.\n",
    "\n",
    "### <font color='purple'> <b> Implementation </b></font>\n",
    "\n",
    "The holders are designed for mounting smaller printed circuit boards with a width of 35, 45 and 55 mm.\n",
    "\n",
    "<img src=\"./img/img_0328_holder_all.png\" width=\"400\">\n",
    "\n",
    "<img src=\"./img/img_0326_holder_5U.png\" width=\"400\">\n",
    "\n",
    "### <font color='teal'> <b> Example </b></font>\n",
    "\n",
    "OBRAZOK - ToDO\n",
    "\n",
    "<img src=\"./img/banner_02.png\" width=\"800\">"
   ]
  }
 ],
 "metadata": {
  "kernelspec": {
   "display_name": "Python 3 (ipykernel)",
   "language": "python",
   "name": "python3"
  },
  "language_info": {
   "codemirror_mode": {
    "name": "ipython",
    "version": 3
   },
   "file_extension": ".py",
   "mimetype": "text/x-python",
   "name": "python",
   "nbconvert_exporter": "python",
   "pygments_lexer": "ipython3",
   "version": "3.8.10"
  }
 },
 "nbformat": 4,
 "nbformat_minor": 5
}
