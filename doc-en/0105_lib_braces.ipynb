{
 "cells": [
  {
   "cell_type": "markdown",
   "metadata": {},
   "source": [
    "# <font color='teal'> <b> STEMFIE-X   braces.scad</b></font>\n",
    "\n",
    "<img src=\"./img/banner_02.png\" width=\"800\">\n",
    "\n",
    "\n",
    "A library for creating flat braces. The library source code is in the file **./lib/braces.scad**. The brace parameters are defined by the constants **BU** and **HoleRadius** in the file **./lib/constants.scad**.\n",
    "\n",
    "<br>\n",
    "\n",
    "## <font color='navy'> <b> brace() </b></font>\n",
    "\n",
    "Creates a brace of specified size and thickness. Dimensions are given in BU units. \n",
    "\n",
    "```C\n",
    "brace(size, h = 0.25, holes = true)\n",
    "```\n",
    "    \n",
    "### <font color='teal'> <b> Parameters </b></font>\n",
    "\n",
    "    size = x      - scalar value, creates a brace of the length of the specified value\n",
    "    h = 0.25      - (default) brace thickness\n",
    "    holes = true  - if true, it will generate holes, otherwise it will create a brace without holes,\n",
    "                       holes can be defined using the holes.scad library\n"
   ]
  },
  {
   "cell_type": "markdown",
   "metadata": {},
   "source": [
    "### <font color='purple'> <b> Examples </b></font>\n",
    "\n",
    "```C\n",
    "brace(3, h = 0.5, holes = false);\n",
    "```"
   ]
  },
  {
   "cell_type": "markdown",
   "metadata": {
    "tags": []
   },
   "source": [
    "<!-- from IPython.display import Image\n",
    "Image(filename='./img/img_0110.png', width=400) -->\n",
    "\n",
    "<img src=\"./img/img_0110.png\" width=\"400\">"
   ]
  },
  {
   "cell_type": "markdown",
   "metadata": {},
   "source": [
    "```C\n",
    "brace(5, h = 0.25, holes = true);\n",
    "```"
   ]
  },
  {
   "cell_type": "markdown",
   "metadata": {
    "tags": []
   },
   "source": [
    "<!-- Image(filename='./img/img_0111.png', width=400) -->\n",
    "\n",
    "<img src=\"./img/img_0111.png\" width=\"400\">"
   ]
  },
  {
   "cell_type": "markdown",
   "metadata": {},
   "source": [
    "<br>\n",
    "\n",
    "## <font color='navy'> <b> brace_cross () </b></font>\n",
    "\n",
    "Covers two standard braces. The command can be used to create V-, L-, T-, and X-shaped braces. \n",
    "\n",
    "```C\n",
    "brace_cross(size = [x,y], h=1);\n",
    "brace_cross(size = [x,y,z], h=1);\n",
    "brace_cross(size = [x,y,z,w], h=1);\n",
    "```\n",
    "\n",
    "### <font color='teal'> <b> Parameters </b></font>\n",
    "\n",
    "    size = [x,y]       - creates a V or L shape brace\n",
    "    size = [x,y,z]     - creates a T-brace\n",
    "    size = [x,y,z,w]   - creates an X-shaped brace\n",
    "    \n",
    "    h=0.25             - brace height, default value 0.25 BU\n",
    "        \n",
    "### <font color='purple'> <b> Examples </b></font>\n",
    "\n",
    "```C\n",
    "brace_cross([3,3]);\n",
    "brace_cross(size=[3,3], h=0.25);\n",
    "```"
   ]
  },
  {
   "cell_type": "markdown",
   "metadata": {
    "tags": []
   },
   "source": [
    "<!-- from IPython.display import Image\n",
    "Image(filename='./img/img_0112.png', width=400) --> \n",
    "\n",
    "<img src=\"./img/img_0112.png\" width=\"400\">"
   ]
  },
  {
   "cell_type": "markdown",
   "metadata": {},
   "source": [
    "```C\n",
    "brace_cross([2,3,2], h=0.5);\n",
    "```"
   ]
  },
  {
   "cell_type": "markdown",
   "metadata": {
    "tags": []
   },
   "source": [
    "<!-- Image(filename='./img/img_0113.png', width=400) -->\n",
    "\n",
    "<img src=\"./img/img_0113.png\" width=\"400\">"
   ]
  },
  {
   "cell_type": "markdown",
   "metadata": {},
   "source": [
    "```C\n",
    "brace_cross([2,3,1,1], h=0.25);\n",
    "```"
   ]
  },
  {
   "cell_type": "markdown",
   "metadata": {
    "tags": []
   },
   "source": [
    "<!-- Image(filename='./img/img_0114.png', width=400) -->\n",
    "\n",
    "<img src=\"./img/img_0114.png\" width=\"400\">"
   ]
  },
  {
   "cell_type": "markdown",
   "metadata": {},
   "source": [
    "<br>\n",
    "    \n",
    "## <font color='navy'> <b> brace_arc() </b></font>\n",
    "\n",
    "Creates a brace in the shape of an arc according to the specified radius, angle, thickness and number of holes.\n",
    "\n",
    "```C\n",
    "brace_arc(r, angle, h = 0.25, holes = 2);\n",
    "```\n",
    "    \n",
    "### <font color='teal'> <b> Parameters </b></font>\n",
    "\n",
    "    r         - brace radius in BU\n",
    "    angle     - brace angle, in degrees\n",
    "    h=0.25    - brace height, default value 0.25 BU\n",
    "    holes=2   - number of holes - 0, 2(default), 3, ...\n",
    "\n",
    "        \n",
    "### <font color='purple'> <b> Examples </b></font>\n",
    "\n",
    "```C\n",
    "brace_arc(r=3, angle=90, h = 0.5, holes = 4);\n",
    "```"
   ]
  },
  {
   "cell_type": "markdown",
   "metadata": {
    "tags": []
   },
   "source": [
    "<!-- Image(filename='./img/img_0115.png', width=400) -->\n",
    "\n",
    "<img src=\"./img/img_0115.png\" width=\"400\">"
   ]
  },
  {
   "cell_type": "markdown",
   "metadata": {},
   "source": [
    "```C\n",
    "brace_arc(r=4, angle=135, h = 0.25, holes = 10);\n",
    "```"
   ]
  },
  {
   "cell_type": "markdown",
   "metadata": {
    "tags": []
   },
   "source": [
    "<!-- Image(filename='./img/img_0116.png', width=400) -->\n",
    "\n",
    "<img src=\"./img/img_0116.png\" width=\"400\">"
   ]
  },
  {
   "cell_type": "markdown",
   "metadata": {},
   "source": [
    "```C\n",
    "brace_arc(r=3.5, angle=360, h = 0.25, holes = 10);\n",
    "```"
   ]
  },
  {
   "cell_type": "markdown",
   "metadata": {
    "tags": []
   },
   "source": [
    "<!-- Image(filename='./img/img_0117.png', width=400)\n",
    " -->\n",
    " \n",
    " <img src=\"./img/img_0117.png\" width=\"400\">\n"
   ]
  },
  {
   "cell_type": "markdown",
   "metadata": {},
   "source": [
    "<br>\n",
    "\n",
    "## <font color='navy'> <b> brace_plate() </b></font>\n",
    "\n",
    "A board with rounded corners with the same parameters as *brace()*. The minimum plate dimensions are 2x2 BU. \n",
    "\n",
    "```C\n",
    "brace_plate(size=[x,y], h=1/2, holes = true);\n",
    "```\n",
    "    \n",
    "### <font color='teal'> <b> Parameters </b></font>\n",
    "\n",
    "    x,y             - dimensions, in BU \n",
    "    h=1/4           - height, default value 0.25 BU\n",
    "    holes=true      - true/false hole selection.\n",
    "        \n",
    "### <font color='purple'> <b> Examples </b></font>\n",
    "\n",
    "```C\n",
    "brace_plate([5,3], h = 1/4, holes = true);\n",
    "```"
   ]
  },
  {
   "cell_type": "markdown",
   "metadata": {},
   "source": [
    "<!-- Image(filename='./img/img_0145.png', width=400) -->\n",
    "\n",
    "<img src=\"./img/img_0145.png\" width=\"400\">\n",
    "\n",
    "\n",
    "<img src=\"./img/banner_02.png\" width=\"800\">"
   ]
  }
 ],
 "metadata": {
  "kernelspec": {
   "display_name": "Python 3 (ipykernel)",
   "language": "python",
   "name": "python3"
  },
  "language_info": {
   "codemirror_mode": {
    "name": "ipython",
    "version": 3
   },
   "file_extension": ".py",
   "mimetype": "text/x-python",
   "name": "python",
   "nbconvert_exporter": "python",
   "pygments_lexer": "ipython3",
   "version": "3.8.10"
  }
 },
 "nbformat": 4,
 "nbformat_minor": 4
}
