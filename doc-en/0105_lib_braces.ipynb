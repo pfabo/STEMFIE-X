{
 "cells": [
  {
   "cell_type": "markdown",
   "metadata": {},
   "source": [
    "# <font color='teal'> <b> STEMFIE-X   braces.scad</b></font>\n",
    "\n",
    "<img src=\"./img/banner_02.png\" width=\"800\">\n",
    "\n",
    "\n",
    "A library for creating flat braces. The library source code is in the file **./lib/braces.scad**. The brace parameters are defined by the constants **BU** and **HoleRadius** in the file **./lib/constants.scad**.\n",
    "\n",
    "<br>\n",
    "\n",
    "## <font color='navy'> <b> brace() </b></font>\n",
    "\n",
    "Creates a brace of specified size and thickness. Dimensions are given in BU units. \n",
    "\n",
    "```C\n",
    "brace(size, <h = 0.25>, <holes = true>);\n",
    "```\n",
    "    \n",
    "### <font color='teal'> <b> Parameters </b></font>\n",
    "\n",
    "    size          - scalar value, creates a brace of the length of the specified value in BU units\n",
    "    h             - brace thickness, default 0.25 BU   \n",
    "    holes         - if true, it will generate holes, otherwise it will create a brace without holes,\n",
    "                    holes can be defined using the holes.scad library, default true\n"
   ]
  },
  {
   "cell_type": "markdown",
   "metadata": {},
   "source": [
    "### <font color='purple'> <b> Examples </b></font>\n",
    "\n",
    "```C\n",
    "brace(3, h = 0.5, holes = false);\n",
    "```"
   ]
  },
  {
   "cell_type": "markdown",
   "metadata": {
    "tags": []
   },
   "source": [
    "<!-- from IPython.display import Image\n",
    "Image(filename='./img/img_0110.png', width=400) -->\n",
    "\n",
    "<img src=\"./img/img_0110.png\" width=\"400\">"
   ]
  },
  {
   "cell_type": "markdown",
   "metadata": {},
   "source": [
    "```C\n",
    "brace(5);\n",
    "```"
   ]
  },
  {
   "cell_type": "markdown",
   "metadata": {
    "tags": []
   },
   "source": [
    "<!-- Image(filename='./img/img_0111.png', width=400) -->\n",
    "\n",
    "<img src=\"./img/img_0111.png\" width=\"400\">"
   ]
  },
  {
   "cell_type": "markdown",
   "metadata": {},
   "source": [
    "<br>\n",
    "\n",
    "## <font color='navy'> <b> brace_cross () </b></font>\n",
    "\n",
    "Covers two standard braces. The command can be used to create V-, L-, T-, and X-shaped braces. \n",
    "\n",
    "```C\n",
    "brace_cross(size, <h=0.25>);\n",
    "```\n",
    "\n",
    "### <font color='teal'> <b> Parameters </b></font>\n",
    "\n",
    "    size   - vector [x,y],    creates a V or L-shaped brace\n",
    "           - vector [x,y,z]   creates a T-shaped brace\n",
    "           - vector [x,y,z,w] creates an X-shaped brace\n",
    "    \n",
    "     h      - beam height, default value 0.25 BU\n",
    "\n",
    "### <font color='purple'> <b> Examples </b></font>\n",
    "\n",
    "```C\n",
    "brace_cross([3,3]);\n",
    "brace_cross(size=[3,3], h=1/4);\n",
    "```"
   ]
  },
  {
   "cell_type": "markdown",
   "metadata": {
    "tags": []
   },
   "source": [
    "<!-- from IPython.display import Image\n",
    "Image(filename='./img/img_0112.png', width=400) --> \n",
    "\n",
    "<img src=\"./img/img_0112.png\" width=\"400\">"
   ]
  },
  {
   "cell_type": "markdown",
   "metadata": {},
   "source": [
    "```C\n",
    "brace_cross([2,3,2], h=1/2);\n",
    "```"
   ]
  },
  {
   "cell_type": "markdown",
   "metadata": {
    "tags": []
   },
   "source": [
    "<!-- Image(filename='./img/img_0113.png', width=400) -->\n",
    "\n",
    "<img src=\"./img/img_0113.png\" width=\"400\">"
   ]
  },
  {
   "cell_type": "markdown",
   "metadata": {},
   "source": [
    "```C\n",
    "brace_cross([2,3,1,1]);\n",
    "```"
   ]
  },
  {
   "cell_type": "markdown",
   "metadata": {
    "tags": []
   },
   "source": [
    "<!-- Image(filename='./img/img_0114.png', width=400) -->\n",
    "\n",
    "<img src=\"./img/img_0114.png\" width=\"400\">"
   ]
  },
  {
   "cell_type": "markdown",
   "metadata": {},
   "source": [
    "<br>\n",
    "    \n",
    "## <font color='navy'> <b> brace_arc() </b></font>\n",
    "\n",
    "Creates a brace in the shape of an arc according to the specified radius, angle, thickness and number of holes.\n",
    "\n",
    "```C\n",
    "brace_arc(r, angle, <h = 0.25>, <holes = 2>);\n",
    "```\n",
    "    \n",
    "### <font color='teal'> <b> Parameters </b></font>\n",
    "\n",
    "    r         - brace radius in BU\n",
    "    angle     - brace angle, in degrees\n",
    "    h         - brace height, default value 0.25 BU\n",
    "    holes     - number of holes - 0, 2(default), 3, ...\n",
    "\n",
    "        \n",
    "### <font color='purple'> <b> Examples </b></font>\n",
    "\n",
    "```C\n",
    "brace_arc(r=3, angle=90, h = 0.5, holes = 4);\n",
    "```"
   ]
  },
  {
   "cell_type": "markdown",
   "metadata": {
    "tags": []
   },
   "source": [
    "<!-- Image(filename='./img/img_0115.png', width=400) -->\n",
    "\n",
    "<img src=\"./img/img_0115.png\" width=\"400\">"
   ]
  },
  {
   "cell_type": "markdown",
   "metadata": {},
   "source": [
    "```C\n",
    "brace_arc(r=4, angle=135, h = 0.25, holes = 10);\n",
    "```"
   ]
  },
  {
   "cell_type": "markdown",
   "metadata": {
    "tags": []
   },
   "source": [
    "<!-- Image(filename='./img/img_0116.png', width=400) -->\n",
    "\n",
    "<img src=\"./img/img_0116.png\" width=\"400\">"
   ]
  },
  {
   "cell_type": "markdown",
   "metadata": {},
   "source": [
    "```C\n",
    "brace_arc(r=3.5, angle=360, h = 0.25, holes = 10);\n",
    "```"
   ]
  },
  {
   "cell_type": "markdown",
   "metadata": {
    "tags": []
   },
   "source": [
    "<!-- Image(filename='./img/img_0117.png', width=400)\n",
    " -->\n",
    " \n",
    " <img src=\"./img/img_0117.png\" width=\"400\">\n"
   ]
  },
  {
   "cell_type": "markdown",
   "metadata": {},
   "source": [
    "<br>\n",
    "\n",
    "## <font color='navy'> <b> brace_plate() </b></font>\n",
    "\n",
    "A board with rounded corners with the same parameters as *brace()*. The minimum plate dimensions are 2x2 BU. \n",
    "\n",
    "```C\n",
    "brace_plate(size, <h=1/2>, <holes = true>);\n",
    "```\n",
    "    \n",
    "### <font color='teal'> <b> Parameters </b></font>\n",
    "\n",
    "    size            - vector [x,y], plate dimensions in BU, x,y >= 2 \n",
    "    h               - height, default value 0.25 BU\n",
    "    holes           - true/false holes selection.\n",
    "        \n",
    "### <font color='purple'> <b> Examples </b></font>\n",
    "\n",
    "```C\n",
    "brace_plate([5,3], h = 1/4, holes = true);\n",
    "```"
   ]
  },
  {
   "cell_type": "markdown",
   "metadata": {},
   "source": [
    "<!-- Image(filename='./img/img_0145.png', width=400) -->\n",
    "\n",
    "<img src=\"./img/img_0145.png\" width=\"400\">\n",
    "\n",
    "\n",
    "<img src=\"./img/banner_02.png\" width=\"800\">"
   ]
  }
 ],
 "metadata": {
  "kernelspec": {
   "display_name": "Python 3 (ipykernel)",
   "language": "python",
   "name": "python3"
  },
  "language_info": {
   "codemirror_mode": {
    "name": "ipython",
    "version": 3
   },
   "file_extension": ".py",
   "mimetype": "text/x-python",
   "name": "python",
   "nbconvert_exporter": "python",
   "pygments_lexer": "ipython3",
   "version": "3.8.10"
  },
  "latex_envs": {
   "LaTeX_envs_menu_present": true,
   "autoclose": false,
   "autocomplete": true,
   "bibliofile": "biblio.bib",
   "cite_by": "apalike",
   "current_citInitial": 1,
   "eqLabelWithNumbers": true,
   "eqNumInitial": 1,
   "hotkeys": {
    "equation": "Ctrl-E",
    "itemize": "Ctrl-I"
   },
   "labels_anchors": false,
   "latex_user_defs": false,
   "report_style_numbering": false,
   "user_envs_cfg": false
  },
  "varInspector": {
   "cols": {
    "lenName": 16,
    "lenType": 16,
    "lenVar": 40
   },
   "kernels_config": {
    "python": {
     "delete_cmd_postfix": "",
     "delete_cmd_prefix": "del ",
     "library": "var_list.py",
     "varRefreshCmd": "print(var_dic_list())"
    },
    "r": {
     "delete_cmd_postfix": ") ",
     "delete_cmd_prefix": "rm(",
     "library": "var_list.r",
     "varRefreshCmd": "cat(var_dic_list()) "
    }
   },
   "types_to_exclude": [
    "module",
    "function",
    "builtin_function_or_method",
    "instance",
    "_Feature"
   ],
   "window_display": false
  }
 },
 "nbformat": 4,
 "nbformat_minor": 4
}
