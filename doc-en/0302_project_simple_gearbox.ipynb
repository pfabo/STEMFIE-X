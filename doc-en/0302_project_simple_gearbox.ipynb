{
 "cells": [
  {
   "cell_type": "markdown",
   "id": "3fdd4d83-0a76-4c1c-8185-32c63dd8e80b",
   "metadata": {},
   "source": [
    "# <font color='teal'> <b> STEMFIE-X Simple gearbox</b></font>\n",
    "\n",
    "<img src=\"./img/banner_02.png\" width=\"800\">\n",
    "\n",
    "Transmission mechanisms are the basis of the vast majority of mechanical systems. Simple electric motors usually have a high number of revolutions per minute and a small torque, we can adjust these parameters with a simple gearbox. When designing the gearbox, we will use standard construction elements *STEMFIE-X* to the maximum extent possible. The project serves to demonstrate the construction and production process and as an inspiration for the creation of own transmission mechanisms.\n",
    "\n",
    "<img src=\"./img/img_0311_gearbox_01.png\" width=\"400\">"
   ]
  },
  {
   "cell_type": "markdown",
   "id": "5862305d-e96b-4272-b332-d2b0358cceb5",
   "metadata": {},
   "source": [
    "## <font color='navy'> <b> Design</b></font>\n",
    "\n",
    "Pri návrhu prevodovky vychádajme z požiadavky, aby vertikálnym rozmer bol 3BU. Pre tento rozmer musíme zvoliť správne priemery ozubených kolies, pričom priemer závisí od počtu a modulu zubov. Zároveň vzdialenosti osí ozubených kolies musia byť v násobkoch BU. Jednoduchým pokusom v openSCAD, testovacím programom, si overíme vzájomnú polohu ozubených kolies.\n",
    "\n",
    "\n",
    "```C\n",
    "beam_block([5, 3, 1/4], holes=[false, false, true]);\n",
    "\n",
    "BU_Tx(2) Rz(360/12/2) color(\"blue\") \n",
    "spur_gear (modul=1, tooth_number=12, width=10, bore=4, pressure_angle=20, helix_angle=0, optimized=false);\n",
    "\n",
    "color(\"red\") \n",
    "spur_gear (modul=1, tooth_number=28, width=5, bore=4, pressure_angle=20, helix_angle=0, optimized=false);\n",
    "```\n",
    "We find that the number of teeth 28 for the larger gear wheel and 12 for the smaller one suits us in the 3BU profile - the axial distance is then\n",
    "\n",
    "\\begin{equation*}\n",
    "\\frac{28+12}{20} = 2 BU \n",
    "\\end{equation*}\n",
    "\n",
    "and gear ratio for one stage\n",
    "\n",
    "\\begin{equation*}\n",
    "28 : 12= 2.33 : 1\n",
    "\\end{equation*}\n",
    "\n",
    "<img src=\"./img/img_0318_rozmery.png\" width=\"500\">"
   ]
  },
  {
   "cell_type": "markdown",
   "id": "858aff58-6614-49df-a77e-dd091d86f628",
   "metadata": {},
   "source": [
    "## <font color='navy'> <b> Construction </b></font>\n",
    "\n",
    "We will use standard *STEMFIE-X* elements for construction, we will use a plate in the XY plane for placement. A more complicated element is the motor mount, which has holes for the motor, a slot and holes for the mounting bolt. The source code of the entire project is available in the directory **/src**.\n",
    "\n",
    "<img src=\"./img/img_0310_gearbox_02.png\" width=\"500\">"
   ]
  },
  {
   "cell_type": "markdown",
   "id": "fe956b6b-fc67-4830-bfe9-d37ff581867e",
   "metadata": {},
   "source": [
    "After designing the structure, it is advisable to copy the source code and in the copy, gradually comment parts of the project so that we get separate components without displacements and rotations suitable for generating *stl* files, e.g. code for the motor mount (uses the motor model from the library):\n",
    "\n",
    "```C\n",
    "D()\n",
    "{\n",
    "    // blok v základnej polohe\n",
    "    beam_block([1, 3, 3], [false, false, false]);  \n",
    "    // vytvorenie otvorov a strbiny - operacie diferencie\n",
    "    {\n",
    "        BU_Tx(-1.9) Rz()  Rx() motor_dc();                            // motor, 21mm \n",
    "        BU_Tz(-1.5) beam_block([2, .1, 1.5], [false, false, false]);  // strbina\n",
    "        BU_Tz( 1) hole_list([[0,-1], [0,1] ], l=1);                   // upevnovacie otvory\n",
    "        BU_Ty(2) BU_Tz( -1.2) Rx() cylinder(r=1, h=40);               // diera pre skrutku\n",
    "        BU_Ty(-.8) BU_Tz( -1.2) Rx() cylinder(r=2.5, h=8);            // zapustenie skrutky\n",
    "    }\n",
    "}\n",
    "```\n",
    "\n",
    "In case you will use such a component more often in the future, create a module from the code and include it in your own library of used parts.\n",
    "\n",
    "<img src=\"./img/img_0316_motor.png\" width=\"500\">"
   ]
  },
  {
   "cell_type": "markdown",
   "id": "af507052-f212-4108-aabc-346337485bd4",
   "metadata": {},
   "source": [
    "## <font color='navy'> <b> Printing </b></font>\n",
    "\n",
    "For individual parts of the gearbox, we will generate separate *stl* files (we will comment out non-essential parts of the code), from which we will generate documents for printing in the Slicer program. The entire gearbox consists (without the motor) of 8 printed parts, we can print them at once. Standard PLA material was used for printing.\n",
    "\n",
    "<img src=\"./img/img_0319_slicer.png\" width=\"600\">\n",
    "\n",
    "<img src=\"./img/img_0320.jpeg\" width=\"600\">"
   ]
  },
  {
   "cell_type": "markdown",
   "id": "4aaf98bb-1928-45ac-843d-3bebe7dfaa0e",
   "metadata": {},
   "source": [
    "## <font color='navy'> <b> Assembly </b></font>\n",
    "\n",
    "The printed parts usually have holes a little smaller within the tolerances of 3D printing, which depends on the printer itself, material, temperature, printing speed, etc. A smaller diameter is suitable when we want to use screws to assemble parts, some types with cut threads cut their own thread in the plastic and hold the whole thing well (you have to try). For small diameter adjustments for shafts, pins, etc. it is a good idea to carefully adjust the diameter of the hole with a drill or hand reamer. Smaller diameter and slightly deformed shape usually also have holes that are pressed in the parts lying down.\n",
    "\n",
    "Gear shafts are metal, 2 and 4 BU in length. The shafts are tightly pressed into the gears, they rotate in the sidewalls of the gearbox. It will probably be necessary to adjust the diameter of the hole in the gear wheel for the motor, the used motor had a shaft diameter of 2mm.\n",
    "\n",
    "<img src=\"./img/img_0321.jpeg\" width=\"400\">"
   ]
  },
  {
   "cell_type": "markdown",
   "id": "73716ce7-fe40-4c8a-8438-698899c82547",
   "metadata": {},
   "source": [
    "We can use screws to connect the parts, for some connections we can use pins from sticks with a diameter of 4 mm for lollipops, these are made of plastic or pressed paper and can be cut with a knife. For a stronger connection, we can stick the pins in the parts with dispersion glue (Herkules, etc.), the connections can be dismantled by immersing them in water.\n",
    "\n",
    "<img src=\"./img/img_0322.jpeg\" width=\"300\">\n",
    "\n",
    "<img src=\"./img/img_0323.jpeg\" width=\"300\">"
   ]
  },
  {
   "cell_type": "markdown",
   "id": "4958bae9-5ccf-4aa2-aaa9-b56d3394705e",
   "metadata": {},
   "source": [
    "After assembly, the gears must rotate freely. Because the gears cannot compete with the quality of professionally made gears, our gearbox is slightly noisy, you can try to reduce the noise by experimenting with bevel gears, run-in and light lubrication with silicone oil. The wear resistance of the gears made of PLA material is surprisingly very good, even after several hours of operation the gears showed no signs of wear.\n",
    "\n",
    "<img src=\"./img/img_0324.jpeg\" width=\"400\">\n",
    "\n",
    "<img src=\"./img/banner_02.png\" width=\"800\">"
   ]
  }
 ],
 "metadata": {
  "kernelspec": {
   "display_name": "Python 3 (ipykernel)",
   "language": "python",
   "name": "python3"
  },
  "language_info": {
   "codemirror_mode": {
    "name": "ipython",
    "version": 3
   },
   "file_extension": ".py",
   "mimetype": "text/x-python",
   "name": "python",
   "nbconvert_exporter": "python",
   "pygments_lexer": "ipython3",
   "version": "3.8.10"
  }
 },
 "nbformat": 4,
 "nbformat_minor": 5
}
