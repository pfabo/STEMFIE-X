{
 "cells": [
  {
   "cell_type": "markdown",
   "metadata": {
    "jupyter": {
     "source_hidden": true
    },
    "tags": []
   },
   "source": [
    "<!-- <script>\n",
    "  function code_toggle() {\n",
    "    if (code_shown){\n",
    "      $('div.input').hide('500');\n",
    "      $('#toggleButton').val('Show Code')\n",
    "    } else {\n",
    "      $('div.input').show('500');\n",
    "      $('#toggleButton').val('Hide Code')\n",
    "    }\n",
    "    code_shown = !code_shown\n",
    "  }\n",
    "\n",
    "  $( document ).ready(function(){\n",
    "    code_shown=false;\n",
    "    $('div.input').hide()\n",
    "  });\n",
    "</script>\n",
    "<form action=\"javascript:code_toggle()\">\n",
    "  <input type=\"submit\" id=\"toggleButton\" value=\"Show Code\">\n",
    "</form> -->"
   ]
  },
  {
   "cell_type": "markdown",
   "metadata": {},
   "source": [
    "# <font color='teal'> <b> openSCAD</b></font>\n",
    "\n",
    "<img src=\"./img/banner_02.png\" width=\"800\">\n",
    "\n",
    "**openSCAD** je open-source prostredie pre konštrukciu a tvorbu 3D parametrických modelov. Parametrické modely sa nevytvárajú v grafickom prostredí ako pri štandardných CAD programoch, ale pomocou jednoduchého programovacieho jazyka podobného jazyku C. Pri správnom návrhu programu je možné pomocou zmien parametrov meniť vlastnosti navrhnutej konštrukcie bez potreby prepisovania programu. Domovská stránka programu je [https://openscad.org](https://openscad.org/). Program umožňuje generovanie *stl* súborov pre 3D tlač. \n",
    "\n",
    "Súčasťou konštrukčnej stavebnice **STEMFIE-X** je knižnica pre *openSCAD*, ktorá rozširuje štandardné vlastnosti programu o parametrickú tvorbu komponentov stavebnice a konštrukciu modelov z nich zložených.\n",
    "\n",
    "## <font color='Chocolate'> Inštalácia </font>\n",
    "\n",
    "Inštalačné súbory pre štandardné operačné systémy sú dostupné na [stránke projektu](https://openscad.org/downloads.html). Pre Linux odporúčame stiahnúť a používať program vo formáte AppImage, pretože verzie programu v repozitároch môžu byť zastaralé.\n",
    "\n",
    "## <font color='Chocolate'> Programovanie </font>\n",
    "\n",
    "Vlastná tvorba modelov v programe openSCAD vyžaduje elementárne znalosti práce s počítačom na úrovni strednej školy. Z pedagogického hľadiska je ale tvorba modelov ich fyzická realizácia 3D tlačou multidisciplinárna úloha, ktorá vo všeobecnosti rozvíja \n",
    "\n",
    "* priestorovú predstavivosť, znalosti geometrie, práca s objektami a ich zobrazenie  \n",
    "* znalosti matematiky - matematické operácie, goniometrické funkcie\n",
    "* znalosti fyziky - princípy jednoduchých strojov, rovnováhy síl\n",
    "* znalosti mechaniky - princípy mechanizmov, strojov a ich montáže, spájania\n",
    "* znalosti chémie - vlastnosti materiálov, \n",
    "* samotné programovanie modelu a násladný postprocesing pre 3D tlač\n",
    "* mechatroniky - previazanie komplikovanejších mechanických systémov s elektronikou, senzormi, riadením\n",
    "\n",
    "Pre samotný openSCAD existuje voľne dostupné množstvo tútoriálov, videí a návodov. Pre konštruovanie jednoduchších konštrukciíí v STEMFIE-X postačujú len elementárne znalosti, prevažná väčšina komplikovanejších aktivít je implementovaná v knižniciach.\n",
    "\n",
    "\n"
   ]
  },
  {
   "cell_type": "markdown",
   "metadata": {},
   "source": [
    "## <font color='Chocolate'> Prostredie </font>\n",
    "\n",
    "Prostredie programu pozostáva z 3 základných častí - editora zdrojových kodov, konzoly, kam programy vypisujú výstupy a chybové hlásenia a grafického prehliadača naprogramovaných komponentov. Prehliadač sa aktivuje klávesou F5, finálne renderovanie sa spustí klávesou F6. Podrobný popis ovládania programu je na [wiki stránke projektu](https://en.wikibooks.org/wiki/OpenSCAD_User_Manual#The_OpenSCAD_User_Manual)."
   ]
  },
  {
   "cell_type": "markdown",
   "metadata": {
    "tags": []
   },
   "source": [
    "<!-- from IPython.display import Image\n",
    "Image(filename='./img/openscad.png', width=800) -->\n",
    "<img src=\"./img/openscad.png\" width=\"800\">"
   ]
  },
  {
   "cell_type": "markdown",
   "metadata": {},
   "source": [
    "## <font color='Chocolate'> Dokumentácia </font>\n",
    "\n",
    "Dokumentácia k programu obsahuje podrobnú [referenčnú príručku](https://en.wikibooks.org/wiki/OpenSCAD_User_Manual#The_OpenSCAD_Language_Reference) programovacieho jazyka spolu s množstvom príkladov. Pre rýchly prehľad príkazov a základných jazykových konštrukcií je možné z menu programu vyvolať online [cheat-sheet](https://en.wikibooks.org/wiki/OpenSCAD_User_Manual#The_OpenSCAD_Language_Reference)."
   ]
  },
  {
   "cell_type": "markdown",
   "metadata": {
    "tags": []
   },
   "source": [
    "<!-- Image(filename='./img/openscad_cheatsheet.png', width=800) -->\n",
    "<img src=\"./img/openscad_cheatsheet.png\" width=\"800\">\n",
    "\n",
    "\n",
    "## <font color='Chocolate'> Odkazy a zdroje </font>\n",
    "\n",
    "### <font color='purple'>  Dokumentácia, pdf, knihy  </font>\n",
    "\n",
    "* [OpenSCAD User Manual](https://files.openscad.org/documentation/manual/OpenSCAD_User_Manual.pdf)\n",
    "* [The OpenSCAD Language](https://files.openscad.org/documentation/manual/The_OpenSCAD_Language.pdf)\n",
    "\n",
    "### <font color='purple'>  Tútoriály, príklady </font>\n",
    "\n",
    "* [edutechwiki](https://edutechwiki.unige.ch/en/OpenScad_beginners_tutorial)\n",
    "* [i.materialise.com](https://i.materialise.com/blog/en/openscad-tutorial/)\n",
    "\n",
    "### <font color='purple'>  Videá a videokurzy </font>\n",
    "\n",
    "* [Z-TECH (CZ)](https://youtu.be/7562pU6gDyo?si=OLkcPoUs3CeuhKYD)\n",
    "* [Open Scad Tutorial (EN)](https://youtu.be/e0QFL2JlsZE?si=zQWKle1cXBo865pr)\n"
   ]
  },
  {
   "cell_type": "markdown",
   "metadata": {},
   "source": [
    "<img src=\"./img/banner_02.png\" width=\"800\">"
   ]
  }
 ],
 "metadata": {
  "kernelspec": {
   "display_name": "Python 3 (ipykernel)",
   "language": "python",
   "name": "python3"
  },
  "language_info": {
   "codemirror_mode": {
    "name": "ipython",
    "version": 3
   },
   "file_extension": ".py",
   "mimetype": "text/x-python",
   "name": "python",
   "nbconvert_exporter": "python",
   "pygments_lexer": "ipython3",
   "version": "3.8.10"
  }
 },
 "nbformat": 4,
 "nbformat_minor": 4
}
