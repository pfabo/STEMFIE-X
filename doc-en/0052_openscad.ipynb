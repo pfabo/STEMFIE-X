{
 "cells": [
  {
   "cell_type": "markdown",
   "metadata": {
    "jupyter": {
     "source_hidden": true
    },
    "tags": []
   },
   "source": [
    "<!-- <script>\n",
    "  function code_toggle() {\n",
    "    if (code_shown){\n",
    "      $('div.input').hide('500');\n",
    "      $('#toggleButton').val('Show Code')\n",
    "    } else {\n",
    "      $('div.input').show('500');\n",
    "      $('#toggleButton').val('Hide Code')\n",
    "    }\n",
    "    code_shown = !code_shown\n",
    "  }\n",
    "\n",
    "  $( document ).ready(function(){\n",
    "    code_shown=false;\n",
    "    $('div.input').hide()\n",
    "  });\n",
    "</script>\n",
    "<form action=\"javascript:code_toggle()\">\n",
    "  <input type=\"submit\" id=\"toggleButton\" value=\"Show Code\">\n",
    "</form> -->"
   ]
  },
  {
   "cell_type": "markdown",
   "metadata": {},
   "source": [
    "# <font color='teal'> <b> STEMFIE-X & openSCAD</b></font>\n",
    "\n",
    "<img src=\"./img/banner_02.png\" width=\"800\">\n",
    "\n",
    "**openSCAD** is an open-source environment for the construction and creation of 3D parametric models. Parametric models are not created in a graphical environment as in standard CAD programs, but using a simple programming language similar to C. With the correct program design, it is possible to change the properties of the designed structure without the need to rewrite the program. The home page of the program is [https://openscad.org](https://openscad.org/). The program allows the generation of *stl* files for 3D printing. \n",
    "\n",
    "Part of the construction kit STEMFIE-X is a library for openSCAD, which extends the standard features of the program by parametric creation of components of the kit and the construction of models composed of them. There are many similar programs that allow parametric modeling (OpenJSCAD, DeclaraCAD, FreeCAD, CadQuery ...), we chose the openSCAD environment because of the simple syntax of functional programming, even if it does not provide such rich options as other programs. For working with STEMFIE-X blocks, the options of openSCAD are more than sufficient.\n",
    "\n",
    "## <font color='Chocolate'> Installation </font>\n",
    "\n",
    "Installation files for standard operating systems are available at [project page](https://openscad.org/downloads.html). For Linux, we recommend downloading and using the program in AppImage format, as the versions of the program in the repositories may be out of date.\n",
    "\n",
    "## <font color='Chocolate'> Programming </font>\n",
    "\n",
    "Own creation of models in the openSCAD program requires elementary knowledge of working with a computer at the high school level. From a pedagogical point of view, however, the creation of models and their physical realization by 3D printing is a multidisciplinary task that generally develops\n",
    "\n",
    "* spatial imagination, knowledge of geometry, working with objects and their representation\n",
    "* knowledge of mathematics - mathematical operations, trigonometric functions\n",
    "* knowledge of physics - principles of simple machines, balance of forces\n",
    "* knowledge of mechanics - principles of mechanisms, machines and their assembly and connection\n",
    "* knowledge of chemistry - properties of materials, adhesives, dyeing\n",
    "* programming of the model itself and sweet post-processing for 3D printing\n",
    "* mechatronics - connecting more complicated mechanical systems with electronics, sensors, control\n",
    "\n",
    "There are a number of freely available tutorials, videos and guides for openSCAD itself. For the construction of simpler constructions in STEMFIE-X, only elementary knowledge is sufficient, the vast majority of more complicated activities are implemented in libraries.\n"
   ]
  },
  {
   "cell_type": "markdown",
   "metadata": {},
   "source": [
    "## <font color='Chocolate'> Environment </font>\n",
    "\n",
    "The program environment consists of 3 basic parts - a source code editor, a console, where programs write outputs and error messages, and a graphic browser of programmed components. The browser is activated with the F5 key, the final rendering is started with the F6 key. A detailed description of the program control is on the [wiki page of the project](https://en.wikibooks.org/wiki/OpenSCAD_User_Manual#The_OpenSCAD_User_Manual)."
   ]
  },
  {
   "cell_type": "markdown",
   "metadata": {
    "tags": []
   },
   "source": [
    "<!-- from IPython.display import Image\n",
    "Image(filename='./img/openscad.png', width=800) -->\n",
    "<img src=\"./img/openscad.png\" width=\"800\">"
   ]
  },
  {
   "cell_type": "markdown",
   "metadata": {},
   "source": [
    "## <font color='Chocolate'> Documentation </font>\n",
    "\n",
    "The program documentation includes a detailed [reference manual](https://en.wikibooks.org/wiki/OpenSCAD_User_Manual#The_OpenSCAD_Language_Reference) of the programming language, along with numerous examples. For a quick overview of commands and basic language constructions, it is possible to call up the online [cheat-sheet](https://en.wikibooks.org/wiki/OpenSCAD_User_Manual#The_OpenSCAD_Language_Reference) from the program menu."
   ]
  },
  {
   "cell_type": "markdown",
   "metadata": {
    "tags": []
   },
   "source": [
    "<!-- Image(filename='./img/openscad_cheatsheet.png', width=800) -->\n",
    "<img src=\"./img/openscad_cheatsheet.png\" width=\"800\">\n",
    "\n",
    "\n",
    "## <font color='Chocolate'> Links and Resources </font>\n",
    "\n",
    "### <font color='purple'> Documentation, pdf, books ... </font>\n",
    "\n",
    "* [OpenSCAD User Manual](https://files.openscad.org/documentation/manual/OpenSCAD_User_Manual.pdf)\n",
    "* [The OpenSCAD Language](https://files.openscad.org/documentation/manual/The_OpenSCAD_Language.pdf)\n",
    "\n",
    "### <font color='purple'> Tutorials, examples ... </font>\n",
    "\n",
    "* [edutechwiki](https://edutechwiki.unige.ch/en/OpenScad_beginners_tutorial)\n",
    "* [i.materialise.com](https://i.materialise.com/blog/en/openscad-tutorial/)\n",
    "\n",
    "### <font color='purple'> Videos and video courses </font>\n",
    "\n",
    "* [Z-TECH (CZ)](https://youtu.be/7562pU6gDyo?si=OLkcPoUs3CeuhKYD)\n",
    "* [Open Scad Tutorial (EN)](https://youtu.be/e0QFL2JlsZE?si=zQWKle1cXBo865pr)\n"
   ]
  },
  {
   "cell_type": "markdown",
   "metadata": {},
   "source": [
    "<img src=\"./img/banner_02.png\" width=\"800\">"
   ]
  }
 ],
 "metadata": {
  "kernelspec": {
   "display_name": "Python 3 (ipykernel)",
   "language": "python",
   "name": "python3"
  },
  "language_info": {
   "codemirror_mode": {
    "name": "ipython",
    "version": 3
   },
   "file_extension": ".py",
   "mimetype": "text/x-python",
   "name": "python",
   "nbconvert_exporter": "python",
   "pygments_lexer": "ipython3",
   "version": "3.8.10"
  }
 },
 "nbformat": 4,
 "nbformat_minor": 4
}
