{
 "cells": [
  {
   "cell_type": "markdown",
   "metadata": {},
   "source": [
    "# <font color='teal'> <b> STEMFIE-X  common.scad</b></font>"
   ]
  },
  {
   "cell_type": "markdown",
   "metadata": {
    "tags": []
   },
   "source": [
    "<!-- from IPython.display import Image\n",
    "Image(filename='./img/banner_02.png', width=1200) -->\n",
    "\n",
    "<img src=\"./img/banner_02.png\" width=\"800\">"
   ]
  },
  {
   "cell_type": "markdown",
   "metadata": {},
   "source": [
    "The *common* library contains modules for simplified manipulation (shifts, rotations, mirroring...) with components. Modules have the function of operators that are applied to subsequent statements or blocks.\n",
    "\n",
    "## <font color='navy'> <b> Translate  T() &  Translate with copy TK() </b></font>\n",
    "\n",
    "Move an object and move a copy of an object.\n",
    "\n",
    "### <font color='teal'> <b> Parameters </b></font>\n",
    "\n",
    "```C\n",
    "BU_T(x=0, y=0, z=0) ... ;   // translate object in BU units \n",
    "BU_Tx(x) ... ;\n",
    "BU_Ty(y) ... ;\n",
    "BU_Tz(z) ... ;\n",
    "\n",
    "BU_TK(x=0, y=0, z=0) ... ;   // translate object copy in BU units \n",
    "BU_TKx(x) ... ;\n",
    "BU_TKy(y) ... ;\n",
    "BU_TKz(z) ... ;\n",
    "\n",
    "T(x=0, y=0, z=0) ... ;       // translate object in system units \n",
    "Tx(x) ... ;\n",
    "Ty(y) ... ;\n",
    "Tz(z) ... ;\n",
    "\n",
    "TK(x=0, y=0, z=0) ... ;       // translate object copy in system units \n",
    "TKx(x) ... ;\n",
    "TKy(y) ... ;\n",
    "TKz(z) ... ;\n",
    "```\n",
    "\n",
    "### <font color='purple'> <b> Examples </b></font>\n",
    "\n",
    "```C\n",
    "BU_TKy(2) brace(5, h = 0.25, holes = true);\n",
    "```"
   ]
  },
  {
   "cell_type": "markdown",
   "metadata": {
    "tags": []
   },
   "source": [
    "<!-- from IPython.display import Image\n",
    "Image(filename='./img/img_0133.png', width=400) -->\n",
    "\n",
    "\n",
    "<img src=\"./img/img_0133.png\" width=\"400\">"
   ]
  },
  {
   "cell_type": "markdown",
   "metadata": {
    "tags": []
   },
   "source": [
    "<br>\n",
    "\n",
    "## <font color='navy'> <b> Rotate R() </b></font>\n",
    "\n",
    "Object rotation. Angles entered for object rotation are in degrees.\n",
    "    \n",
    "```C   \n",
    "R(x=0, y=0, z=0) ... ;      // rotation of the object around the specified axis\n",
    "Rx(x=90) ... ;\n",
    "Ry(y=90) ... ;\n",
    "Rz(z=90) ... ;\n",
    "```\n",
    "\n",
    "## <font color='purple'> <b> Examples </b></font>\n",
    "\n",
    "```C\n",
    "#brace(5, h = 0.5, holes = true);\n",
    "Rz(135) brace(5, h = 0.5, holes = true);\n",
    "```"
   ]
  },
  {
   "cell_type": "markdown",
   "metadata": {
    "tags": []
   },
   "source": [
    "<!-- Image(filename='./img/img_0134.png', width=400) -->\n",
    "\n",
    "<img src=\"./img/img_0134.png\" width=\"400\">"
   ]
  },
  {
   "cell_type": "markdown",
   "metadata": {},
   "source": [
    "<br>\n",
    "\n",
    "## <font color='navy'> <b> Mirroring M() & Mirroring with a copy MK() </b></font>\n",
    "\n",
    "Mirroring (moving) objects according to axes and creating new objects according to mirroring.\n",
    "    \n",
    "```C   \n",
    "M(x=0, y=0, z=0) ... ;   // mirrors (moves) the object according to the axis\n",
    "Mx() ... ;\n",
    "My() ... ;\n",
    "Mz()\n",
    "\n",
    "MK(x=0, y=0, z=0) ... ;  // creates a new mirrored object to the original one\n",
    "MKx() ... ;\n",
    "MKy() ... ;\n",
    "MKz() ... ;\n",
    "```\n",
    "\n",
    "### <font color='purple'> <b> Examples </b></font>\n",
    "\n",
    "```C\n",
    "MKz() BU_Tz(1) brace(5, h = 0.5, holes = true);\n",
    "```"
   ]
  },
  {
   "cell_type": "markdown",
   "metadata": {
    "tags": []
   },
   "source": [
    "<!-- Image(filename='./img/img_0135.png', width=400) -->\n",
    "\n",
    "<img src=\"./img/img_0135.png\" width=\"400\">\n"
   ]
  },
  {
   "cell_type": "markdown",
   "metadata": {},
   "source": [
    "<br>\n",
    "\n",
    "## <font color='navy'> <b> Logical operationsD(), U(), I() </b></font>\n",
    "\n",
    "Abbreviated forms of logical operations.\n",
    "    \n",
    "```C   \n",
    "D()    // diffrence\n",
    "U()    // union\n",
    "I()    // intersection\n",
    "```\n",
    "\n",
    "### <font color='purple'> <b> Examples </b></font>\n",
    "\n",
    "ToDo"
   ]
  },
  {
   "cell_type": "markdown",
   "metadata": {},
   "source": [
    "<br>\n",
    "\n",
    "## <font color='navy'> <b> Cyclic operations rotN(), forN(),  </b></font>\n",
    "\n",
    "Abbreviated forms for cyclic operations.\n",
    "    \n",
    "```C   \n",
    "rotN(r=10, N=4, offs=0, M=undef)\n",
    "forN(r=10, N=4, offs=0, M=undef),  rotN(r, N, offs, M)\n",
    "forX(dx = 10, N=4) \n",
    "forY(dx = 10, N=4) \n",
    "forZ(dx = 10, N=4) \n",
    "forXY(dx = 10, N=4, dy = 10, M=4)\n",
    "```\n",
    "\n",
    "### <font color='purple'> <b> Examples </b></font>\n",
    "\n",
    "```C\n",
    "rotN() brace(5, h = 0.5, holes = true);\n",
    "```"
   ]
  },
  {
   "cell_type": "markdown",
   "metadata": {
    "tags": []
   },
   "source": [
    "<img src=\"./img/img_0136.png\" width=\"400\">\n",
    "\n",
    "<br>\n",
    "\n",
    "```C\n",
    "forXY() hole();   // cycle with default parameters\n",
    "```\n",
    "\n",
    "<img src=\"./img/img_0137.png\" width=\"400\">\n",
    "\n",
    "<img src=\"./img/banner_02.png\" width=\"800\">"
   ]
  }
 ],
 "metadata": {
  "kernelspec": {
   "display_name": "Python 3 (ipykernel)",
   "language": "python",
   "name": "python3"
  },
  "language_info": {
   "codemirror_mode": {
    "name": "ipython",
    "version": 3
   },
   "file_extension": ".py",
   "mimetype": "text/x-python",
   "name": "python",
   "nbconvert_exporter": "python",
   "pygments_lexer": "ipython3",
   "version": "3.8.10"
  }
 },
 "nbformat": 4,
 "nbformat_minor": 4
}
