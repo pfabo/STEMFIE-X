{
 "cells": [
  {
   "cell_type": "markdown",
   "metadata": {
    "tags": []
   },
   "source": [
    "<!-- <script>\n",
    "  function code_toggle() {\n",
    "    if (code_shown){\n",
    "      $('div.input').hide('500');\n",
    "      $('#toggleButton').val('Show Code')\n",
    "    } else {\n",
    "      $('div.input').show('500');\n",
    "      $('#toggleButton').val('Hide Code')\n",
    "    }\n",
    "    code_shown = !code_shown\n",
    "  }\n",
    "\n",
    "  $( document ).ready(function(){\n",
    "    code_shown=false;\n",
    "    $('div.input').hide()\n",
    "  });\n",
    "</script>\n",
    "<form action=\"javascript:code_toggle()\">\n",
    "  <input type=\"submit\" id=\"toggleButton\" value=\"Show Code\">\n",
    "</form> -->"
   ]
  },
  {
   "cell_type": "markdown",
   "metadata": {},
   "source": [
    "# <font color='teal'> <b> STEMFIE-X  common.scad</b></font>"
   ]
  },
  {
   "cell_type": "markdown",
   "metadata": {
    "tags": []
   },
   "source": [
    "<!-- from IPython.display import Image\n",
    "Image(filename='./img/banner_02.png', width=1200) -->\n",
    "\n",
    "<img src=\"./img/banner_02.png\" width=\"800\">"
   ]
  },
  {
   "cell_type": "markdown",
   "metadata": {},
   "source": [
    "Knižnica *common* obsahuje moduly pre zjednodušenú manipuláciu (posuny, rotácie, zrkadlenie ...) s komponentami. Moduly majú funkciu operátorov, ktoré sa uplatňujú na nasledujúce prikazy alebo bloky.\n",
    "\n",
    "## <font color='navy'> <b> Translate  T() &  Translate with copy TK() </b></font>\n",
    "\n",
    "Posun objektu a posun kópie objektu.\n",
    "\n",
    "### <font color='teal'> <b> Parametre </b></font>\n",
    "\n",
    "```C\n",
    "BU_T(x=0, y=0, z=0) ... ;   // posun objektu v jednotkách BU\n",
    "BU_Tx(x) ... ;\n",
    "BU_Ty(y) ... ;\n",
    "BU_Tz(z) ... ;\n",
    "\n",
    "BU_TK(x=0, y=0, z=0) ... ;   // posun kopie objektu v jednotkách BU\n",
    "BU_TKx(x) ... ;\n",
    "BU_TKy(y) ... ;\n",
    "BU_TKz(z) ... ;\n",
    "\n",
    "T(x=0, y=0, z=0) ... ;       // posun objektu v jednotkách súradnicovej sústavy\n",
    "Tx(x) ... ;\n",
    "Ty(y) ... ;\n",
    "Tz(z) ... ;\n",
    "\n",
    "TK(x=0, y=0, z=0) ... ;       // posun kopie objektu v jednotkách súradnicovej sústavy\n",
    "TKx(x) ... ;\n",
    "TKy(y) ... ;\n",
    "TKz(z) ... ;\n",
    "```\n",
    "\n",
    "### <font color='purple'> <b> Príklady </b></font>\n",
    "\n",
    "```C\n",
    "BU_TKy(2) brace(5, h = 0.25, holes = true);\n",
    "```"
   ]
  },
  {
   "cell_type": "markdown",
   "metadata": {
    "tags": []
   },
   "source": [
    "<!-- from IPython.display import Image\n",
    "Image(filename='./img/img_0133.png', width=400) -->\n",
    "\n",
    "\n",
    "<img src=\"./img/img_0133.png\" width=\"400\">"
   ]
  },
  {
   "cell_type": "markdown",
   "metadata": {
    "tags": []
   },
   "source": [
    "<br>\n",
    "\n",
    "## <font color='navy'> <b> Rotate R() </b></font>\n",
    "\n",
    "Rot8cia objektu. Uhly zadávané pre rotáciu objektov sú v stupňoch.\n",
    "    \n",
    "```C   \n",
    "R(x=0, y=0, z=0) ... ;      // posun objektu v jednotkách súradnicovej sústavy\n",
    "Rx(x=90) ... ;\n",
    "Ry(y=90) ... ;\n",
    "Rz(z=90) ... ;\n",
    "```\n",
    "\n",
    "## <font color='purple'> <b> Príklady </b></font>\n",
    "\n",
    "```C\n",
    "#brace(5, h = 0.5, holes = true);\n",
    "Rz(135) brace(5, h = 0.5, holes = true);\n",
    "```"
   ]
  },
  {
   "cell_type": "markdown",
   "metadata": {
    "tags": []
   },
   "source": [
    "<!-- Image(filename='./img/img_0134.png', width=400) -->\n",
    "\n",
    "<img src=\"./img/img_0134.png\" width=\"400\">"
   ]
  },
  {
   "cell_type": "markdown",
   "metadata": {},
   "source": [
    "<br>\n",
    "\n",
    "## <font color='navy'> <b> Zrkadlenie M() & Zrkadlenie s kópiou MK() </b></font>\n",
    "\n",
    "Zrkadlenie (presuny) objektov podľa osí a vytvorenie nových objektov podľa zrkadlenia.\n",
    "    \n",
    "```C   \n",
    "M(x=0, y=0, z=0) ... ;   // zrkadlí (presunie )objekt podľa osi \n",
    "Mx() ... ;\n",
    "My() ... ;\n",
    "Mz()\n",
    "\n",
    "MK(x=0, y=0, z=0) ... ;  // vyvorí nový zrkadlený objekt k povodnemu\n",
    "MKx() ... ;\n",
    "MKy() ... ;\n",
    "MKz() ... ;\n",
    "```\n",
    "\n",
    "### <font color='purple'> <b> Príklady </b></font>\n",
    "\n",
    "```C\n",
    "MKz() BU_Tz(1) brace(5, h = 0.5, holes = true);\n",
    "```"
   ]
  },
  {
   "cell_type": "markdown",
   "metadata": {
    "tags": []
   },
   "source": [
    "<!-- Image(filename='./img/img_0135.png', width=400) -->\n",
    "\n",
    "<img src=\"./img/img_0135.png\" width=\"400\">\n"
   ]
  },
  {
   "cell_type": "markdown",
   "metadata": {},
   "source": [
    "<br>\n",
    "\n",
    "## <font color='navy'> <b> Logické operácie D(), U(), I() </b></font>\n",
    "\n",
    "Skrátené tvary logických operácií.\n",
    "    \n",
    "```C   \n",
    "D()    // diffrence\n",
    "U()    // union\n",
    "I()    // intersection\n",
    "```\n",
    "\n",
    "### <font color='purple'> <b> Príklady </b></font>\n",
    "\n",
    "ToDo"
   ]
  },
  {
   "cell_type": "markdown",
   "metadata": {},
   "source": [
    "<br>\n",
    "\n",
    "## <font color='navy'> <b> Cyklické operácie rotN(), forN(),  </b></font>\n",
    "\n",
    "Skrátené tvary pre cyklické operácie.\n",
    "    \n",
    "```C   \n",
    "rotN(r=10, N=4, offs=0, M=undef)\n",
    "forN(r=10, N=4, offs=0, M=undef),  rotN(r, N, offs, M)\n",
    "forX(dx = 10, N=4) \n",
    "forY(dx = 10, N=4) \n",
    "forZ(dx = 10, N=4) \n",
    "forXY(dx = 10, N=4, dy = 10, M=4)\n",
    "```\n",
    "\n",
    "### <font color='purple'> <b> Príklady </b></font>\n",
    "\n",
    "```C\n",
    "rotN() brace(5, h = 0.5, holes = true);\n",
    "```"
   ]
  },
  {
   "cell_type": "markdown",
   "metadata": {
    "tags": []
   },
   "source": [
    "<!-- Image(filename='./img/img_0136.png', width=400) -->\n",
    "\n",
    "<img src=\"./img/img_0136.png\" width=\"400\">\n",
    "\n",
    "<br>\n",
    "\n",
    "```C\n",
    "forXY() hole();   // cyklus s default parametrami\n",
    "```\n",
    "\n",
    "<!-- Image(filename='./img/img_0137.png', width=400) -->\n",
    "\n",
    "<img src=\"./img/img_0137.png\" width=\"400\">\n",
    "\n",
    "<img src=\"./img/banner_02.png\" width=\"800\">"
   ]
  }
 ],
 "metadata": {
  "kernelspec": {
   "display_name": "Python 3 (ipykernel)",
   "language": "python",
   "name": "python3"
  },
  "language_info": {
   "codemirror_mode": {
    "name": "ipython",
    "version": 3
   },
   "file_extension": ".py",
   "mimetype": "text/x-python",
   "name": "python",
   "nbconvert_exporter": "python",
   "pygments_lexer": "ipython3",
   "version": "3.8.10"
  }
 },
 "nbformat": 4,
 "nbformat_minor": 4
}
