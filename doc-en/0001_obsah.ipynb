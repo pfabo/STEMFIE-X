{
 "cells": [
  {
   "cell_type": "markdown",
   "id": "5bece043-0247-4e87-a5d5-2c93eb4c247b",
   "metadata": {},
   "source": [
    "# <font color='teal'> <b> STEMFIE-X </b></font>\n",
    "\n",
    "<img src=\"./img/banner_02.png\" width=\"800\">\n",
    "\n",
    "## An open source platform for creative people"
   ]
  },
  {
   "cell_type": "markdown",
   "id": "1a068ebf-9d9b-4ab9-89ca-11fd09b4f6f3",
   "metadata": {
    "tags": []
   },
   "source": [
    "<img src=\"./img/img_demo.png\" width=\"600\">"
   ]
  },
  {
   "cell_type": "markdown",
   "id": "c7a6aa4c-abac-4877-9825-cd0468d5985f",
   "metadata": {},
   "source": [
    "###  <font color='Chocolate'> Construction kit <b> STEMFIE-X </b> </font>\n",
    "\n",
    "- [Properties of STEMFIE-X](./0050_stemfie_x.ipynb) \n",
    "- [Programming environment openSCAD](./0052_openscad.ipynb) \n",
    " \n",
    "    \n",
    "### <font color='Chocolate'> Basic libraries  </font>\n",
    " \n",
    "- [Beams](./0100_lib_beams.ipynb)\n",
    "- [Braces](./0105_lib_braces.ipynb)\n",
    "- [Mounting holes](./0110_lib_holes.ipynb)\n",
    "- [Gears](./0115_lib_gears.ipynb)\n",
    "- [Transformations of objects](./0120_lib_transform.ipynb)\n",
    "\n",
    "### <font color='Chocolate'> Mechanics - Structural elements </font>\n",
    "\n",
    "- [Fixed connections](./0200_spoje_skrutky.ipynb)\n",
    "- [Movable joints](./0205_pohyblive_spoje.ipynb)\n",
    "- Rotary joints and shafts\n",
    "\n",
    "### <font color='Chocolate'> Designing - Basic constructions and mechanisms </font>\n",
    "\n",
    "- [Simple constructions](./0300_jednoduche_konstrukcie.ipynb)\n",
    "- Motors and transmissions\n",
    "- Parts of machines and mechanisms\n",
    "\n",
    "### <font color='Chocolate'> Electronics - Supporting elements</font>\n",
    "\n",
    "- [Universal PCB Holders](./0406_pcb_holders.ipynb)\n",
    "- [Holder for STM-NUCLEO64 kit board](./0402_stm_nucleo64.ipynb)\n",
    "- [Interface for STM NUCLEO 32 kit](./0404_stm_nucleo32.ipynb)\n",
    "- [Interface for display module TM1638](./0407_modul_1638.ipynb)"
   ]
  },
  {
   "cell_type": "markdown",
   "id": "37b9763a-a6be-498f-bf68-99b7dd07e51c",
   "metadata": {},
   "source": [
    "### <font color='Chocolate'> 3D printing </font>\n",
    "\n",
    "- generating materials for printing\n",
    "- setting the print parameters\n",
    "- modification and finalization of components\n",
    "\n",
    "\n",
    "### <font color='Chocolate'> Sample Projects </font>\n",
    "\n",
    "- [Simple gearbox](./0302_project_simple_gearbox.ipynb)\n",
    "- [Building kit with gears](./0304_project_gear_toys.ipynb)\n"
   ]
  },
  {
   "cell_type": "markdown",
   "id": "dd04bc44-12f5-4101-b98a-e53751b76165",
   "metadata": {
    "tags": []
   },
   "source": [
    "<!-- Image(filename='./img/banner_02.png', width=800) -->\n",
    "<img src=\"./img/banner_02.png\" width=\"800\">"
   ]
  }
 ],
 "metadata": {
  "kernelspec": {
   "display_name": "Python 3 (ipykernel)",
   "language": "python",
   "name": "python3"
  },
  "language_info": {
   "codemirror_mode": {
    "name": "ipython",
    "version": 3
   },
   "file_extension": ".py",
   "mimetype": "text/x-python",
   "name": "python",
   "nbconvert_exporter": "python",
   "pygments_lexer": "ipython3",
   "version": "3.8.10"
  }
 },
 "nbformat": 4,
 "nbformat_minor": 5
}
