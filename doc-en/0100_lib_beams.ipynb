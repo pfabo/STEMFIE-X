{
 "cells": [
  {
   "cell_type": "markdown",
   "metadata": {},
   "source": [
    "# <font color='teal'> <b> STEMFIE-X  beams.scad</b></font>"
   ]
  },
  {
   "cell_type": "markdown",
   "metadata": {
    "tags": []
   },
   "source": [
    "<!-- from IPython.display import Image\n",
    "Image(filename='./img/banner_02.png', width=800) -->\n",
    "<img src=\"./img/banner_02.png\" width=\"800\">"
   ]
  },
  {
   "cell_type": "markdown",
   "metadata": {
    "tags": []
   },
   "source": [
    "The library is designed for creating elementary bodies and beams with mounting holes. Beam dimensions are entered in BU units. The source code of the library is in the file **./lib/beams.scad**. Beam parameters are defined by ***BU*** and ***HoleRadius*** constants in **./lib/constants.scad** file.\n",
    "\n",
    "<br>\n",
    "\n",
    "## <font color='navy'> <b> BU_cube() </b></font>\n",
    "\n",
    "Creates a cube or prism in the first octant. The dimensions of the object are given in BU units. If the *center* parameter has values of *true*, the object is centered on the center of the coordinate system.\n",
    "\n",
    "```C\n",
    "BU_cube(size = [x,y,z], center=true/false);\n",
    "BU_cube(size = x, center=true/false);\n",
    "BU_cube(x, y, z, center=true/false);\n",
    "```\n",
    "    \n",
    "### <font color='teal'> <b> Parameters </b></font>\n",
    "\n",
    "    size = [x,y,z]  - creates a prism with the specified dimensions\n",
    "    size = x        - scalar value, creates a cube with an edge the size of the specified value\n",
    "    x, y, x         - sscalar values will create a prism with the specified dimensions\n",
    "\n",
    "    center = false - (default) creates a cube or prism in the first octant,\n",
    "                       one corner is at coordinate (0,0,0)\n",
    "    center = true - the cube is centered in the center of the coordinate system (0,0,0)\n"
   ]
  },
  {
   "cell_type": "markdown",
   "metadata": {},
   "source": [
    "### <font color='purple'> <b> Examples </b></font>\n",
    "\n",
    "```C\n",
    "BU_cube(2, center=true);\n",
    "BU_cube(size = 2, center=true);\n",
    "```\n",
    "\n",
    "<!-- from IPython.display import Image\n",
    "Image(filename='./img/img_0100.png', width=400) -->\n",
    "\n",
    "<img src=\"./img/img_0100.png\" width=\"400\">"
   ]
  },
  {
   "cell_type": "markdown",
   "metadata": {},
   "source": [
    "```C\n",
    "BU_cube();\n",
    "BU_cube(center=false);\n",
    "BU_cube(1, center=false);\n",
    "BU_cube([1,1,1], center=false);\n",
    "BU_cube(1,1,1);\n",
    "```"
   ]
  },
  {
   "cell_type": "markdown",
   "metadata": {
    "tags": []
   },
   "source": [
    "<!-- Image(filename='./img/img_0101.png', width=400) -->\n",
    "<img src=\"./img/img_0101.png\" width=\"400\">"
   ]
  },
  {
   "cell_type": "markdown",
   "metadata": {},
   "source": [
    "```C\n",
    "BU_cube([3, 2, 1/4]);\n",
    "BU_cube(3, 2, 1/4, center=false);\n",
    "```"
   ]
  },
  {
   "cell_type": "markdown",
   "metadata": {
    "tags": []
   },
   "source": [
    "<!-- Image(filename='./img/img_0102.png', width=400) -->\n",
    "<img src=\"./img/img_0102.png\" width=\"400\">"
   ]
  },
  {
   "cell_type": "markdown",
   "metadata": {},
   "source": [
    "<br>\n",
    "<br>\n",
    "\n",
    "## <font color='navy'> <b> beam_block() </b></font>\n",
    "\n",
    "Creates a beam with the specified dimensions in the BU with holes in the selected directions.\n",
    "\n",
    "```C\n",
    "beam_block(size = [x,y,z], holes=[true/false, true/false, true/false], center=true/false);\n",
    "beam_block(size = x, holes=[true/false, true/false, true/false], center=true/false);\n",
    "```"
   ]
  },
  {
   "cell_type": "markdown",
   "metadata": {},
   "source": [
    "### <font color='teal'> <b> Parameters </b></font>\n",
    "\n",
    "    size = [x,y,z] - creates a beam with the specified dimensions\n",
    "    size = x - scalar value, creates a linear beam of the specified length\n",
    "\n",
    "    holes=[true/false, true/false, true/false]\n",
    "                     - holes in x,y,z directions\n",
    "\n",
    "    center = false - (default) creates a beam in the first octant,\n",
    "                      one hole is at coordinate (0,0,0)\n",
    "    center = true - the beam is centered in the center of the coordinate system (0,0,0)\n",
    "    \n",
    "### <font color='purple'> <b> Examples </b></font>\n",
    "\n",
    "```C\n",
    "beam_block(5);\n",
    "beam_block([5,1,1]);\n",
    "beam_block(size = [5,1,1], holes=[true, true, true], center=true);\n",
    "```"
   ]
  },
  {
   "cell_type": "markdown",
   "metadata": {
    "tags": []
   },
   "source": [
    "<!-- Image(filename='./img/img_0103.png', width=400) -->\n",
    "\n",
    "<img src=\"./img/img_0103.png\" width=\"400\">"
   ]
  },
  {
   "cell_type": "markdown",
   "metadata": {},
   "source": [
    "```C\n",
    "beam_block(size = [5, 3, 1/4], holes=[false, false, true], center=false);\n",
    "```"
   ]
  },
  {
   "cell_type": "markdown",
   "metadata": {
    "tags": []
   },
   "source": [
    "<!-- Image(filename='./img/img_0104.png', width=400) -->\n",
    "<img src=\"./img/img_0104.png\" width=\"400\">"
   ]
  },
  {
   "cell_type": "markdown",
   "metadata": {},
   "source": [
    "```C\n",
    "beam_block(size = [3, 1, 2], holes=[true, true, true], center=false);\n",
    "```"
   ]
  },
  {
   "cell_type": "markdown",
   "metadata": {
    "tags": []
   },
   "source": [
    "<!-- Image(filename='./img/img_0105.png', width=400) -->\n",
    "<img src=\"./img/img_0105.png\" width=\"400\">"
   ]
  },
  {
   "cell_type": "markdown",
   "metadata": {},
   "source": [
    "<br>\n",
    "<br>\n",
    "\n",
    "## <font color='navy'> <b> beam_cross() </b></font>\n",
    "\n",
    "The module connects two standard beams at right angles. According to the specified parameters, the module can be used to create beams in the shape of V, L, T and X.\n",
    "\n",
    "```C\n",
    "beam_cross(size = [x,y], h=1, holes=[true/false, true/false, true/false]);\n",
    "beam_cross(size = [x,y,z], h=1, holes=[true/false, true/false, true/false]);\n",
    "beam_cross(size = [x,y,z,w], h=1, holes=[true/false, true/false, true/false]);\n",
    "```\n",
    "    \n",
    "### <font color='teal'> <b> Parameters </b></font>\n",
    "\n",
    "     size = [x,y] - creates a V or L-shaped beam\n",
    "     size = [x,y,z] - creates a T-shaped beam\n",
    "     size = [x,y,z,w]- creates an X-shaped beam\n",
    "    \n",
    "     h=1 - beam height, default value 1 BU\n",
    "    \n",
    "     holes=[true/false, true/false, true/false]\n",
    "                     - holes in x,y,z directions\n",
    "    \n",
    "### <font color='purple'> <b> Examples </b></font>\n",
    "\n",
    "```C\n",
    "beam_cross([3,3]);\n",
    "beam_cross([3,3], holes=[true, true, true]);\n",
    "beam_cross(size=[3,3], holes=[true, true, true]);\n",
    "```"
   ]
  },
  {
   "cell_type": "markdown",
   "metadata": {},
   "source": [
    "<!-- Image(filename='./img/img_0106.png', width=400) -->\n",
    "\n",
    "<img src=\"./img/img_0106.png\" width=\"400\">"
   ]
  },
  {
   "cell_type": "markdown",
   "metadata": {},
   "source": [
    "```C\n",
    "beam_cross([5,3], holes=[false, false, true]);\n",
    "```"
   ]
  },
  {
   "cell_type": "markdown",
   "metadata": {},
   "source": [
    "<!-- Image(filename='./img/img_0107.png', width=400) -->\n",
    "\n",
    "<img src=\"./img/img_0107.png\" width=\"400\">"
   ]
  },
  {
   "cell_type": "markdown",
   "metadata": {},
   "source": [
    "```C\n",
    "beam_cross([2,3,3], h=1/2, holes=[false, false, true]);\n",
    "```"
   ]
  },
  {
   "cell_type": "markdown",
   "metadata": {
    "tags": []
   },
   "source": [
    "<!-- Image(filename='./img/img_0108.png', width=400) -->\n",
    "\n",
    "<img src=\"./img/img_0108.png\" width=\"400\">"
   ]
  },
  {
   "cell_type": "markdown",
   "metadata": {},
   "source": [
    "```C\n",
    "beam_cross([2,3,3,1], holes=[false, true, true]);\n",
    "```"
   ]
  },
  {
   "cell_type": "markdown",
   "metadata": {
    "tags": []
   },
   "source": [
    "<!-- Image(filename='./img/img_0109.png', width=400) -->\n",
    "\n",
    "<img src=\"./img/img_0109.png\" width=\"400\">\n",
    "\n",
    "<img src=\"./img/banner_02.png\" width=\"800\">"
   ]
  }
 ],
 "metadata": {
  "kernelspec": {
   "display_name": "Python 3 (ipykernel)",
   "language": "python",
   "name": "python3"
  },
  "language_info": {
   "codemirror_mode": {
    "name": "ipython",
    "version": 3
   },
   "file_extension": ".py",
   "mimetype": "text/x-python",
   "name": "python",
   "nbconvert_exporter": "python",
   "pygments_lexer": "ipython3",
   "version": "3.8.10"
  }
 },
 "nbformat": 4,
 "nbformat_minor": 4
}
