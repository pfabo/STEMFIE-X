{
 "cells": [
  {
   "cell_type": "markdown",
   "id": "c517c831-31c0-4a8b-b80c-502238557c25",
   "metadata": {},
   "source": [
    "# <font color='teal'> <b> STEMFIE-X Display module TM1638</b></font>\n",
    "\n",
    "<img src=\"./img/banner_02.png\" width=\"800\">"
   ]
  },
  {
   "cell_type": "markdown",
   "id": "b8d24f91-647e-48bb-b39d-9abb1a435bfe",
   "metadata": {},
   "source": [
    "### <font color='teal'> <b> Description </b></font>\n",
    "\n",
    "A generally available 7-segment display module with buttons can serve as a simple control panel for various devices. The module can be controlled via the SPI serial interface.\n",
    "\n",
    "<img src=\"./img/img_0352_tm1638_display.jpg\" width=\"400\">\n",
    "\n",
    "Since the mounting holes of the module are not in the BU grid, we have to make an auxiliary bracket to fix the module. \n",
    "\n",
    "```C\n",
    "module pin(){\n",
    "    D(){\n",
    "       cylinder(r2=2.54, r1=3.9, h=10);\n",
    "       cylinder(r=1.25, h=10);\n",
    "        }\n",
    "}\n",
    "\n",
    "module Display_TM1638(){\n",
    "    D(){\n",
    "        BU_cube([8,5,1/4]);\n",
    "        U(){\n",
    "            BU_cube([6, 3, 1/4+0.01]);\n",
    "            hole_list([ [ 3.5,-1],  [ 3.5, 0], [ 3.5, 1] ]);\n",
    "            hole_list([ [-3.5,-1],  [-3.5, 0], [-3.5, 1] ]);\n",
    "            hole_list([ [-2.5, 2],  [-1.5, 2],  [-0.5, 2], [ 0.5, 2], [ 1.5, 2], [2.5, 2] ]);\n",
    "            hole_list([ [-2.5, -2],  [-1.5,-2],  [-0.5,-2], [ 0.5,-2], [ 1.5,-2], [2.5, -2] ]);\n",
    "        }\n",
    "    }\n",
    "\n",
    "    Tx( 33.98 ) Ty( 21.0) pin();\n",
    "    Tx( -33.98 ) Ty( -21.0) pin();\n",
    "    Tx( -33.98 ) Ty( 21.0) pin();\n",
    "    Tx( 33.98 ) Ty( -21.0) pin();\n",
    "}\n",
    "```\n",
    "\n",
    "<img src=\"./img/img_0350_modul_tm1638.png\" width=\"500\">\n",
    "\n",
    "\n",
    "### <font color='purple'> <b> Implementation </b></font>\n",
    "\n",
    "We fasten the module to the holder using self-tapping screws. The picture shows the module connected to the STM32L432KC MCU, Nucleo32 kit, on the mounting base acrylic board.\n",
    "\n",
    "<img src=\"./img/img_0351_nucleo32_modul_tm1638.jpg\" width=\"500\">\n",
    "\n",
    "\n",
    "\n",
    "### <font color='teal'> <b> Software </b></font>\n",
    "\n",
    "To support the module, programming equipment (API) is available for operating the module with an STM32 processor for the SPI interface in half as well as full duplex mode..\n",
    "\n",
    "* /src/0407_display_tm1638/tm1638.h - header file with declaration of API functions \n",
    "* /src/0407_display_tm1638/tm1638.c - API source code\n",
    "* /src/app.c - simple demo\n",
    "\n",
    "<img src=\"./img/banner_02.png\" width=\"800\">"
   ]
  }
 ],
 "metadata": {
  "kernelspec": {
   "display_name": "Python 3 (ipykernel)",
   "language": "python",
   "name": "python3"
  },
  "language_info": {
   "codemirror_mode": {
    "name": "ipython",
    "version": 3
   },
   "file_extension": ".py",
   "mimetype": "text/x-python",
   "name": "python",
   "nbconvert_exporter": "python",
   "pygments_lexer": "ipython3",
   "version": "3.8.10"
  }
 },
 "nbformat": 4,
 "nbformat_minor": 5
}
