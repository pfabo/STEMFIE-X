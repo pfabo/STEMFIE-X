{
 "cells": [
  {
   "cell_type": "markdown",
   "id": "0bdb6ce3-87e3-4f9e-88a0-b8217047143a",
   "metadata": {
    "tags": []
   },
   "source": [
    "<!-- <script>\n",
    "  function code_toggle() {\n",
    "    if (code_shown){\n",
    "      $('div.input').hide('500');\n",
    "      $('#toggleButton').val('Show Code')\n",
    "    } else {\n",
    "      $('div.input').show('500');\n",
    "      $('#toggleButton').val('Hide Code')\n",
    "    }\n",
    "    code_shown = !code_shown\n",
    "  }\n",
    "\n",
    "  $( document ).ready(function(){\n",
    "    code_shown=false;\n",
    "    $('div.input').hide()\n",
    "  });\n",
    "</script>\n",
    "<form action=\"javascript:code_toggle()\">\n",
    "  <input type=\"submit\" id=\"toggleButton\" value=\"Show Code\">\n",
    "</form> -->"
   ]
  },
  {
   "cell_type": "markdown",
   "id": "06a9e7d2-3ef7-4195-85ca-b044cf0b2ac9",
   "metadata": {},
   "source": [
    "# <font color='teal'> <b> STEMFIE-X Pevné spoje </i></b></font>\n",
    "\n",
    "<img src=\"./img/banner_02.png\" width=\"800\">"
   ]
  },
  {
   "cell_type": "markdown",
   "id": "8fbc51f3-34b2-49b9-8243-bcb5b8e4b80a",
   "metadata": {},
   "source": [
    "# <span style='font-family:sans-serif'> <font color='red'> <i> Pevné rozoberateľné spoje </i> </font>\n",
    "    \n",
    "## <font color='SteelBlue'> <i><b>Kovové skrutky</i></b> </font>\n",
    "    \n",
    "Stavebnica STEMFIE-X je navrhnutá pre použitie skrutiek M4, po malých úpravách je možné využiť aj skrutku M3.5 a M3. Kovové skrutky M4 ocelové, nerezové a mosadzné sú bežne dostupné v rôznych dĺžkach v ochodoch so železiarskym tovarom. Skrutky M3.5 sú súčasťou kovových stavebníc Merkur, Meccano a podobných. "
   ]
  },
  {
   "cell_type": "markdown",
   "id": "c7dac8f8-ad44-46b3-9bf1-20c6c3276755",
   "metadata": {
    "tags": []
   },
   "source": [
    "<!-- Image(filename='./img/skrutka_m4.png', width=150) -->\n",
    "\n",
    "<img src=\"./img/skrutka_m4.png\" width=\"150\">"
   ]
  },
  {
   "cell_type": "markdown",
   "id": "e53c2aa9-81f4-4473-ae31-6c575f4aec01",
   "metadata": {},
   "source": [
    "Na obrázku je použitie skrutiek M4, M3.5 a M3 na spojenie dvoch dielov. Ak plánujete používať na spájanie dielov výhradne skrutky **M3**, upravte v súbore **/lib/constants.scad** hodnotu *HoleRadius = 2;* na hodnotu *HoleRadius = 1.5*."
   ]
  },
  {
   "cell_type": "markdown",
   "id": "3b2aca92-28a6-46f6-8bf5-abcb1257fc4d",
   "metadata": {
    "tags": []
   },
   "source": [
    "<!-- Image(filename='./img/skrutky.jpg', width=400) -->\n",
    "\n",
    "<img src=\"./img/skrutky.jpeg\" width=\"300\">"
   ]
  },
  {
   "cell_type": "markdown",
   "id": "4a741254-ce7d-4ea1-85af-18a1644a6d10",
   "metadata": {},
   "source": [
    "Štandardne skrutkové spoje využívajú pre upevnenie dielov matice, pri nákupe preferujte matice so zníženou polovičnou výškou, ušetríte miesto aj hmotnosť. \n",
    "\n",
    "### <font color='olive'> <i><b> Tipy a triky</i></b> </font>\n",
    "\n",
    "* Pretože 3D tlačiarne tlačia otvory s trochu menším priemerom, niektoré typy skrutiek si pri zaskrutkovaní vyrežú v plaste vlastný závit a spoj drží dobre aj bez použitia matice (v PLA). Ak chcete túto vlastnosť cielene využiť, experimentujte s hodnotou premennej *HoleRadius* - zadefinujte si ju v súbore s vašim projektom, najlepšie pre konkrétny komponent, vhodná hodnota je napríklad 1.9\n",
    "* Vyskúšajte rôzne typy skrutiek - o roznych dĺžkach - 10, 15, 20mm, nap. s 10mm skrutkami presne spojíte dva bloky o celkovej hrúbke 1BU.\n",
    "* Otvory tlačené vodorovne už majú tvar trocha zdeformovaný (z princípu tlače), pri týchto otvoroch zvyčajne treba niekedy upravovať priemer napr. vrtákom alebo výstružníkom.\n",
    "\n",
    "## <font color='SteelBlue'> <i><b>Plastové skrutky</i></b> </font>\n",
    "\n",
    "Plastové skrutky M4 z nylonu sú dostupné v obchodoch s elektrotechnickým tovarom, slúžia zvyčajne na elektricky nevodivú montáž medzi časťami zariadení. Hlavným dôvodom ich použitia je menšia hmotnosť výsledného zariadenia."
   ]
  },
  {
   "cell_type": "markdown",
   "id": "ea87a542-b956-4f7c-a161-0a19764dce9d",
   "metadata": {
    "tags": []
   },
   "source": [
    "<!-- Image(filename='./img/skrutky_m4_plastove.png', width=150) -->\n",
    "\n",
    "<img src=\"./img/skrutky_m4_plastove.png\" width=\"150\">"
   ]
  },
  {
   "cell_type": "markdown",
   "id": "6129456e-0b0c-4310-b316-9e50e80312e7",
   "metadata": {},
   "source": [
    "## <font color='SteelBlue'> <i><b>Distančné stĺpiky</i></b> </font>\n",
    "\n",
    "Pre spájanie komponentov, ktoré majú byť od seba oddialené je vhodné použiť hotové distančné stĺpiky, kovové alebo plastové, používané v elektronike pre montáž plošných spojov. Vyrábajú sa polyamidové alebo kovové, s rôznym závitom alebo bez, rôznych dĺžok a prevedenia."
   ]
  },
  {
   "cell_type": "markdown",
   "id": "8a8874cd-7429-4e63-96d4-f9be19e3607e",
   "metadata": {
    "tags": []
   },
   "source": [
    "<!-- Image(filename='./img/stlpik_01.jpg', width=150) -->\n",
    "\n",
    "<img src=\"./img/stlpik_01.jpeg\"  width=150>"
   ]
  },
  {
   "cell_type": "markdown",
   "id": "72eeb2e3-41ee-4352-87c6-2eda5e49bc3d",
   "metadata": {
    "tags": []
   },
   "source": [
    "<!-- Image(filename='./img/stlpik_02.jpg', width=150) -->\n",
    "\n",
    "<img src=\"./img/stlpik_02.jpeg\"  width=150>"
   ]
  },
  {
   "cell_type": "markdown",
   "id": "8a1a105d-7de4-4312-94d4-9f0198102ef6",
   "metadata": {},
   "source": [
    "<!-- Image(filename='./img/stlpik_polyamid.jpg', width=400) -->\n",
    "\n",
    "<img src=\"./img/stlpik_polyamid.jpeg\" width=300>\n"
   ]
  },
  {
   "cell_type": "markdown",
   "id": "db9056fc-4547-43bf-bf00-a9299bdc1941",
   "metadata": {},
   "source": [
    "## <font color='SteelBlue'> <i><b>Samorezné skrutky</i></b> </font>\n",
    "\n",
    "Používame ich na pevné upevnenie komponentov, napríklad plošných spojov, do upravených stĺpikov so zmenšenými otvormi.Otvor voľte podľa priemeru drieku skrutky, nie šróbovnice, tak aby sa krutka zarezala do plastu. "
   ]
  },
  {
   "cell_type": "markdown",
   "id": "acfcc75d-89d2-4dbd-8705-96c5330ad10d",
   "metadata": {
    "tags": []
   },
   "source": [
    "<!-- Image(filename='./img/skrutka_samorezna.png', width=150) -->\n",
    "\n",
    "\n",
    "<img src=\"./img/skrutka_samorezna.png\" width=\"150\">\n",
    "\n",
    "\n",
    "<img src=\"./img/stlpik_pcb.jpeg\" width=\"400\">\n",
    "\n",
    "\n",
    "<img src=\"./img/banner_02.png\" width=\"800\">"
   ]
  },
  {
   "cell_type": "markdown",
   "id": "6fd62a89-c826-4ea0-b5d0-f5db67a54f3b",
   "metadata": {
    "tags": []
   },
   "source": [
    "# <span style='font-family:sans-serif'> <font color='red'> <i> Pevné nerozoberateľné spoje </i> </font>\n",
    "    \n",
    "## <font color='SteelBlue'> <i><b>Kolíky</i></b> </font>\n",
    "    \n",
    "Kolíky o priemere 4mm získame narezaním z plastových alebo lisovaných papierových tyčiniek pre lízatká, bežne dostupné v obchodoch pre kuchárske a cukrárenské potreby. Plastové a papierové kolíky sa dajú rezať ostrým nožom.\n",
    "    \n",
    "<img src=\"./img/spoje_palicka.png\" width=\"200\">\n",
    "    \n",
    "<img src=\"./img/img_0322.jpeg\" width=\"200\">\n",
    "    \n",
    "<img src=\"./img/img_0323.jpeg\" width=\"200\">\n",
    "    "
   ]
  },
  {
   "cell_type": "markdown",
   "id": "85eae62e-3e78-446f-8bef-a3ce1a98b374",
   "metadata": {},
   "source": [
    "Alternatívne je možné použiť aj drevené drevenné kolíky, ktoré získame z drevených alebo bambusových špajdlí vhodného priemeru.\n",
    "    \n",
    "## <font color='SteelBlue'> <i><b>Lepené spoje</i></b> </font>\n",
    "\n",
    "Pre konštrukcie, ktoré neplánujeme rozoberať je možné použiť aj lepenie dielov, hlavne v spojení s kolíkovými spojmi. Pre trvalé spoje je možné použiť epoxidové alebo polyuretanové lepidlá.  Pre spoje, ktoré by bolo potrebné časom rozobrať sú vhodné rozpustné dispezné lepidlá na vodnej báze (Herkules a pod.).\n",
    "\n",
    "<img src=\"./img/herkules.jpeg\" width=\"200\">\n",
    "\n",
    "<img src=\"./img/banner_02.png\" width=\"800\">"
   ]
  }
 ],
 "metadata": {
  "kernelspec": {
   "display_name": "Python 3 (ipykernel)",
   "language": "python",
   "name": "python3"
  },
  "language_info": {
   "codemirror_mode": {
    "name": "ipython",
    "version": 3
   },
   "file_extension": ".py",
   "mimetype": "text/x-python",
   "name": "python",
   "nbconvert_exporter": "python",
   "pygments_lexer": "ipython3",
   "version": "3.8.10"
  }
 },
 "nbformat": 4,
 "nbformat_minor": 5
}
