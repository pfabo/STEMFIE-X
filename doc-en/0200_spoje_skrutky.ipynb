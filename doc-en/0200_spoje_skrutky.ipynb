{
 "cells": [
  {
   "cell_type": "markdown",
   "id": "06a9e7d2-3ef7-4195-85ca-b044cf0b2ac9",
   "metadata": {},
   "source": [
    "# <font color='teal'> <b> STEMFIE-X Pevné spoje </i></b></font>\n",
    "\n",
    "<img src=\"./img/banner_02.png\" width=\"800\">"
   ]
  },
  {
   "cell_type": "markdown",
   "id": "8fbc51f3-34b2-49b9-8243-bcb5b8e4b80a",
   "metadata": {},
   "source": [
    "# <span style='font-family:sans-serif'> <font color='red'> <i> Fixed detachable joints </i> </font>\n",
    "    \n",
    "## <font color='SteelBlue'> <i><b> Metal screws </i></b> </font>\n",
    "    \n",
    "The STEMFIE-X kit is designed for the use of M4 screws, after minor modifications it is also possible to use M3.5 and M3 screws. M4 steel, stainless steel and brass metal screws are commonly available in various lengths in hardware stores. M3.5 screws are part of the metal building blocks Merkur, Meccano and similar."
   ]
  },
  {
   "cell_type": "markdown",
   "id": "c7dac8f8-ad44-46b3-9bf1-20c6c3276755",
   "metadata": {
    "tags": []
   },
   "source": [
    "<!-- Image(filename='./img/skrutka_m4.png', width=150) -->\n",
    "\n",
    "<img src=\"./img/skrutka_m4.png\" width=\"150\">"
   ]
  },
  {
   "cell_type": "markdown",
   "id": "e53c2aa9-81f4-4473-ae31-6c575f4aec01",
   "metadata": {},
   "source": [
    "The picture shows the use of M4, M3.5 and M3 screws to connect two parts. If you plan to use only **M3** screws to connect the parts, change *HoleRadius = 2;* to *HoleRadius = 1.5* in **/lib/constants.scad**."
   ]
  },
  {
   "cell_type": "markdown",
   "id": "3b2aca92-28a6-46f6-8bf5-abcb1257fc4d",
   "metadata": {
    "tags": []
   },
   "source": [
    "<!-- Image(filename='./img/skrutky.jpg', width=400) -->\n",
    "\n",
    "<img src=\"./img/skrutky.jpeg\" width=\"300\">"
   ]
  },
  {
   "cell_type": "markdown",
   "id": "4a741254-ce7d-4ea1-85af-18a1644a6d10",
   "metadata": {},
   "source": [
    "As standard, screw joints use nuts to fasten parts, when purchasing, prefer nuts with a reduced half height, you will save space and weight.\n",
    "\n",
    "### <font color='olive'> <i><b> Tips and tricks </i></b> </font>\n",
    "\n",
    "* Because 3D printers print holes with a slightly smaller diameter, some types of screws cut their own thread in the plastic when screwing in, and the joint holds well even without using a nut (in PLA). If you want to use this feature in a targeted way, experiment with the value of the variable *HoleRadius* - define it in the file with your project, preferably for a specific component, a suitable value is, for example, 1.9\n",
    "\n",
    "* Try different types of screws - of different lengths - 10, 15, 20mm, e.g. with 10mm screws, you can precisely connect two blocks with a total thickness of 1BU.\n",
    "\n",
    "* Holes printed horizontally already have a slightly deformed shape (due to the principle of printing), with these holes it is usually sometimes necessary to adjust the diameter, e.g. drill or reamer.\n",
    "\n",
    "## <font color='SteelBlue'> <i><b> Plastic screws </i></b> </font>\n",
    "\n",
    "M4 plastic screws made of nylon are available in electrical goods stores, they are usually used for electrically non-conductive assembly between parts of equipment. The main reason for their use is the smaller weight of the resulting device."
   ]
  },
  {
   "cell_type": "markdown",
   "id": "ea87a542-b956-4f7c-a161-0a19764dce9d",
   "metadata": {
    "tags": []
   },
   "source": [
    "<!-- Image(filename='./img/skrutky_m4_plastove.png', width=150) -->\n",
    "\n",
    "<img src=\"./img/skrutky_m4_plastove.png\" width=\"150\">"
   ]
  },
  {
   "cell_type": "markdown",
   "id": "6129456e-0b0c-4310-b316-9e50e80312e7",
   "metadata": {},
   "source": [
    "## <font color='SteelBlue'> <i><b> Screwed spacer sleeve  </i></b> </font>\n",
    "\n",
    "For connecting components that are to be separated from each other, it is advisable to use ready-made screwed spacer sleeve, metal or plastic, used in electronics for mounting printed circuit boards. They are made of polyamide or metal, with different threads or without, different lengths and designs."
   ]
  },
  {
   "cell_type": "markdown",
   "id": "8a8874cd-7429-4e63-96d4-f9be19e3607e",
   "metadata": {
    "tags": []
   },
   "source": [
    "<!-- Image(filename='./img/stlpik_01.jpg', width=150) -->\n",
    "\n",
    "<img src=\"./img/stlpik_01.jpeg\"  width=150>"
   ]
  },
  {
   "cell_type": "markdown",
   "id": "72eeb2e3-41ee-4352-87c6-2eda5e49bc3d",
   "metadata": {
    "tags": []
   },
   "source": [
    "<!-- Image(filename='./img/stlpik_02.jpg', width=150) -->\n",
    "\n",
    "<img src=\"./img/stlpik_02.jpeg\"  width=150>"
   ]
  },
  {
   "cell_type": "markdown",
   "id": "8a1a105d-7de4-4312-94d4-9f0198102ef6",
   "metadata": {},
   "source": [
    "<!-- Image(filename='./img/stlpik_polyamid.jpg', width=400) -->\n",
    "\n",
    "<img src=\"./img/stlpik_polyamid.jpeg\" width=300>\n"
   ]
  },
  {
   "cell_type": "markdown",
   "id": "db9056fc-4547-43bf-bf00-a9299bdc1941",
   "metadata": {},
   "source": [
    "## <font color='SteelBlue'> <i><b> Self-tapping screws </i></b> </font>\n",
    "\n",
    "We use them to securely fasten components, for example printed circuit boards, to modified columns with reduced holes. Choose the hole according to the diameter of the screw shaft, not the screw driver, so that the screw cuts into the plastic."
   ]
  },
  {
   "cell_type": "markdown",
   "id": "acfcc75d-89d2-4dbd-8705-96c5330ad10d",
   "metadata": {
    "tags": []
   },
   "source": [
    "<!-- Image(filename='./img/skrutka_samorezna.png', width=150) -->\n",
    "\n",
    "\n",
    "<img src=\"./img/skrutka_samorezna.png\" width=\"150\">\n",
    "\n",
    "\n",
    "<img src=\"./img/stlpik_pcb.jpeg\" width=\"400\">\n",
    "\n",
    "\n",
    "<img src=\"./img/banner_02.png\" width=\"800\">"
   ]
  },
  {
   "cell_type": "markdown",
   "id": "6fd62a89-c826-4ea0-b5d0-f5db67a54f3b",
   "metadata": {
    "tags": []
   },
   "source": [
    "# <span style='font-family:sans-serif'> <font color='red'> <i> Fixed non-detachable joints </i> </font>\n",
    "    \n",
    "## <font color='SteelBlue'> <i><b> Pins </i></b> </font>\n",
    "    \n",
    "Pins with a diameter of 4 mm are obtained by cutting plastic or pressed paper sticks for lollipops, commonly available in stores for cooking and confectionery supplies. Plastic and paper pins can be cut with a sharp knife.\n",
    "    \n",
    "<img src=\"./img/spoje_palicka.png\" width=\"200\">\n",
    "    \n",
    "<img src=\"./img/img_0322.jpeg\" width=\"200\">\n",
    "    \n",
    "<img src=\"./img/img_0323.jpeg\" width=\"200\">\n",
    "    "
   ]
  },
  {
   "cell_type": "markdown",
   "id": "85eae62e-3e78-446f-8bef-a3ce1a98b374",
   "metadata": {},
   "source": [
    "Alternatively, it is also possible to use wooden wooden pegs obtained from wooden or bamboo skewers of a suitable diameter.\n",
    "    \n",
    "## <font color='SteelBlue'> <i><b>Glued joints</i></b> </font>\n",
    "\n",
    "For structures that we do not plan to disassemble, it is also possible to use the gluing of parts, especially in connection with pin joints. Epoxy or polyurethane adhesives can be used for permanent joints. Dissolvable water-based adhesives (Herkules, etc.) are suitable for joints that would need to be disassembled over time.\n",
    "\n",
    "<img src=\"./img/herkules.jpeg\" width=\"200\">\n",
    "\n",
    "<img src=\"./img/banner_02.png\" width=\"800\">"
   ]
  }
 ],
 "metadata": {
  "kernelspec": {
   "display_name": "Python 3 (ipykernel)",
   "language": "python",
   "name": "python3"
  },
  "language_info": {
   "codemirror_mode": {
    "name": "ipython",
    "version": 3
   },
   "file_extension": ".py",
   "mimetype": "text/x-python",
   "name": "python",
   "nbconvert_exporter": "python",
   "pygments_lexer": "ipython3",
   "version": "3.8.10"
  }
 },
 "nbformat": 4,
 "nbformat_minor": 5
}
