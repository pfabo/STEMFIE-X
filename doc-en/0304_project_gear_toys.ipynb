{
 "cells": [
  {
   "cell_type": "markdown",
   "id": "2f2785b0-5048-4539-a450-4664eec76941",
   "metadata": {},
   "source": [
    "# <font color='teal'> <b> STEMFIE-X  Stavebnica s ozubenými kolesami</b></font>\n",
    "\n",
    "<img src=\"./img/banner_02.png\" width=\"800\">\n",
    "\n",
    "Projekt stavebnice s ozubenými kolesami bol inšpirovaný populárnou detskou stavebnicou, dostupnou v množstve variánt pod všeobecným označením *gear toys*. Stavebnica umožňuje jednoduché experimentovanie s ozubenými kolesami a vytváranie jednoduchých mechanizmov. Princíp tejto stavebnice vieme jednoducho reimplementovať v konštrukčnom systéme *STEMFIE-X*.\n",
    "\n",
    "<img src=\"./img/img_0334.jpeg\" width=\"300\">"
   ]
  },
  {
   "cell_type": "markdown",
   "id": "89f289f5-8685-462f-8202-da995188c873",
   "metadata": {},
   "source": [
    "### <font color='teal'> <b> Vlastnosti </b></font>\n",
    "\n",
    "Stavebnica využíva ako základovú dosku polyakrylátovú platňu s rastrom 1BU, na ktorú sú upevnené držiaky osí ozubených kolies, ozubené kolesá a prípadne motor na pohyb zostavených mechanizmov. \n",
    "\n",
    "<img src=\"./img/img_0330.jpeg\" width=\"500\">"
   ]
  },
  {
   "cell_type": "markdown",
   "id": "3e802123-71da-4d43-94c4-ba90efb87286",
   "metadata": {},
   "source": [
    "### <font color='teal'> <b> Návrh </b></font>\n",
    "\n",
    "<img src=\"./img/img_0331.jpeg\" width=\"500\">\n",
    "\n",
    "<img src=\"./img/img_0332.jpeg\" width=\"500\">"
   ]
  },
  {
   "cell_type": "markdown",
   "id": "79d5c9a4-2dcf-454e-b209-c87d04f896b2",
   "metadata": {},
   "source": [
    "### <font color='teal'> <b> Implementácia </b></font>\n",
    "\n",
    "<img src=\"./img/gearbox_video.png\" width=\"500\">\n",
    "\n",
    "* [Video ](https://fst-owncloud.tnuni.sk/index.php/s/QMQt8nTEjBYIpHT)\n",
    "\n",
    "<img src=\"./img/banner_02.png\" width=\"800\">"
   ]
  }
 ],
 "metadata": {
  "kernelspec": {
   "display_name": "Python 3 (ipykernel)",
   "language": "python",
   "name": "python3"
  },
  "language_info": {
   "codemirror_mode": {
    "name": "ipython",
    "version": 3
   },
   "file_extension": ".py",
   "mimetype": "text/x-python",
   "name": "python",
   "nbconvert_exporter": "python",
   "pygments_lexer": "ipython3",
   "version": "3.8.10"
  }
 },
 "nbformat": 4,
 "nbformat_minor": 5
}
