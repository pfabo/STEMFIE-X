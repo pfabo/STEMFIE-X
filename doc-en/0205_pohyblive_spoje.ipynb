{
 "cells": [
  {
   "cell_type": "markdown",
   "id": "b0a6a8a9-38c3-45f7-8f80-9a2ee4156a10",
   "metadata": {
    "jupyter": {
     "source_hidden": true
    },
    "tags": []
   },
   "source": [
    "<!-- <script>\n",
    "  function code_toggle() {\n",
    "    if (code_shown){\n",
    "      $('div.input').hide('500');\n",
    "      $('#toggleButton').val('Show Code')\n",
    "    } else {\n",
    "      $('div.input').show('500');\n",
    "      $('#toggleButton').val('Hide Code')\n",
    "    }\n",
    "    code_shown = !code_shown\n",
    "  }\n",
    "\n",
    "  $( document ).ready(function(){\n",
    "    code_shown=false;\n",
    "    $('div.input').hide()\n",
    "  });\n",
    "</script>\n",
    "<form action=\"javascript:code_toggle()\">\n",
    "  <input type=\"submit\" id=\"toggleButton\" value=\"Show Code\">\n",
    "</form> -->"
   ]
  },
  {
   "cell_type": "markdown",
   "id": "32f63949-2d07-4e30-aa88-5e0de654eb0b",
   "metadata": {},
   "source": [
    "# <font color='teal'> <b> STEMFIE-X  Pohyblivé spoje</b></font>\n",
    "\n",
    "<img src=\"./img/banner_02.png\" width=\"800\">"
   ]
  },
  {
   "cell_type": "markdown",
   "id": "bf7b63a2-2a38-435f-b5ec-fc0a7b16e854",
   "metadata": {},
   "source": [
    "## <font color='navy'> <b> Jednoduchý kĺbový spoj (Simple hinge junction)</b></font>\n",
    "\n",
    "Kĺbové pohyblivé spoje získame najjednoduchšie pospájaním štandardných spojok rôznej hrúbky, nemusíme vytvárať žiadne špeciálne komponenty. Spojky pospájame kolíkmi, v prípade trvalej aplikácie ich môžeme aj zlepiť dokopy.\n",
    "\n",
    "```C\n",
    "angle = -30;\n",
    "\n",
    "Rx() brace(5, 1);\n",
    "\n",
    "color(\"red\") Ry(angle) BU_Ty(1/2+1/4) BU_Tx(-4) Rx() brace(5, 1/2);\n",
    "color(\"red\") Ry(angle)  BU_Ty(-1/2-1/4) BU_Tx(-4) Rx() brace(5, 1/2);\n",
    "             Ry(angle)  BU_Tx(-3) Rx() brace(3, 1); \n",
    "color(\"green\") BU_Ty(1.25) Rx() cylinder(r=2, h=25);\n",
    "```\n",
    "\n",
    "<img src=\"./img/img_0340.png\" width=\"400\">"
   ]
  },
  {
   "cell_type": "markdown",
   "id": "88ebba0f-e2a3-4075-b6c1-12e477244f42",
   "metadata": {},
   "source": [
    "## <font color='navy'> <b> Modifikácia kĺbového spoja (Modification of the hinge junction)</b></font>\n",
    "\n",
    "Pre pohyblivé spoje plochách dielov je vhodné štandardné spojky upraviť pomocou štrbiny, do ktorej pohyblivý diel zasunieme a fixujeme. Pri návrhu kĺbov musíme uvažovať s možnosťou pohyblivých spojov v spoločnej alebo aj v kolmých rovinách. Príklady kĺbov s jedným a dvoma fixačnými otvormi sú v nasledujúcom kóde\n",
    "\n",
    "```C\n",
    "module hinge_1(){\n",
    "    D()\n",
    "    {\n",
    "        Rx() brace(2, 1, holes=false);\n",
    "        U(){\n",
    "            Rx() hole(2);\n",
    "            BU_Tx(1) hole(2);\n",
    "            BU_Tx(1.5) BU_cube([2, 2, 1/4]);\n",
    "        }\n",
    "    }\n",
    "}\n",
    "\n",
    "\n",
    "module hinge_2(){\n",
    "    D(){\n",
    "        Rx() brace(3, 1, holes=false);\n",
    "        U(){\n",
    "            Rx() hole(2);\n",
    "            BU_Tx(1) hole(2);\n",
    "            BU_Tx(2) hole(2);\n",
    "            BU_Tx(1.5) BU_cube([2,2,1/4]);\n",
    "        }\n",
    "    }\n",
    "}\n",
    "```\n",
    "\n",
    "<img src=\"./img/img_0342.png\" width=\"400\">"
   ]
  },
  {
   "cell_type": "markdown",
   "id": "45b25b79-3d91-48be-b77f-6fb87ea02984",
   "metadata": {},
   "source": [
    "### <font color='purple'> <b> Príklady </b></font>\n",
    "\n",
    "Príklad použitia kĺbového spoja\n",
    "\n",
    "```C\n",
    "angle = -30;\n",
    "Ry(angle) BU_Tx( 2) beam_block([3,3,1/4], [false, false, true], center=true);\n",
    "BU_Tx(-2) beam_block([3,3,1/4], [false, false, true], center=true);\n",
    "\n",
    "// klbove spojky\n",
    "Ry(angle) color(\"red\")   hinge_1();\n",
    "color(\"green\") BU_Ty( 1) Rz(180) hinge_1();\n",
    "color(\"green\") BU_Ty(-1) Rz(180) hinge_1();\n",
    "\n",
    "// hriadel\n",
    "color(\"blue\") BU_Ty(1.5 + 1/4) Rx() cylinder(r=2, h=35);\n",
    "```\n",
    "\n",
    "<img src=\"./img/img_0341.png\" width=\"400\">"
   ]
  },
  {
   "cell_type": "markdown",
   "id": "df376cb9-87c2-46b5-88fb-142deda6ebbe",
   "metadata": {},
   "source": [
    "### <font color='purple'> <b> Tlač a montáž </b></font>\n",
    "\n",
    "Pri tlačení dielov kĺbov, hlavne pre namáhanejšie diely, musíme uvažovať s anizotropiou tlačeného materiálu (nemá vo všetkých smeroch rovnakú pevnosť), je preto vhodné diely tlačiť tak, že os otáčania je kolmá na rovinu tlače. Aby sme sa vyhli použitiu podpier, je vhodné kĺb pre kolmé pohyblivé diely rozdeliť na dve polovice, tak ako je to na predchádzajúcom obrázku vľavo.\n",
    "\n",
    "<img src=\"./img/img_0346.png\" width=\"500\">\n",
    "\n",
    "<img src=\"./img/img_0344.jpeg\" width=\"500\">\n",
    "\n",
    "Pre spojenie dielov boli použité kolíky z tvrdeného papiera (paličky na lízatká). Diel kĺba vpravo dole je zložený z dvoch častí.\n",
    "\n",
    "<img src=\"./img/banner_02.png\" width=\"800\">"
   ]
  }
 ],
 "metadata": {
  "kernelspec": {
   "display_name": "Python 3 (ipykernel)",
   "language": "python",
   "name": "python3"
  },
  "language_info": {
   "codemirror_mode": {
    "name": "ipython",
    "version": 3
   },
   "file_extension": ".py",
   "mimetype": "text/x-python",
   "name": "python",
   "nbconvert_exporter": "python",
   "pygments_lexer": "ipython3",
   "version": "3.8.10"
  }
 },
 "nbformat": 4,
 "nbformat_minor": 5
}
