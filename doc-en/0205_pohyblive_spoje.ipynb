{
 "cells": [
  {
   "cell_type": "markdown",
   "id": "32f63949-2d07-4e30-aa88-5e0de654eb0b",
   "metadata": {},
   "source": [
    "# <font color='teal'> <b> STEMFIE-X Movable joints - hinge junction </b></font>\n",
    "\n",
    "<img src=\"./img/banner_02.png\" width=\"800\">"
   ]
  },
  {
   "cell_type": "markdown",
   "id": "bf7b63a2-2a38-435f-b5ec-fc0a7b16e854",
   "metadata": {},
   "source": [
    "## <font color='navy'> <b> Simple hinge junction </b></font>\n",
    "\n",
    "Movable hinge junction are obtained most easily by connecting standard jbraces of different thickness, we do not need to create any special components. We connect the couplings with pins, in the case of permanent application we can also glue braces together.\n",
    "\n",
    "```C\n",
    "angle = -30;\n",
    "\n",
    "Rx() brace(5, 1);\n",
    "\n",
    "color(\"red\") Ry(angle) BU_Ty(1/2+1/4) BU_Tx(-4) Rx() brace(5, 1/2);\n",
    "color(\"red\") Ry(angle)  BU_Ty(-1/2-1/4) BU_Tx(-4) Rx() brace(5, 1/2);\n",
    "             Ry(angle)  BU_Tx(-3) Rx() brace(3, 1); \n",
    "color(\"green\") BU_Ty(1.25) Rx() cylinder(r=2, h=25);\n",
    "```\n",
    "\n",
    "<img src=\"./img/img_0340.png\" width=\"400\">"
   ]
  },
  {
   "cell_type": "markdown",
   "id": "88ebba0f-e2a3-4075-b6c1-12e477244f42",
   "metadata": {},
   "source": [
    "## <font color='navy'> <b> Modification of the hinge junction </b></font>\n",
    "\n",
    "For movable hinge junction of flat parts, it is advisable to modify standard couplings using a slot into which the movable part is inserted and fixed.\n",
    "\n",
    "When designing hinge junction, we must consider the possibility of movable joints in common or perpendicular planes of flat parts. Examples of hinge junction with one and two fixing holes are in the following code\n",
    "\n",
    "```C\n",
    "module hinge_1(){\n",
    "    D()\n",
    "    {\n",
    "        Rx() brace(2, 1, holes=false);\n",
    "        U(){\n",
    "            Rx() hole(2);\n",
    "            BU_Tx(1) hole(2);\n",
    "            BU_Tx(1.5) BU_cube([2, 2, 1/4]);\n",
    "        }\n",
    "    }\n",
    "}\n",
    "\n",
    "\n",
    "module hinge_2(){\n",
    "    D(){\n",
    "        Rx() brace(3, 1, holes=false);\n",
    "        U(){\n",
    "            Rx() hole(2);\n",
    "            BU_Tx(1) hole(2);\n",
    "            BU_Tx(2) hole(2);\n",
    "            BU_Tx(1.5) BU_cube([2,2,1/4]);\n",
    "        }\n",
    "    }\n",
    "}\n",
    "```\n",
    "\n",
    "<img src=\"./img/img_0342.png\" width=\"400\">"
   ]
  },
  {
   "cell_type": "markdown",
   "id": "45b25b79-3d91-48be-b77f-6fb87ea02984",
   "metadata": {},
   "source": [
    "### <font color='purple'> <b> Examples </b></font>\n",
    "\n",
    "Example of using of the hinge junction\n",
    "\n",
    "```C\n",
    "angle = -30;\n",
    "Ry(angle) BU_Tx( 2) beam_block([3,3,1/4], [false, false, true], center=true);\n",
    "BU_Tx(-2) beam_block([3,3,1/4], [false, false, true], center=true);\n",
    "\n",
    "// klbove spojky\n",
    "Ry(angle) color(\"red\")   hinge_1();\n",
    "color(\"green\") BU_Ty( 1) Rz(180) hinge_1();\n",
    "color(\"green\") BU_Ty(-1) Rz(180) hinge_1();\n",
    "\n",
    "// hriadel\n",
    "color(\"blue\") BU_Ty(1.5 + 1/4) Rx() cylinder(r=2, h=35);\n",
    "```\n",
    "\n",
    "<img src=\"./img/img_0341.png\" width=\"400\">"
   ]
  },
  {
   "cell_type": "markdown",
   "id": "df376cb9-87c2-46b5-88fb-142deda6ebbe",
   "metadata": {},
   "source": [
    "### <font color='purple'> <b> Printing and assembly </b></font>\n",
    "\n",
    "When printing hinge junction, especially for more stressed parts, we have to consider the anisotropy of the printed material (it does not have the same strength in all directions), so it is advisable to print the parts so that the axis of rotation is perpendicular to the printing plane.\n",
    "\n",
    "In order to avoid the use of supports, it is convenient to divide the joint for vertical moving parts into two halves, as it is in the previous picture on the left.\n",
    "\n",
    "<img src=\"./img/img_0346.png\" width=\"500\">\n",
    "\n",
    "<img src=\"./img/img_0344.jpeg\" width=\"500\">\n",
    "\n",
    "Pins made of hardened paper (lollipop sticks) were used to connect the parts. The part of the joint at the bottom right is composed of two parts.\n",
    "\n",
    "<img src=\"./img/banner_02.png\" width=\"800\">"
   ]
  }
 ],
 "metadata": {
  "kernelspec": {
   "display_name": "Python 3 (ipykernel)",
   "language": "python",
   "name": "python3"
  },
  "language_info": {
   "codemirror_mode": {
    "name": "ipython",
    "version": 3
   },
   "file_extension": ".py",
   "mimetype": "text/x-python",
   "name": "python",
   "nbconvert_exporter": "python",
   "pygments_lexer": "ipython3",
   "version": "3.8.10"
  }
 },
 "nbformat": 4,
 "nbformat_minor": 5
}
