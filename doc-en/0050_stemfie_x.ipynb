{
 "cells": [
  {
   "cell_type": "markdown",
   "metadata": {},
   "source": [
    "# <font color='teal'> <b> STEMFIE and STEMFIE-X</b></font>\n",
    "\n",
    "<img src=\"./img/banner_02.png\" width=\"800\">\n",
    "\n",
    "[STEMFIE](https://www.stemfie.org/) is a construction kit for children, authored by [Paulo Kiefe](https://www.stemfie.org/about). The idea of the project is based on the design and 3D printing of universal components and connecting elements and the subsequent construction of own models.\n",
    "\n",
    "For the parametric design of kit components (beams, braces ...) of various shapes and sizes [Brendon Collecutt](https://github.com/Cantareus/Stemfie_OpenSCAD/blob/main/docs/stemfie.scad.md) created a parametric library for openSCAD program. Other graphic programs and design CAD systems such as FreeCAD, Blender, and Tinkercad can also be used to design and construct models.\n"
   ]
  },
  {
   "cell_type": "markdown",
   "metadata": {
    "tags": []
   },
   "source": [
    "<img src=\"./img/stemfie.png\" width=\"800\">"
   ]
  },
  {
   "cell_type": "markdown",
   "metadata": {},
   "source": [
    "## <font color='Chocolate'>  <b> STEMFIE-X </b> </font>\n",
    "\n",
    "The STEMFIE-X kit uses the basic principles of the STEMFIE project with modifications for use as a platform for creating more complex structures and models using mechanical and electronic elements - motors, servos, electronic circuits and control by microcontrollers. The building kit is primarily intended for polytechnic teaching at secondary schools and the first semesters of universities in the teaching of parametric modeling, CAD systems, constructions of machines and mechanisms."
   ]
  },
  {
   "cell_type": "markdown",
   "metadata": {
    "tags": []
   },
   "source": [
    "<!-- Image(filename='./img/img_0130.png', width=420) -->\n",
    "<img src=\"./img/img_0130.png\" width=\"400\">"
   ]
  },
  {
   "cell_type": "markdown",
   "metadata": {},
   "source": [
    "### <font color='Chocolate'> Basic goals and areas of use of the STEMFIE-X project  </font>\n",
    "\n",
    "The purpose of the construction kit development was to support polytechnic education for secondary schools, to support creative thinking, to acquire basic skills in the design and construction of own devices from sketch to physical realization using 3D printing.\n",
    "\n",
    "Areas of use:\n",
    "\n",
    "- an intermediate level in teaching between constructions from construction sites and independent construction in professional CAD systems, with direct physical output of 3D printing of self-constructed devices and systems, primarily intended for the age category of high school students\n",
    "- robotics, robotic parts and components, arms, manipulators, robotic chassis\n",
    "- models of machines and equipment\n",
    "- models and teaching aids for subjects focusing on the construction of machine parts\n",
    "- teaching and demonstration aids for physics, electronics, sets of experiments, sets for demonstrations of electric motors, kits for sample electric circuits\n",
    "- functional mechatronic and electromechanical units – for example plotter, irrigation system, CNC milling machine\n",
    "\n",
    "### <font color='Chocolate'> Features of the STEMFIE-X kit </font>\n",
    "\n",
    "* the basic length unit BU (Base Unit) was adjusted to **10mm** (originally 12.5mm in STEMFIE). This size allows the simultaneous use of metal elements from the construction companies Merkur, Meccano (and related) and simplifies sketches, for which it is possible to use ordinary square paper with a grid of 5 mm\n",
    "\n",
    "* the diameter of the mounting holes was adjusted to 4mm (originally 5mm). This modification allows the use of standard M4 metal and plastic screws (or M3.5 from Merkur) to connect parts, as well as shafts and rods of this diameter for the construction of moving parts\n",
    "\n",
    "* the original library for OpenSCAD contained in one [file](https://github.com/Cantareus/Stemfie_OpenSCAD/blob/main/docs/stemfie.scad.md) was divided into separate parts according to the component type (beams, braces, holes , transformations, common ...). Some parts of the original library have been modified, unlike the original, the surfaces of all components are flat and without recesses.\n",
    "\n",
    "* for creating gears, the [OpenSCAD Library for Gear Racks, Involute and Worm Gears](https://www.thingiverse.com/thing:1604369) by Joerg Janssen was included in the project without modification\n",
    "\n"
   ]
  },
  {
   "cell_type": "markdown",
   "metadata": {
    "tags": []
   },
   "source": [
    "<!-- from IPython.display import Image\n",
    "Image(filename='./img/kompatibilita.jpg', width=400) -->\n",
    "<img src=\"./img/img_0348_kompatibilita.jpeg\" width=\"400\">"
   ]
  },
  {
   "cell_type": "markdown",
   "metadata": {},
   "source": [
    "### <font color='Chocolate'> License </font>\n",
    "\n",
    "The open-source STEMFIE-X project uses the same license terms (CC) as the original STEMFIE project. The name of the modified version of STEMFIE-X was approved by the author of the STEMFIE project.\n",
    "\n",
    "### <font color='Chocolate'>Source codes, download </font>\n",
    "\n",
    "Documentation, libraries and tutorials for the STEMFIE-X kit are available on github\n",
    "\n",
    "[https://github.com/pfabo/STEMFIE-X](https://github.com/pfabo/STEMFIE-X)\n",
    "\n",
    "The documentation is in [jupyter](https://jupyter.org/) format, you can download and edit it freely, as well as all the source code, examples and sample projects. When publishing your derivations (on the web pages of schools, derivative projects, etc.), mention the web pages of the project [STEMFIE](https://www.stemfie.org/) and [STEMFIE-X](https://github. com/pfabo/STEMFIE-X).\n",
    "\n",
    "<img src=\"./img/banner_02.png\" width=\"800\">"
   ]
  }
 ],
 "metadata": {
  "kernelspec": {
   "display_name": "Python 3 (ipykernel)",
   "language": "python",
   "name": "python3"
  },
  "language_info": {
   "codemirror_mode": {
    "name": "ipython",
    "version": 3
   },
   "file_extension": ".py",
   "mimetype": "text/x-python",
   "name": "python",
   "nbconvert_exporter": "python",
   "pygments_lexer": "ipython3",
   "version": "3.8.10"
  }
 },
 "nbformat": 4,
 "nbformat_minor": 4
}
