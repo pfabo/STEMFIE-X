{
 "cells": [
  {
   "cell_type": "markdown",
   "id": "4375e149-4f9a-454c-8871-d3b79cbf820a",
   "metadata": {},
   "source": [
    "# <font color='teal'> <b> STEMFIE-X Interface for STM32 NUCLEO32 Kit</b></font>\n",
    "\n",
    "<img src=\"./img/banner_02.png\" width=\"600\">"
   ]
  },
  {
   "cell_type": "markdown",
   "id": "140081b2-ccea-4b1e-ad9d-d4e3571de2ca",
   "metadata": {},
   "source": [
    "Surface connection for use of the STM - NUCLEO32 kit in the STEMFIE-X kit. The PCB design of the module is in the Kicad program.\n",
    "\n",
    "### <font color='teal'> <b> Parameters </b></font>\n",
    "\n",
    "Nucleo32 terminals.\n",
    "\n",
    "<img src=\"./img/nucleo32_board.png\" width=\"600\">"
   ]
  },
  {
   "cell_type": "markdown",
   "id": "f2e56307-3bd9-4bc1-bc81-dce647c35aa9",
   "metadata": {},
   "source": [
    "### <font color='teal'> <b> PCB module design </b></font>\n",
    "\n",
    "<img src=\"./img/nucleo32_kicad.png\" width=\"600\">\n",
    "<img src=\"./img/nucleo32_3d.png\" width=\"600\">\n",
    "\n",
    "### <font color='teal'> <b> Implementation</b></font>\n",
    "\n",
    "The board connection of the module is fixed to the STEMFIE-X blocks using standard beams or braces, it is necessary to leave a free space of 1/4 BU under the board connection.\n",
    "\n",
    "<img src=\"./img/img_0353_nucleo32.jpg\" width=\"600\">\n",
    "\n",
    "<img src=\"./img/banner_02.png\" width=\"800\">"
   ]
  }
 ],
 "metadata": {
  "kernelspec": {
   "display_name": "Python 3 (ipykernel)",
   "language": "python",
   "name": "python3"
  },
  "language_info": {
   "codemirror_mode": {
    "name": "ipython",
    "version": 3
   },
   "file_extension": ".py",
   "mimetype": "text/x-python",
   "name": "python",
   "nbconvert_exporter": "python",
   "pygments_lexer": "ipython3",
   "version": "3.8.10"
  }
 },
 "nbformat": 4,
 "nbformat_minor": 5
}
