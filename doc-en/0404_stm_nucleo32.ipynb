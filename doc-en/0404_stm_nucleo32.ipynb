{
 "cells": [
  {
   "cell_type": "markdown",
   "id": "4375e149-4f9a-454c-8871-d3b79cbf820a",
   "metadata": {},
   "source": [
    "# <font color='teal'> <b> STEMFIE-X Interface pre STM32 NUCLEO32 Kit</b></font>\n",
    "\n",
    "<img src=\"./img/banner_02.png\" width=\"600\">"
   ]
  },
  {
   "cell_type": "markdown",
   "id": "140081b2-ccea-4b1e-ad9d-d4e3571de2ca",
   "metadata": {},
   "source": [
    "Plošný spoj pre použitie kitu STM - NUCLEO32 v stavebnici STEMFIE-X. Návrh plošného spoja modulu je v programe Kicad. \n",
    "\n",
    "### <font color='teal'> <b> Parametre </b></font>\n",
    "\n",
    "Zapojenie vývodov kitu NUCLEO32\n",
    "\n",
    "<img src=\"./img/nucleo32_board.png\" width=\"600\">"
   ]
  },
  {
   "cell_type": "markdown",
   "id": "f2e56307-3bd9-4bc1-bc81-dce647c35aa9",
   "metadata": {},
   "source": [
    "### <font color='teal'> <b> Návrh PCB modulu</b></font>\n",
    "\n",
    "Návrh modulu v programe KICAD\n",
    "\n",
    "<img src=\"./img/nucleo32_kicad.png\" width=\"600\">\n",
    "\n",
    "<img src=\"./img/nucleo32_3d.png\" width=\"600\">\n",
    "\n",
    "### <font color='teal'> <b> Implementácia</b></font>\n",
    "\n",
    "Plošný spoj modulu sa k blokom STEMFIE-X upevňuje pomocou štandardných nosníkov alebo spojok, pod plošným spojom je potrebné nechať voľný priestor o výške 1/4 BU.\n",
    "\n",
    "<img src=\"./img/img_0353_nucleo32.jpg\" width=\"600\">\n",
    "\n",
    "<img src=\"./img/banner_02.png\" width=\"800\">"
   ]
  }
 ],
 "metadata": {
  "kernelspec": {
   "display_name": "Python 3 (ipykernel)",
   "language": "python",
   "name": "python3"
  },
  "language_info": {
   "codemirror_mode": {
    "name": "ipython",
    "version": 3
   },
   "file_extension": ".py",
   "mimetype": "text/x-python",
   "name": "python",
   "nbconvert_exporter": "python",
   "pygments_lexer": "ipython3",
   "version": "3.8.10"
  }
 },
 "nbformat": 4,
 "nbformat_minor": 5
}
