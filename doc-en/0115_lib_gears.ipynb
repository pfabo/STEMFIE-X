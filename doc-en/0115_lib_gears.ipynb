{
 "cells": [
  {
   "cell_type": "markdown",
   "metadata": {
    "tags": []
   },
   "source": [
    "<!-- <script>\n",
    "  function code_toggle() {\n",
    "    if (code_shown){\n",
    "      $('div.input').hide('500');\n",
    "      $('#toggleButton').val('Show Code')\n",
    "    } else {\n",
    "      $('div.input').show('500');\n",
    "      $('#toggleButton').val('Hide Code')\n",
    "    }\n",
    "    code_shown = !code_shown\n",
    "  }\n",
    "\n",
    "  $( document ).ready(function(){\n",
    "    code_shown=false;\n",
    "    $('div.input').hide()\n",
    "  });\n",
    "</script>\n",
    "<form action=\"javascript:code_toggle()\">\n",
    "  <input type=\"submit\" id=\"toggleButton\" value=\"Show Code\">\n",
    "</form> -->"
   ]
  },
  {
   "cell_type": "markdown",
   "metadata": {
    "tags": []
   },
   "source": [
    "# <font color='teal'> <b> STEMFIE-X  gears.scad</b></font>\n",
    "\n",
    "<img src=\"./img/banner_02.png\" width=\"800\">\n",
    "\n",
    "Knižnica *gears* slúži na vytváranie ozubených kolies a ich príslušenstva podľa DIN780. Original knižnice je na [github-e](https://github.com/chrisspen/gears/blob/master/gears.scad), dokumentácia k jednotlivým typom ozubených komponentov a ich parametrom je v súbore knižnice spolu s príkladmi použitia. Nižšie sú uvedené vybrané typy ozubených kolies a príklady ich použitia.\n",
    "<br>\n",
    "\n",
    "## <font color='navy'> <b> spur_gear() </b></font>\n",
    "\n",
    "Základný typ čelného ozubeného kolesa. Pre čelné ozubené kolesá (*spur gear*) je osová vzdialenost v jednotkách BU pre dve ozubené kolesá s počtami zubov $n_1$ a $n_2$ daná vzťahom\n",
    "\n",
    "\\begin{equation*}\n",
    "d = \\frac{n_1 + n_2}{20}\n",
    "\\end{equation*}\n",
    "\n",
    "```C\n",
    "spur_gear (modul=1, tooth_number=30, width=5, \n",
    "           bore=4, pressure_angle=20, helix_angle=20, optimized=true);\n",
    "```\n",
    "    \n",
    "### <font color='teal'> <b> Parametre </b></font>\n",
    "\n",
    "    modul          - height of the Tooth Tip beyond the Pitch Circle\n",
    "    tooth_number   - number of Gear Teeth\n",
    "    width          - tooth_width\n",
    "    bore           - diameter of the Center Hole\n",
    "    pressure_angle - pressure angle, standard = 20° according to DIN 867. \n",
    "                     should not exceed 45°.\n",
    "    helix_angle    - helix angle to the axis of rotation; 0° = Spur Teeth\n",
    "    optimized      - create holes for material-/weight-Saving or \n",
    "                     surface enhancements where geometry allows \n"
   ]
  },
  {
   "cell_type": "markdown",
   "metadata": {},
   "source": [
    "### <font color='purple'> <b> Príklady </b></font>\n",
    "\n",
    "```C\n",
    "spur_gear (modul=1, tooth_number=30, width=BU/2, \n",
    "           bore=HoleRadius*2, pressure_angle=20, helix_angle=0, optimized=false);\n",
    "```"
   ]
  },
  {
   "cell_type": "markdown",
   "metadata": {
    "tags": []
   },
   "source": [
    "<!-- from IPython.display import Image\n",
    "Image(filename='./img/img_0127.png', width=400) -->\n",
    "\n",
    "\n",
    "<img src=\"./img/img_0127.png\" width=\"500\">"
   ]
  },
  {
   "cell_type": "markdown",
   "metadata": {},
   "source": [
    "Dve čelné ozubené kolesá s počtom zubov 30, osová vzdialenosť (30+30)/20=3 BU.\n",
    "```C\n",
    "// priesvitna spojka\n",
    "#BU_Tz(0.5) brace(4, h = 0.5, holes = true);\n",
    "\n",
    "// ozubene koleso\n",
    "spur_gear (modul=1, tooth_number=30, width=BU/2, \n",
    "           bore=HoleRadius*2, pressure_angle=20, \n",
    "           helix_angle=0, optimized=false);\n",
    "\n",
    "// druhe ozubene koleso, posun o 3BU a rotacia o 1/2 zuba\n",
    "BU_Tx(3)  Rz(360/30/2) \n",
    "spur_gear (modul=1, tooth_number=30, width=BU/2, \n",
    "           bore=HoleRadius*2, pressure_angle=20, \n",
    "           helix_angle=0, optimized=false);\n",
    "```"
   ]
  },
  {
   "cell_type": "markdown",
   "metadata": {},
   "source": [
    "<!-- Image(filename='./img/img_0128.png', width=600) -->\n",
    "\n",
    "<img src=\"./img/img_0128.png\" width=\"500\">"
   ]
  },
  {
   "cell_type": "markdown",
   "metadata": {},
   "source": [
    "<br>\n",
    "\n",
    "Dve čelné ozubené kolesá s počtom zubov 15 a 25, osová vzdialenosť (15+25)/20=2 BU.\n",
    "```C\n",
    "#BU_Tz(0.5) brace(3, h = 0.5, holes = true);\n",
    "  \n",
    "spur_gear (modul=1, tooth_number=15, width=BU/2, \n",
    "           bore=HoleRadius*2, pressure_angle=20, \n",
    "           helix_angle=0, optimized=false);\n",
    "  \n",
    "BU_Tx(2)  Rz(0) \n",
    "spur_gear (modul=1, tooth_number=25, width=BU/2, \n",
    "           bore=HoleRadius*2, pressure_angle=20, \n",
    "           helix_angle=0, optimized=false);\n",
    "```"
   ]
  },
  {
   "cell_type": "markdown",
   "metadata": {},
   "source": [
    "<!-- Image(filename='./img/img_0129.png', width=600) -->\n",
    "\n",
    "<img src=\"./img/img_0129.png\" width=\"500\">"
   ]
  },
  {
   "cell_type": "markdown",
   "metadata": {},
   "source": [
    "<br>\n",
    "\n",
    "Jednoduchá prevodovka.\n",
    "\n",
    "```C\n",
    "#BU_Tz(1) brace(3, h = 0.5, holes = true);\n",
    "  \n",
    "spur_gear (modul=1, tooth_number=28, width=BU/2, \n",
    "           bore=HoleRadius*2, pressure_angle=20, \n",
    "           helix_angle=0, optimized=false);\n",
    "  \n",
    "BU_Tz(1/2)  \n",
    "spur_gear (modul=1, tooth_number=12, width=BU/2, \n",
    "           bore=HoleRadius*2, pressure_angle=20, \n",
    "           helix_angle=0, optimized=false);\n",
    "\n",
    "color(\"green\") BU_Tz(1/2) BU_Tx(2) Rz(6)      \n",
    "spur_gear (modul=1, tooth_number=28, width=BU/2, \n",
    "           bore=HoleRadius*2, pressure_angle=20, \n",
    "           helix_angle=0, optimized=false);      \n",
    " \n",
    "// hriadele \n",
    "TKx(2*BU) color(\"blue\") BU_Tz(1/2) Cy(HoleRadius, 2*BU); \n",
    "```"
   ]
  },
  {
   "cell_type": "markdown",
   "metadata": {},
   "source": [
    "<!-- Image(filename='./img/img_0130.png', width=600) -->\n",
    "\n",
    "\n",
    "<img src=\"./img/img_0130.png\" width=\"500\">"
   ]
  },
  {
   "cell_type": "markdown",
   "metadata": {},
   "source": [
    "<br>\n",
    "\n",
    "## <font color='navy'> <b> bevel_gear_pair() </b></font>\n",
    "\n",
    "\n",
    "Zjednodušený návrh konštrukcie páru kužeľových ozubených kolies s nastaviteľnými parametrami. Pre 3D tlač umožňuje rozloženie na samostatné časti.\n",
    "\n",
    "```C\n",
    "bevel_gear_pair(modul, gear_teeth, pinion_teeth, \n",
    "                axis_angle=90, tooth_width, \n",
    "                gear_bore, pinion_bore, \n",
    "                pressure_angle=20, helix_angle=0, together_built=true)\n",
    "```\n",
    "    \n",
    "### <font color='teal'> <b> Parametre </b></font>\n",
    "\n",
    "    modul          - Height of the Tooth Tip over the Partial Cone; \n",
    "                     Specification for the Outside of the Cone\n",
    "    gear_teeth     - Number of Gear Teeth on the Gear\n",
    "    pinion_teeth   - Number of Gear Teeth on the Pinion\n",
    "    axis_angle     - Angle between the Axles of the Gear and Pinion\n",
    "    tooth_width    - Width of the Teeth from the Outside toward the apex of the Cone\n",
    "    gear_bore      - Diameter of the Center Hole of the Gear\n",
    "    pinion_bore    - Diameter of the Center Bore of the Gear\n",
    "    pressure_angle - Pressure Angle, Standard = 20° according to DIN 867. \n",
    "                     Should not exceed 45°.\n",
    "    helix_angle    - Helix Angle, Standard = 0°\n",
    "    together_built - Components assembled for Construction \n",
    "                     or separated for 3D-Printing\n",
    "        \n",
    "### <font color='purple'> <b> Príklady </b></font>\n",
    "\n",
    "```C\n",
    "bevel_gear_pair(modul=1, gear_teeth=30, pinion_teeth=18, axis_angle=90, tooth_width=10, \n",
    "                gear_bore=HoleRadius*2, pinion_bore=HoleRadius*2, \n",
    "                pressure_angle = 20, helix_angle=0, together_built=true);\n",
    "    \n",
    "color(\"blue\") Cy(HoleRadius, 2*BU); \n",
    "color(\"blue\") Ry(90) BU_Tx(-1) BU_Tz(-1.5) Cy(HoleRadius, 2*BU); \n",
    "```"
   ]
  },
  {
   "cell_type": "markdown",
   "metadata": {
    "tags": []
   },
   "source": [
    "<!-- Image(filename='./img/img_0131.png', width=600) -->\n",
    "\n",
    "<img src=\"./img/img_0131.png\" width=\"500\">"
   ]
  },
  {
   "cell_type": "markdown",
   "metadata": {},
   "source": [
    "<br>\n",
    "\n",
    "Rozdelenie sústavy pre 3D tlač na samostatné časti\n",
    "\n",
    "```C\n",
    "bevel_gear_pair(modul=1, gear_teeth=30, pinion_teeth=18, axis_angle=90, tooth_width=10, \n",
    "                gear_bore=HoleRadius*2, pinion_bore=HoleRadius*2, \n",
    "                pressure_angle = 20, helix_angle=0, together_built=false); \n",
    "```"
   ]
  },
  {
   "cell_type": "markdown",
   "metadata": {
    "tags": []
   },
   "source": [
    "<!-- Image(filename='./img/img_0132.png', width=600) -->\n",
    "\n",
    "<img src=\"./img/img_0132.png\" width=\"500\">\n",
    "\n",
    "<img src=\"./img/banner_02.png\" width=\"800\">"
   ]
  }
 ],
 "metadata": {
  "kernelspec": {
   "display_name": "Python 3 (ipykernel)",
   "language": "python",
   "name": "python3"
  },
  "language_info": {
   "codemirror_mode": {
    "name": "ipython",
    "version": 3
   },
   "file_extension": ".py",
   "mimetype": "text/x-python",
   "name": "python",
   "nbconvert_exporter": "python",
   "pygments_lexer": "ipython3",
   "version": "3.8.10"
  }
 },
 "nbformat": 4,
 "nbformat_minor": 4
}
