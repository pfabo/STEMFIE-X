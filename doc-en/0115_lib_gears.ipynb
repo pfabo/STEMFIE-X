{
 "cells": [
  {
   "cell_type": "markdown",
   "metadata": {
    "tags": []
   },
   "source": [
    "# <font color='teal'> <b> STEMFIE-X  gears.scad</b></font>\n",
    "\n",
    "<img src=\"./img/banner_02.png\" width=\"800\">\n",
    "\n",
    "The *gears* library is used to create gears and their accessories according to DIN780. The original library is on [github-e](https://github.com/chrisspen/gears/blob/master/gears.scad), the documentation for individual types of gear components and their parameters is in the library file together with examples of use. Below are selected types of gears and examples of their use..\n",
    "<br>\n",
    "\n",
    "## <font color='navy'> <b> spur_gear() </b></font>\n",
    "\n",
    "```C\n",
    "spur_gear (modul, tooth_number, width, bore, pressure_angle=20, helix_angle=20, optimized=true);\n",
    "```\n",
    "\n",
    "### <font color='teal'> <b> Parameters </b></font>\n",
    "\n",
    "    modul          - height of the Tooth Tip beyond the Pitch Circle\n",
    "    tooth_number   - number of Gear Teeth\n",
    "    width          - tooth_width\n",
    "    bore           - diameter of the Center Hole\n",
    "    pressure_angle - pressure angle, standard = 20° according to DIN 867. \n",
    "                     should not exceed 45°.\n",
    "    helix_angle    - helix angle to the axis of rotation; 0° = Spur Teeth\n",
    "    optimized      - create holes for material-/weight-Saving or \n",
    "                     surface enhancements where geometry allows \n",
    "\n",
    "The basic type of spur gear. For spur gears (*spur gear*) with $modul=1$, the axial distance in BU units for two gears with the number of teeth $n_1$ and $n_2$ is given by the relation\n",
    "\n",
    "\\begin{equation*}\n",
    "d = \\frac{n_1 + n_2}{20}\n",
    "\\end{equation*}"
   ]
  },
  {
   "cell_type": "markdown",
   "metadata": {},
   "source": [
    "### <font color='purple'> <b> Examples </b></font>\n",
    "\n",
    "```C\n",
    "spur_gear (modul=1, tooth_number=30, width=BU/2, \n",
    "           bore=HoleRadius*2, pressure_angle=20, helix_angle=0, optimized=false);\n",
    "```"
   ]
  },
  {
   "cell_type": "markdown",
   "metadata": {
    "tags": []
   },
   "source": [
    "<!-- from IPython.display import Image\n",
    "Image(filename='./img/img_0127.png', width=400) -->\n",
    "\n",
    "\n",
    "<img src=\"./img/img_0127.png\" width=\"500\">"
   ]
  },
  {
   "cell_type": "markdown",
   "metadata": {},
   "source": [
    "Two spur gears with the number of teeth 30, axial distance (30+30)/20=3 BU.\n",
    "\n",
    "```C\n",
    "#BU_Tz(0.5) brace(4, h = 0.5, holes = true);\n",
    "\n",
    "// left gear\n",
    "spur_gear (modul=1, tooth_number=30, width=BU/2,  bore=HoleRadius*2, \n",
    "           pressure_angle=20, helix_angle=0, optimized=false);\n",
    "\n",
    "// right gear, shifted 3BU, rotated 1/2 tooth\n",
    "BU_Tx(3)  Rz(360/30/2) \n",
    "spur_gear (modul=1, tooth_number=30, width=BU/2,bore=HoleRadius*2, \n",
    "           pressure_angle=20, helix_angle=0, optimized=false);\n",
    "```"
   ]
  },
  {
   "cell_type": "markdown",
   "metadata": {},
   "source": [
    "<!-- Image(filename='./img/img_0128.png', width=600) -->\n",
    "\n",
    "<img src=\"./img/img_0128.png\" width=\"500\">"
   ]
  },
  {
   "cell_type": "markdown",
   "metadata": {},
   "source": [
    "<br>\n",
    "\n",
    "Two spur gears with the number of teeth 15 and 25, axial distance (15+25)/20=2 BU.\n",
    "```C\n",
    "#BU_Tz(0.5) brace(3, h = 0.5, holes = true);\n",
    "  \n",
    "spur_gear (modul=1, tooth_number=15, width=BU/2, \n",
    "           bore=HoleRadius*2, pressure_angle=20, \n",
    "           helix_angle=0, optimized=false);\n",
    "  \n",
    "BU_Tx(2)  Rz(0) \n",
    "spur_gear (modul=1, tooth_number=25, width=BU/2, \n",
    "           bore=HoleRadius*2, pressure_angle=20, \n",
    "           helix_angle=0, optimized=false);\n",
    "```"
   ]
  },
  {
   "cell_type": "markdown",
   "metadata": {},
   "source": [
    "<!-- Image(filename='./img/img_0129.png', width=600) -->\n",
    "\n",
    "<img src=\"./img/img_0129.png\" width=\"500\">"
   ]
  },
  {
   "cell_type": "markdown",
   "metadata": {},
   "source": [
    "<br>\n",
    "\n",
    "Simple gearbox.\n",
    "\n",
    "```C\n",
    "#BU_Tz(1) brace(3, h = 0.5, holes = true);\n",
    "  \n",
    "spur_gear (modul=1, tooth_number=28, width=BU/2, \n",
    "           bore=HoleRadius*2, pressure_angle=20, \n",
    "           helix_angle=0, optimized=false);\n",
    "  \n",
    "BU_Tz(1/2)  \n",
    "spur_gear (modul=1, tooth_number=12, width=BU/2, \n",
    "           bore=HoleRadius*2, pressure_angle=20, \n",
    "           helix_angle=0, optimized=false);\n",
    "\n",
    "color(\"green\") BU_Tz(1/2) BU_Tx(2) Rz(6)      \n",
    "spur_gear (modul=1, tooth_number=28, width=BU/2, \n",
    "           bore=HoleRadius*2, pressure_angle=20, \n",
    "           helix_angle=0, optimized=false);      \n",
    " \n",
    "// hriadele \n",
    "TKx(2*BU) color(\"blue\") BU_Tz(1/2) Cy(HoleRadius, 2*BU); \n",
    "```"
   ]
  },
  {
   "cell_type": "markdown",
   "metadata": {},
   "source": [
    "<!-- Image(filename='./img/img_0130.png', width=600) -->\n",
    "\n",
    "\n",
    "<img src=\"./img/img_0130.png\" width=\"500\">"
   ]
  },
  {
   "cell_type": "markdown",
   "metadata": {},
   "source": [
    "<br>\n",
    "\n",
    "## <font color='navy'> <b> bevel_gear_pair() </b></font>\n",
    "\n",
    "\n",
    "A simplified design of a pair of bevel gears with adjustable parameters. For 3D printing, it allows disassembly into separate parts.\n",
    "\n",
    "```C\n",
    "bevel_gear_pair(modul, gear_teeth, pinion_teeth, axis_angle=90, tooth_width, gear_bore, pinion_bore, \n",
    "                pressure_angle=20, helix_angle=0, together_built=true)\n",
    "```\n",
    "    \n",
    "### <font color='teal'> <b> Parameters </b></font>\n",
    "\n",
    "    modul          - Height of the Tooth Tip over the Partial Cone; \n",
    "                     Specification for the Outside of the Cone\n",
    "    gear_teeth     - Number of Gear Teeth on the Gear\n",
    "    pinion_teeth   - Number of Gear Teeth on the Pinion\n",
    "    axis_angle     - Angle between the Axles of the Gear and Pinion\n",
    "    tooth_width    - Width of the Teeth from the Outside toward the apex of the Cone\n",
    "    gear_bore      - Diameter of the Center Hole of the Gear\n",
    "    pinion_bore    - Diameter of the Center Bore of the Gear\n",
    "    pressure_angle - Pressure Angle, Standard = 20° according to DIN 867. \n",
    "                     Should not exceed 45°.\n",
    "    helix_angle    - Helix Angle, Standard = 0°\n",
    "    together_built - Components assembled for Construction \n",
    "                     or separated for 3D-Printing\n",
    "        \n",
    "### <font color='purple'> <b> Examples </b></font>\n",
    "\n",
    "```C\n",
    "bevel_gear_pair(modul=1, gear_teeth=30, pinion_teeth=18, axis_angle=90, tooth_width=10, \n",
    "                gear_bore=HoleRadius*2, pinion_bore=HoleRadius*2, \n",
    "                pressure_angle = 20, helix_angle=0, together_built=true);\n",
    "    \n",
    "color(\"blue\") Cy(HoleRadius, 2*BU); \n",
    "color(\"blue\") Ry(90) BU_Tx(-1) BU_Tz(-1.5) Cy(HoleRadius, 2*BU); \n",
    "```"
   ]
  },
  {
   "cell_type": "markdown",
   "metadata": {
    "tags": []
   },
   "source": [
    "<!-- Image(filename='./img/img_0131.png', width=600) -->\n",
    "\n",
    "<img src=\"./img/img_0131.png\" width=\"500\">"
   ]
  },
  {
   "cell_type": "markdown",
   "metadata": {},
   "source": [
    "<br>\n",
    "\n",
    "Division into separate parts\n",
    "\n",
    "```C\n",
    "bevel_gear_pair(modul=1, gear_teeth=30, pinion_teeth=18, axis_angle=90, tooth_width=10, \n",
    "                gear_bore=HoleRadius*2, pinion_bore=HoleRadius*2, \n",
    "                pressure_angle = 20, helix_angle=0, together_built=false); \n",
    "```"
   ]
  },
  {
   "cell_type": "markdown",
   "metadata": {
    "tags": []
   },
   "source": [
    "<!-- Image(filename='./img/img_0132.png', width=600) -->\n",
    "\n",
    "<img src=\"./img/img_0132.png\" width=\"500\">\n",
    "\n",
    "<img src=\"./img/banner_02.png\" width=\"800\">"
   ]
  }
 ],
 "metadata": {
  "kernelspec": {
   "display_name": "Python 3 (ipykernel)",
   "language": "python",
   "name": "python3"
  },
  "language_info": {
   "codemirror_mode": {
    "name": "ipython",
    "version": 3
   },
   "file_extension": ".py",
   "mimetype": "text/x-python",
   "name": "python",
   "nbconvert_exporter": "python",
   "pygments_lexer": "ipython3",
   "version": "3.8.10"
  }
 },
 "nbformat": 4,
 "nbformat_minor": 4
}
