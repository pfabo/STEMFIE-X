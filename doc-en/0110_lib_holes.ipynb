{
 "cells": [
  {
   "cell_type": "markdown",
   "metadata": {
    "tags": []
   },
   "source": [
    "# <font color='teal'> <b> STEMFIE-X holes.scad</b></font>\n",
    "\n",
    "<img src=\"./img/banner_02.png\" width=\"800\">\n",
    "\n",
    "The *holes* library is used to create hole objects that are created on the final object using the *difference()* operation. Hole parameters are defined by the ***HoleRadius*** constant in the file **./lib/constants.scad**.\n",
    "<br>  \n",
    "\n",
    "## <font color='navy'> <b> hole() </b></font>\n",
    "\n",
    "Creation of hole object, dimensions are in BU.\n",
    "\n",
    "```C\n",
    "hole(<depth = 1>);\n",
    "```\n",
    "    \n",
    "### <font color='teal'> <b> Parameters </b></font>\n",
    "\n",
    "    depth        - hole object of specified depth, default 1 BU\n"
   ]
  },
  {
   "cell_type": "markdown",
   "metadata": {},
   "source": [
    "### <font color='purple'> <b> Examples </b></font>\n",
    "\n",
    "```C\n",
    "hole();\n",
    "```"
   ]
  },
  {
   "cell_type": "markdown",
   "metadata": {
    "tags": []
   },
   "source": [
    "<!-- # from IPython.display import Image\n",
    "# Image(filename='./img/img_0118.png', width=400) -->\n",
    "\n",
    "<img src=\"./img/img_0118.png\" width=\"400\">"
   ]
  },
  {
   "cell_type": "markdown",
   "metadata": {},
   "source": [
    "```C\n",
    "diffrence(){\n",
    "    BU_cube([1,1,.5]);\n",
    "    hole(1);\n",
    "    }\n",
    "```"
   ]
  },
  {
   "cell_type": "markdown",
   "metadata": {
    "tags": []
   },
   "source": [
    "<!-- Image(filename='./img/img_0119.png', width=400) -->\n",
    "\n",
    "<img src=\"./img/img_0119.png\" width=\"400\">"
   ]
  },
  {
   "cell_type": "markdown",
   "metadata": {},
   "source": [
    "<br>\n",
    "    \n",
    "## <font color='navy'> <b> hole_grid() </b></font>\n",
    "\n",
    "Creates a grid of objects for creating holes.\n",
    "\n",
    "```C\n",
    "hole_grid(size = [1,1], l = 1);\n",
    "```\n",
    "    \n",
    "### <font color='teal'> <b> Parameters </b></font>\n",
    "\n",
    "    size = [x,y]    - grid dimensions\n",
    "    l=1             - height of objects, default value 1 BU\n",
    "\n",
    "\n",
    "### <font color='purple'> <b> Examples </b></font>\n",
    "\n",
    "```C\n",
    "hole_grid([4,5]);\n",
    "```"
   ]
  },
  {
   "cell_type": "markdown",
   "metadata": {},
   "source": [
    "<!-- Image(filename='./img/img_0120.png', width=400) -->\n",
    "\n",
    "<img src=\"./img/img_0120.png\" width=\"400\">"
   ]
  },
  {
   "cell_type": "markdown",
   "metadata": {},
   "source": [
    "```C\n",
    "difference()\n",
    "   {\n",
    "     BU_cube([4, 5, 0.5]);\n",
    "     hole_grid([4,5]);\n",
    "   }\n",
    "```"
   ]
  },
  {
   "cell_type": "markdown",
   "metadata": {},
   "source": [
    "<!-- Image(filename='./img/img_0121.png', width=400) -->\n",
    "\n",
    "<img src=\"./img/img_0121.png\" width=\"400\">"
   ]
  },
  {
   "cell_type": "markdown",
   "metadata": {},
   "source": [
    "<br>\n",
    "\n",
    "## <font color='navy'> <b> hole_list() </b></font>\n",
    "\n",
    "Creates objects for creating holes according to the coordinates specified by the list.\n",
    "\n",
    "```C\n",
    "hole_list(list = [[0,0]], l = 1);\n",
    "```\n",
    "    \n",
    "### <font color='teal'> <b> Parameters </b></font>\n",
    "\n",
    "    list=[ [x,y], ...] - list of pairs of [x,y] coordinates\n",
    "    l=1                - height of objects, default value 1 BU\n",
    "        \n",
    "### <font color='purple'> <b> Examples </b></font>\n",
    "\n",
    "```C\n",
    "hole_list([[0,0], [1,1], [3,1], [4,0]], l = 0.25);\n",
    "```\n",
    "\n",
    "<img src=\"./img/img_0122.png\" width=\"400\">"
   ]
  },
  {
   "cell_type": "markdown",
   "metadata": {},
   "source": [
    "```C\n",
    " difference()\n",
    "   {\n",
    "     brace(5, holes = false);\n",
    "     hole_list([[0,0],[4,0]], l = 0.25);\n",
    "   }\n",
    "```"
   ]
  },
  {
   "cell_type": "markdown",
   "metadata": {},
   "source": [
    "<!-- Image(filename='./img/img_0123.png', width=400) -->\n",
    "\n",
    "<img src=\"./img/img_0123.png\" width=\"400\">"
   ]
  },
  {
   "cell_type": "markdown",
   "metadata": {},
   "source": [
    "<br>\n",
    "\n",
    "## <font color='navy'> <b> hole_slot() </b></font>\n",
    "\n",
    "Creating an object for a groove\n",
    "\n",
    "```C\n",
    "hole_slot(position=[x,y], length=1, h=1);\n",
    "```\n",
    "    \n",
    "### <font color='teal'> <b> Parameters </b></font>\n",
    "\n",
    "    position  - position of the center of the groove\n",
    "    length    - groove length in BU\n",
    "    h=1       - the height of the groove object\n",
    "\n",
    "### <font color='purple'> <b> Examples </b></font>\n",
    "\n",
    "```C\n",
    "hole_slot(2);\n",
    "```"
   ]
  },
  {
   "cell_type": "markdown",
   "metadata": {
    "tags": []
   },
   "source": [
    "<!-- Image(filename='./img/img_0124.png', width=400) -->\n",
    "\n",
    "<img src=\"./img/img_0124.png\" width=\"400\">"
   ]
  },
  {
   "cell_type": "markdown",
   "metadata": {},
   "source": [
    "\n",
    "```C\n",
    " difference()\n",
    "   {\n",
    "     brace(5, holes = false);\n",
    "     {\n",
    "     hole_list([[0,0],[4,0]], l = 0.25);\n",
    "     hole_slot([2,0], 3, h=0.5);\n",
    "     }\n",
    "   }\n",
    "```"
   ]
  },
  {
   "cell_type": "markdown",
   "metadata": {
    "tags": []
   },
   "source": [
    "<!-- Image(filename='./img/img_0125.png', width=400) -->\n",
    "\n",
    "<img src=\"./img/img_0125.png\" width=\"400\">\n",
    "\n",
    "<img src=\"./img/banner_02.png\" width=\"800\">"
   ]
  }
 ],
 "metadata": {
  "kernelspec": {
   "display_name": "Python 3 (ipykernel)",
   "language": "python",
   "name": "python3"
  },
  "language_info": {
   "codemirror_mode": {
    "name": "ipython",
    "version": 3
   },
   "file_extension": ".py",
   "mimetype": "text/x-python",
   "name": "python",
   "nbconvert_exporter": "python",
   "pygments_lexer": "ipython3",
   "version": "3.8.10"
  }
 },
 "nbformat": 4,
 "nbformat_minor": 4
}
