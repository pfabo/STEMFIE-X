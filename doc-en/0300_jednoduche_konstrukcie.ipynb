{
 "cells": [
  {
   "cell_type": "markdown",
   "id": "5b843579-ae28-46e6-bbd6-de7fe7c7e4a4",
   "metadata": {
    "jupyter": {
     "source_hidden": true
    },
    "tags": []
   },
   "source": [
    "<!-- <script>\n",
    "  function code_toggle() {\n",
    "    if (code_shown){\n",
    "      $('div.input').hide('500');\n",
    "      $('#toggleButton').val('Show Code')\n",
    "    } else {\n",
    "      $('div.input').show('500');\n",
    "      $('#toggleButton').val('Hide Code')\n",
    "    }\n",
    "    code_shown = !code_shown\n",
    "  }\n",
    "\n",
    "  $( document ).ready(function(){\n",
    "    code_shown=false;\n",
    "    $('div.input').hide()\n",
    "  });\n",
    "</script>\n",
    "<form action=\"javascript:code_toggle()\">\n",
    "  <input type=\"submit\" id=\"toggleButton\" value=\"Show Code\">\n",
    "</form> -->"
   ]
  },
  {
   "cell_type": "markdown",
   "id": "fb440f76-6756-49aa-a777-cb4d948b8d9d",
   "metadata": {
    "tags": []
   },
   "source": [
    "# <font color='teal'> <b> STEMFIE-X Jednoduché konštrukcie</b></font>\n",
    "\n",
    "<img src=\"./img/banner_02.png\" width=\"800\">\n",
    "\n",
    "Rôzne neštandardné konštrukčné prvky získame jednoduchým pospájaním resp. poprekrývaním štandardných prvkov (beam, brace). Ak majú prvky spoločný prienik, vygenerovaný STL súbor pre tlač bude pospájané prvky pokladať za jeden objekt. \n",
    "\n",
    "#### <font color='red'> Upozornenie </font>\n",
    "    \n",
    "Pri vytváraní nových typov dielov dajte pozor na to, aby sa diely prekrývali (ak je to možné) alebo tesne dotýkali. Pokiaľ napríklad v dôsledku zaokrúhlovacích chýb bude medzi dielmi, ktoré majú vytvárať jeden celok, malá medzera, budú sa v STL súbore nachádzať ako samostané diely a slicer-program pri výrobe tlačových podkladov bude hlásiť chybu."
   ]
  },
  {
   "cell_type": "markdown",
   "id": "90c17868-afd8-40f7-88e7-47142c3333e7",
   "metadata": {},
   "source": [
    "## <font color='navy'> <b> Zalomená spojka </b></font>\n",
    "    \n",
    "```C\n",
    "angle = 60;\n",
    "brace(5, h = 1/4, holes = true);\n",
    "Rz(angle) brace(5, h = 1/4, holes = true);\n",
    "```\n",
    "\n",
    "<img src=\"./img/img_0138.png\" width=\"400\">"
   ]
  },
  {
   "cell_type": "markdown",
   "id": "b4e61eb9-1f6d-4c90-82d7-1070129d4c73",
   "metadata": {},
   "source": [
    "<br>\n",
    "\n",
    "## <font color='navy'> <b> Trojuholníková spojka </b></font>\n",
    "    \n",
    "```C\n",
    "module brace_triangle(size=5, h=1/4){\n",
    "    angle = 60;\n",
    "    brace(size, h = h, holes = true);\n",
    "    Rz(angle) brace(size, h = h, holes = true);\n",
    "    BU_Tx(size-1) Rz(2*angle) brace(size, h =h, holes = true);\n",
    "}\n",
    "\n",
    "brace_triangle(6, 1/2);\n",
    "```\n",
    "\n",
    "<img src=\"./img/img_0139.png\" width=\"400\">"
   ]
  },
  {
   "cell_type": "markdown",
   "id": "06389e01-5b8e-4bfc-81d0-27f2c07b9eef",
   "metadata": {},
   "source": [
    "<br>\n",
    "\n",
    "## <font color='navy'> <b> Spojka s ozubeným hrebeňom </b></font>\n",
    "\n",
    "    \n",
    "```C\n",
    "D(){\n",
    "    color(\"red\") brace(12, h = 0.5, holes = false);\n",
    "    hole_list([[0,0], [11,0] ]);\n",
    "}\n",
    "BU_Tx(5.5) BU_Ty(1/2) BU_Tz(1/2) Rx()  \n",
    "rack(modul=1, length=8*BU, height=BU/2, width=BU, pressure_angle=20, helix_angle=0);\n",
    "```\n",
    "\n",
    "<img src=\"./img/img_0140.png\" width=\"500\">"
   ]
  },
  {
   "cell_type": "markdown",
   "id": "e57bd26c-cf55-46b6-85dc-205a2a2baf6f",
   "metadata": {},
   "source": [
    "<br>\n",
    "\n",
    "## <font color='navy'> <b> Spojka s drážkou </b></font>\n",
    "    \n",
    "```C\n",
    "D(){\n",
    "    brace(7, 1/4, holes=false);\n",
    "    {\n",
    "    hole_slot([2,0],3,1);\n",
    "    hole_list([[0,0], [4,0], [5,0], [6,0]] );\n",
    "    }\n",
    " }\n",
    "```\n",
    "\n",
    "<img src=\"./img/img_0142.png\" width=\"500\">"
   ]
  },
  {
   "cell_type": "markdown",
   "id": "09ca97c9-ce4c-446f-b7d1-eb3c476b435d",
   "metadata": {},
   "source": [
    "<br>\n",
    "\n",
    "## <font color='navy'> <b> Lineárne vedenie </b></font>\n",
    "\n",
    "    \n",
    "Pri 3D tlači pohyblivých dielov potrebujeme pridať tolerancie, aby sa mohli diely voľne pohybovať. \n",
    "Pri generovaní medzery pre šupátko bol použitý operátor scale pre osi y a z s koeficientom 1.05.\n",
    "    \n",
    "```C\n",
    "include <../../lib/stemfie-10.scad>\n",
    "\n",
    "module rail(){\n",
    "    color(\"steelblue\") BU_Ty(-1) U(){\n",
    "        beam_block(size = [4,1,1], holes=[false, false, true], center=true);\n",
    "        BU_Tx(-2) BU_Ty(1/2) BU_Tz(-1/2)  BU_cube([4,1/8,1], center=false);\n",
    "    }\n",
    "}\n",
    "\n",
    "module slider()\n",
    "{\n",
    "    D(){\n",
    "        brace(10,1/2,holes=false);\n",
    "        hole_list([[0,0], [9,0]]);\n",
    "        }\n",
    "}\n",
    "\n",
    "D(){\n",
    "    MKy() rail();\n",
    "    BU_Tx(-4 - 1/2)  Sy(1.05) Sz(1.05) slider();\n",
    "    }\n",
    "    \n",
    "BU_Tx(-4 - 1/2) slider();\n",
    "```\n",
    "\n",
    "<img src=\"./img/img_0144.png\" width=\"500\">\n",
    "\n",
    "<img src=\"./img/img_0329.jpeg\" width=\"500\">\n",
    "\n",
    "<img src=\"./img/banner_02.png\" width=\"800\">"
   ]
  }
 ],
 "metadata": {
  "kernelspec": {
   "display_name": "Python 3 (ipykernel)",
   "language": "python",
   "name": "python3"
  },
  "language_info": {
   "codemirror_mode": {
    "name": "ipython",
    "version": 3
   },
   "file_extension": ".py",
   "mimetype": "text/x-python",
   "name": "python",
   "nbconvert_exporter": "python",
   "pygments_lexer": "ipython3",
   "version": "3.8.10"
  }
 },
 "nbformat": 4,
 "nbformat_minor": 5
}
