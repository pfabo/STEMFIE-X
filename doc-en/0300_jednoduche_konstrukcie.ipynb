{
 "cells": [
  {
   "cell_type": "markdown",
   "id": "fb440f76-6756-49aa-a777-cb4d948b8d9d",
   "metadata": {
    "tags": []
   },
   "source": [
    "# <font color='teal'> <b> STEMFIE-X Simple constructions </b></font>\n",
    "\n",
    "<img src=\"./img/banner_02.png\" width=\"800\">\n",
    "\n",
    "Various non-standard structural elements can be obtained by simply connecting or by overlapping standard elements (beam, brace). If the elements have a common intersection, the generated STL file for printing will consider the connected elements as one object.\n",
    "\n",
    "#### <font color='red'> Note </font>\n",
    "    \n",
    "When creating new part types, be careful that the parts overlap (if possible) or touch closely. If, for example, as a result of rounding errors of numerical operations, there is a small gap between the parts that are supposed to form one whole, they will be found as separate parts in the STL file, and the slicer program will report an error during the production of print materials."
   ]
  },
  {
   "cell_type": "markdown",
   "id": "90c17868-afd8-40f7-88e7-47142c3333e7",
   "metadata": {},
   "source": [
    "## <font color='navy'> <b> Folded brace </b></font>\n",
    "    \n",
    "```C\n",
    "angle = 60;\n",
    "brace(5, h = 1/4, holes = true);\n",
    "Rz(angle) brace(5, h = 1/4, holes = true);\n",
    "```\n",
    "\n",
    "<img src=\"./img/img_0138.png\" width=\"400\">"
   ]
  },
  {
   "cell_type": "markdown",
   "id": "b4e61eb9-1f6d-4c90-82d7-1070129d4c73",
   "metadata": {},
   "source": [
    "<br>\n",
    "\n",
    "## <font color='navy'> <b> Triangular brace </b></font>\n",
    "    \n",
    "```C\n",
    "module brace_triangle(size=5, h=1/4){\n",
    "    angle = 60;\n",
    "    brace(size, h = h, holes = true);\n",
    "    Rz(angle) brace(size, h = h, holes = true);\n",
    "    BU_Tx(size-1) Rz(2*angle) brace(size, h =h, holes = true);\n",
    "}\n",
    "\n",
    "brace_triangle(6, 1/2);\n",
    "```\n",
    "\n",
    "<img src=\"./img/img_0139.png\" width=\"400\">"
   ]
  },
  {
   "cell_type": "markdown",
   "id": "06389e01-5b8e-4bfc-81d0-27f2c07b9eef",
   "metadata": {},
   "source": [
    "<br>\n",
    "\n",
    "## <font color='navy'> <b> Brace with rack gears  </b></font>\n",
    "\n",
    "    \n",
    "```C\n",
    "D(){\n",
    "    color(\"red\") brace(12, h = 0.5, holes = false);\n",
    "    hole_list([[0,0], [11,0] ]);\n",
    "}\n",
    "BU_Tx(5.5) BU_Ty(1/2) BU_Tz(1/2) Rx()  \n",
    "rack(modul=1, length=8*BU, height=BU/2, width=BU, pressure_angle=20, helix_angle=0);\n",
    "```\n",
    "\n",
    "<img src=\"./img/img_0140.png\" width=\"500\">"
   ]
  },
  {
   "cell_type": "markdown",
   "id": "e57bd26c-cf55-46b6-85dc-205a2a2baf6f",
   "metadata": {},
   "source": [
    "<br>\n",
    "\n",
    "## <font color='navy'> <b> Brace with slot</b></font>\n",
    "    \n",
    "```C\n",
    "D(){\n",
    "    brace(7, 1/4, holes=false);\n",
    "    {\n",
    "    hole_slot([2,0],3,1);\n",
    "    hole_list([[0,0], [4,0], [5,0], [6,0]] );\n",
    "    }\n",
    " }\n",
    "```\n",
    "\n",
    "<img src=\"./img/img_0142.png\" width=\"500\">"
   ]
  },
  {
   "cell_type": "markdown",
   "id": "09ca97c9-ce4c-446f-b7d1-eb3c476b435d",
   "metadata": {},
   "source": [
    "<br>\n",
    "\n",
    "## <font color='navy'> <b> Linear guide </b></font>\n",
    "\n",
    "When 3D printing moving parts, we need to add tolerances so that the parts can move freely.\n",
    "When generating the gap for the shell, the scale operator was used for the y and z axes with a coefficient of 1.05.\n",
    "    \n",
    "```C\n",
    "include <../../lib/stemfie-10.scad>\n",
    "\n",
    "module rail(){\n",
    "    color(\"steelblue\") BU_Ty(-1) U(){\n",
    "        beam_block(size = [4,1,1], holes=[false, false, true], center=true);\n",
    "        BU_Tx(-2) BU_Ty(1/2) BU_Tz(-1/2)  BU_cube([4,1/8,1], center=false);\n",
    "    }\n",
    "}\n",
    "\n",
    "module slider()\n",
    "{\n",
    "    D(){\n",
    "        brace(10,1/2,holes=false);\n",
    "        hole_list([[0,0], [9,0]]);\n",
    "        }\n",
    "}\n",
    "\n",
    "D(){\n",
    "    MKy() rail();\n",
    "    BU_Tx(-4 - 1/2)  Sy(1.05) Sz(1.05) slider();\n",
    "    }\n",
    "    \n",
    "BU_Tx(-4 - 1/2) slider();\n",
    "```\n",
    "\n",
    "<img src=\"./img/img_0144.png\" width=\"500\">\n",
    "\n",
    "<img src=\"./img/img_0329.jpeg\" width=\"500\">\n",
    "\n",
    "<img src=\"./img/banner_02.png\" width=\"800\">"
   ]
  }
 ],
 "metadata": {
  "kernelspec": {
   "display_name": "Python 3 (ipykernel)",
   "language": "python",
   "name": "python3"
  },
  "language_info": {
   "codemirror_mode": {
    "name": "ipython",
    "version": 3
   },
   "file_extension": ".py",
   "mimetype": "text/x-python",
   "name": "python",
   "nbconvert_exporter": "python",
   "pygments_lexer": "ipython3",
   "version": "3.8.10"
  }
 },
 "nbformat": 4,
 "nbformat_minor": 5
}
